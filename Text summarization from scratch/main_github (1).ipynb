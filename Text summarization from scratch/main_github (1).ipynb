{
  "cells": [
    {
      "cell_type": "code",
      "execution_count": 1,
      "metadata": {
        "id": "aXQb7wN72PSw"
      },
      "outputs": [],
      "source": [
        "import re\n",
        "import os\n",
        "import time\n",
        "import numpy as np\n",
        "import pandas as pd\n",
        "import unicodedata\n",
        "import tensorflow as tf\n",
        "import tensorflow.keras as krs\n",
        "from tensorflow.keras.layers import Embedding\n",
        "from tensorflow.keras.optimizers import Adam\n",
        "from tensorflow.keras.losses import SparseCategoricalCrossentropy, CategoricalCrossentropy\n",
        "from tensorflow.keras.preprocessing.text import Tokenizer\n",
        "from tensorflow.keras.optimizers.schedules import LearningRateSchedule\n",
        "import csv\n",
        "\n",
        "BUFFER_SIZE = 20000\n",
        "BATCH_SIZE = 64\n",
        "embedding_dim = 50 # first it was 200"
      ]
    },
    {
      "cell_type": "code",
      "source": [
        "from google.colab import drive\n",
        "drive.mount('/content/gdrive')\n"
      ],
      "metadata": {
        "colab": {
          "base_uri": "https://localhost:8080/"
        },
        "id": "eWkfyDJ03vd3",
        "outputId": "506f92ac-8400-4be4-8ea1-079a6b2eca9d"
      },
      "execution_count": 2,
      "outputs": [
        {
          "output_type": "stream",
          "name": "stdout",
          "text": [
            "Drive already mounted at /content/gdrive; to attempt to forcibly remount, call drive.mount(\"/content/gdrive\", force_remount=True).\n"
          ]
        }
      ]
    },
    {
      "cell_type": "code",
      "source": [
        "!pip install datasets"
      ],
      "metadata": {
        "colab": {
          "base_uri": "https://localhost:8080/"
        },
        "id": "nAVtwwrh5env",
        "outputId": "f3b70631-49fc-4f93-8816-e39f2d8bb1fd"
      },
      "execution_count": 3,
      "outputs": [
        {
          "output_type": "stream",
          "name": "stdout",
          "text": [
            "Requirement already satisfied: datasets in /usr/local/lib/python3.10/dist-packages (2.14.4)\n",
            "Requirement already satisfied: numpy>=1.17 in /usr/local/lib/python3.10/dist-packages (from datasets) (1.23.5)\n",
            "Requirement already satisfied: pyarrow>=8.0.0 in /usr/local/lib/python3.10/dist-packages (from datasets) (9.0.0)\n",
            "Requirement already satisfied: dill<0.3.8,>=0.3.0 in /usr/local/lib/python3.10/dist-packages (from datasets) (0.3.7)\n",
            "Requirement already satisfied: pandas in /usr/local/lib/python3.10/dist-packages (from datasets) (1.5.3)\n",
            "Requirement already satisfied: requests>=2.19.0 in /usr/local/lib/python3.10/dist-packages (from datasets) (2.31.0)\n",
            "Requirement already satisfied: tqdm>=4.62.1 in /usr/local/lib/python3.10/dist-packages (from datasets) (4.66.1)\n",
            "Requirement already satisfied: xxhash in /usr/local/lib/python3.10/dist-packages (from datasets) (3.3.0)\n",
            "Requirement already satisfied: multiprocess in /usr/local/lib/python3.10/dist-packages (from datasets) (0.70.15)\n",
            "Requirement already satisfied: fsspec[http]>=2021.11.1 in /usr/local/lib/python3.10/dist-packages (from datasets) (2023.6.0)\n",
            "Requirement already satisfied: aiohttp in /usr/local/lib/python3.10/dist-packages (from datasets) (3.8.5)\n",
            "Requirement already satisfied: huggingface-hub<1.0.0,>=0.14.0 in /usr/local/lib/python3.10/dist-packages (from datasets) (0.16.4)\n",
            "Requirement already satisfied: packaging in /usr/local/lib/python3.10/dist-packages (from datasets) (23.1)\n",
            "Requirement already satisfied: pyyaml>=5.1 in /usr/local/lib/python3.10/dist-packages (from datasets) (6.0.1)\n",
            "Requirement already satisfied: attrs>=17.3.0 in /usr/local/lib/python3.10/dist-packages (from aiohttp->datasets) (23.1.0)\n",
            "Requirement already satisfied: charset-normalizer<4.0,>=2.0 in /usr/local/lib/python3.10/dist-packages (from aiohttp->datasets) (3.2.0)\n",
            "Requirement already satisfied: multidict<7.0,>=4.5 in /usr/local/lib/python3.10/dist-packages (from aiohttp->datasets) (6.0.4)\n",
            "Requirement already satisfied: async-timeout<5.0,>=4.0.0a3 in /usr/local/lib/python3.10/dist-packages (from aiohttp->datasets) (4.0.3)\n",
            "Requirement already satisfied: yarl<2.0,>=1.0 in /usr/local/lib/python3.10/dist-packages (from aiohttp->datasets) (1.9.2)\n",
            "Requirement already satisfied: frozenlist>=1.1.1 in /usr/local/lib/python3.10/dist-packages (from aiohttp->datasets) (1.4.0)\n",
            "Requirement already satisfied: aiosignal>=1.1.2 in /usr/local/lib/python3.10/dist-packages (from aiohttp->datasets) (1.3.1)\n",
            "Requirement already satisfied: filelock in /usr/local/lib/python3.10/dist-packages (from huggingface-hub<1.0.0,>=0.14.0->datasets) (3.12.2)\n",
            "Requirement already satisfied: typing-extensions>=3.7.4.3 in /usr/local/lib/python3.10/dist-packages (from huggingface-hub<1.0.0,>=0.14.0->datasets) (4.7.1)\n",
            "Requirement already satisfied: idna<4,>=2.5 in /usr/local/lib/python3.10/dist-packages (from requests>=2.19.0->datasets) (3.4)\n",
            "Requirement already satisfied: urllib3<3,>=1.21.1 in /usr/local/lib/python3.10/dist-packages (from requests>=2.19.0->datasets) (2.0.4)\n",
            "Requirement already satisfied: certifi>=2017.4.17 in /usr/local/lib/python3.10/dist-packages (from requests>=2.19.0->datasets) (2023.7.22)\n",
            "Requirement already satisfied: python-dateutil>=2.8.1 in /usr/local/lib/python3.10/dist-packages (from pandas->datasets) (2.8.2)\n",
            "Requirement already satisfied: pytz>=2020.1 in /usr/local/lib/python3.10/dist-packages (from pandas->datasets) (2023.3)\n",
            "Requirement already satisfied: six>=1.5 in /usr/local/lib/python3.10/dist-packages (from python-dateutil>=2.8.1->pandas->datasets) (1.16.0)\n"
          ]
        }
      ]
    },
    {
      "cell_type": "markdown",
      "metadata": {
        "id": "w92jlcF32PTC"
      },
      "source": [
        "### Reading the data and droppping useless columns"
      ]
    },
    {
      "cell_type": "code",
      "execution_count": 4,
      "metadata": {
        "id": "n2GynRYg2PTI"
      },
      "outputs": [],
      "source": [
        "# Load XSum dataset from Hugging Face datasets library\n",
        "from datasets import load_dataset\n",
        "\n",
        "dataset = load_dataset(\"xsum\", \"1.0.0\")\n",
        "\n",
        "# Select and preprocess a subset of the dataset (100 data points)\n",
        "subset_size = 10\n",
        "subset_dataset = dataset[\"train\"].select(range(subset_size))"
      ]
    },
    {
      "cell_type": "code",
      "execution_count": 5,
      "metadata": {
        "colab": {
          "base_uri": "https://localhost:8080/",
          "height": 363
        },
        "id": "hQl1Lyet2PTN",
        "outputId": "3d8f1eff-bed3-49b1-d8bc-f8dd74cb30a5"
      },
      "outputs": [
        {
          "output_type": "execute_result",
          "data": {
            "text/plain": [
              "                                            document  \\\n",
              "0  The full cost of damage in Newton Stewart, one...   \n",
              "1  A fire alarm went off at the Holiday Inn in Ho...   \n",
              "2  Ferrari appeared in a position to challenge un...   \n",
              "3  John Edward Bates, formerly of Spalding, Linco...   \n",
              "4  Patients and staff were evacuated from Cerahpa...   \n",
              "5  Simone Favaro got the crucial try with the las...   \n",
              "6  Veronica Vanessa Chango-Alverez, 31, was kille...   \n",
              "7  Belgian cyclist Demoitie died after a collisio...   \n",
              "8  Gundogan, 26, told BBC Sport he \"can see the f...   \n",
              "9  The crash happened about 07:20 GMT at the junc...   \n",
              "\n",
              "                                             summary  \n",
              "0  Clean-up operations are continuing across the ...  \n",
              "1  Two tourist buses have been destroyed by fire ...  \n",
              "2  Lewis Hamilton stormed to pole position at the...  \n",
              "3  A former Lincolnshire Police officer carried o...  \n",
              "4  An armed man who locked himself into a room at...  \n",
              "5  Defending Pro12 champions Glasgow Warriors bag...  \n",
              "6  A man with links to a car that was involved in...  \n",
              "7  Welsh cyclist Luke Rowe says changes to the sp...  \n",
              "8  Manchester City midfielder Ilkay Gundogan says...  \n",
              "9  A jogger has been hit by an unmarked police ca...  "
            ],
            "text/html": [
              "\n",
              "  <div id=\"df-a3b077c4-afa3-4df6-8271-858742236e1e\" class=\"colab-df-container\">\n",
              "    <div>\n",
              "<style scoped>\n",
              "    .dataframe tbody tr th:only-of-type {\n",
              "        vertical-align: middle;\n",
              "    }\n",
              "\n",
              "    .dataframe tbody tr th {\n",
              "        vertical-align: top;\n",
              "    }\n",
              "\n",
              "    .dataframe thead th {\n",
              "        text-align: right;\n",
              "    }\n",
              "</style>\n",
              "<table border=\"1\" class=\"dataframe\">\n",
              "  <thead>\n",
              "    <tr style=\"text-align: right;\">\n",
              "      <th></th>\n",
              "      <th>document</th>\n",
              "      <th>summary</th>\n",
              "    </tr>\n",
              "  </thead>\n",
              "  <tbody>\n",
              "    <tr>\n",
              "      <th>0</th>\n",
              "      <td>The full cost of damage in Newton Stewart, one...</td>\n",
              "      <td>Clean-up operations are continuing across the ...</td>\n",
              "    </tr>\n",
              "    <tr>\n",
              "      <th>1</th>\n",
              "      <td>A fire alarm went off at the Holiday Inn in Ho...</td>\n",
              "      <td>Two tourist buses have been destroyed by fire ...</td>\n",
              "    </tr>\n",
              "    <tr>\n",
              "      <th>2</th>\n",
              "      <td>Ferrari appeared in a position to challenge un...</td>\n",
              "      <td>Lewis Hamilton stormed to pole position at the...</td>\n",
              "    </tr>\n",
              "    <tr>\n",
              "      <th>3</th>\n",
              "      <td>John Edward Bates, formerly of Spalding, Linco...</td>\n",
              "      <td>A former Lincolnshire Police officer carried o...</td>\n",
              "    </tr>\n",
              "    <tr>\n",
              "      <th>4</th>\n",
              "      <td>Patients and staff were evacuated from Cerahpa...</td>\n",
              "      <td>An armed man who locked himself into a room at...</td>\n",
              "    </tr>\n",
              "    <tr>\n",
              "      <th>5</th>\n",
              "      <td>Simone Favaro got the crucial try with the las...</td>\n",
              "      <td>Defending Pro12 champions Glasgow Warriors bag...</td>\n",
              "    </tr>\n",
              "    <tr>\n",
              "      <th>6</th>\n",
              "      <td>Veronica Vanessa Chango-Alverez, 31, was kille...</td>\n",
              "      <td>A man with links to a car that was involved in...</td>\n",
              "    </tr>\n",
              "    <tr>\n",
              "      <th>7</th>\n",
              "      <td>Belgian cyclist Demoitie died after a collisio...</td>\n",
              "      <td>Welsh cyclist Luke Rowe says changes to the sp...</td>\n",
              "    </tr>\n",
              "    <tr>\n",
              "      <th>8</th>\n",
              "      <td>Gundogan, 26, told BBC Sport he \"can see the f...</td>\n",
              "      <td>Manchester City midfielder Ilkay Gundogan says...</td>\n",
              "    </tr>\n",
              "    <tr>\n",
              "      <th>9</th>\n",
              "      <td>The crash happened about 07:20 GMT at the junc...</td>\n",
              "      <td>A jogger has been hit by an unmarked police ca...</td>\n",
              "    </tr>\n",
              "  </tbody>\n",
              "</table>\n",
              "</div>\n",
              "    <div class=\"colab-df-buttons\">\n",
              "\n",
              "  <div class=\"colab-df-container\">\n",
              "    <button class=\"colab-df-convert\" onclick=\"convertToInteractive('df-a3b077c4-afa3-4df6-8271-858742236e1e')\"\n",
              "            title=\"Convert this dataframe to an interactive table.\"\n",
              "            style=\"display:none;\">\n",
              "\n",
              "  <svg xmlns=\"http://www.w3.org/2000/svg\" height=\"24px\" viewBox=\"0 -960 960 960\">\n",
              "    <path d=\"M120-120v-720h720v720H120Zm60-500h600v-160H180v160Zm220 220h160v-160H400v160Zm0 220h160v-160H400v160ZM180-400h160v-160H180v160Zm440 0h160v-160H620v160ZM180-180h160v-160H180v160Zm440 0h160v-160H620v160Z\"/>\n",
              "  </svg>\n",
              "    </button>\n",
              "\n",
              "  <style>\n",
              "    .colab-df-container {\n",
              "      display:flex;\n",
              "      gap: 12px;\n",
              "    }\n",
              "\n",
              "    .colab-df-convert {\n",
              "      background-color: #E8F0FE;\n",
              "      border: none;\n",
              "      border-radius: 50%;\n",
              "      cursor: pointer;\n",
              "      display: none;\n",
              "      fill: #1967D2;\n",
              "      height: 32px;\n",
              "      padding: 0 0 0 0;\n",
              "      width: 32px;\n",
              "    }\n",
              "\n",
              "    .colab-df-convert:hover {\n",
              "      background-color: #E2EBFA;\n",
              "      box-shadow: 0px 1px 2px rgba(60, 64, 67, 0.3), 0px 1px 3px 1px rgba(60, 64, 67, 0.15);\n",
              "      fill: #174EA6;\n",
              "    }\n",
              "\n",
              "    .colab-df-buttons div {\n",
              "      margin-bottom: 4px;\n",
              "    }\n",
              "\n",
              "    [theme=dark] .colab-df-convert {\n",
              "      background-color: #3B4455;\n",
              "      fill: #D2E3FC;\n",
              "    }\n",
              "\n",
              "    [theme=dark] .colab-df-convert:hover {\n",
              "      background-color: #434B5C;\n",
              "      box-shadow: 0px 1px 3px 1px rgba(0, 0, 0, 0.15);\n",
              "      filter: drop-shadow(0px 1px 2px rgba(0, 0, 0, 0.3));\n",
              "      fill: #FFFFFF;\n",
              "    }\n",
              "  </style>\n",
              "\n",
              "    <script>\n",
              "      const buttonEl =\n",
              "        document.querySelector('#df-a3b077c4-afa3-4df6-8271-858742236e1e button.colab-df-convert');\n",
              "      buttonEl.style.display =\n",
              "        google.colab.kernel.accessAllowed ? 'block' : 'none';\n",
              "\n",
              "      async function convertToInteractive(key) {\n",
              "        const element = document.querySelector('#df-a3b077c4-afa3-4df6-8271-858742236e1e');\n",
              "        const dataTable =\n",
              "          await google.colab.kernel.invokeFunction('convertToInteractive',\n",
              "                                                    [key], {});\n",
              "        if (!dataTable) return;\n",
              "\n",
              "        const docLinkHtml = 'Like what you see? Visit the ' +\n",
              "          '<a target=\"_blank\" href=https://colab.research.google.com/notebooks/data_table.ipynb>data table notebook</a>'\n",
              "          + ' to learn more about interactive tables.';\n",
              "        element.innerHTML = '';\n",
              "        dataTable['output_type'] = 'display_data';\n",
              "        await google.colab.output.renderOutput(dataTable, element);\n",
              "        const docLink = document.createElement('div');\n",
              "        docLink.innerHTML = docLinkHtml;\n",
              "        element.appendChild(docLink);\n",
              "      }\n",
              "    </script>\n",
              "  </div>\n",
              "\n",
              "\n",
              "<div id=\"df-3cc962fd-b77b-4202-98bb-26631ae4d3d9\">\n",
              "  <button class=\"colab-df-quickchart\" onclick=\"quickchart('df-3cc962fd-b77b-4202-98bb-26631ae4d3d9')\"\n",
              "            title=\"Suggest charts.\"\n",
              "            style=\"display:none;\">\n",
              "\n",
              "<svg xmlns=\"http://www.w3.org/2000/svg\" height=\"24px\"viewBox=\"0 0 24 24\"\n",
              "     width=\"24px\">\n",
              "    <g>\n",
              "        <path d=\"M19 3H5c-1.1 0-2 .9-2 2v14c0 1.1.9 2 2 2h14c1.1 0 2-.9 2-2V5c0-1.1-.9-2-2-2zM9 17H7v-7h2v7zm4 0h-2V7h2v10zm4 0h-2v-4h2v4z\"/>\n",
              "    </g>\n",
              "</svg>\n",
              "  </button>\n",
              "\n",
              "<style>\n",
              "  .colab-df-quickchart {\n",
              "    background-color: #E8F0FE;\n",
              "    border: none;\n",
              "    border-radius: 50%;\n",
              "    cursor: pointer;\n",
              "    display: none;\n",
              "    fill: #1967D2;\n",
              "    height: 32px;\n",
              "    padding: 0 0 0 0;\n",
              "    width: 32px;\n",
              "  }\n",
              "\n",
              "  .colab-df-quickchart:hover {\n",
              "    background-color: #E2EBFA;\n",
              "    box-shadow: 0px 1px 2px rgba(60, 64, 67, 0.3), 0px 1px 3px 1px rgba(60, 64, 67, 0.15);\n",
              "    fill: #174EA6;\n",
              "  }\n",
              "\n",
              "  [theme=dark] .colab-df-quickchart {\n",
              "    background-color: #3B4455;\n",
              "    fill: #D2E3FC;\n",
              "  }\n",
              "\n",
              "  [theme=dark] .colab-df-quickchart:hover {\n",
              "    background-color: #434B5C;\n",
              "    box-shadow: 0px 1px 3px 1px rgba(0, 0, 0, 0.15);\n",
              "    filter: drop-shadow(0px 1px 2px rgba(0, 0, 0, 0.3));\n",
              "    fill: #FFFFFF;\n",
              "  }\n",
              "</style>\n",
              "\n",
              "  <script>\n",
              "    async function quickchart(key) {\n",
              "      const charts = await google.colab.kernel.invokeFunction(\n",
              "          'suggestCharts', [key], {});\n",
              "    }\n",
              "    (() => {\n",
              "      let quickchartButtonEl =\n",
              "        document.querySelector('#df-3cc962fd-b77b-4202-98bb-26631ae4d3d9 button');\n",
              "      quickchartButtonEl.style.display =\n",
              "        google.colab.kernel.accessAllowed ? 'block' : 'none';\n",
              "    })();\n",
              "  </script>\n",
              "</div>\n",
              "    </div>\n",
              "  </div>\n"
            ]
          },
          "metadata": {},
          "execution_count": 5
        }
      ],
      "source": [
        "data = {\"document\": dataset[\"train\"][\"document\"], \"summary\": dataset[\"train\"][\"summary\"]}\n",
        "df = pd.DataFrame(data)\n",
        "df=df.head(10)\n",
        "df"
      ]
    },
    {
      "cell_type": "code",
      "execution_count": 6,
      "metadata": {
        "colab": {
          "base_uri": "https://localhost:8080/"
        },
        "id": "KXZ_78172PTP",
        "outputId": "9491744c-ebc7-4c36-d8bf-c8d3409080b1"
      },
      "outputs": [
        {
          "output_type": "execute_result",
          "data": {
            "text/plain": [
              "((10, 1), (10, 1))"
            ]
          },
          "metadata": {},
          "execution_count": 6
        }
      ],
      "source": [
        "summaries, longreview = pd.DataFrame(), pd.DataFrame()\n",
        "summaries['short'] = df['summary']#[:data_to_use]\n",
        "longreview['long'] = df['document']#[:data_to_use]\n",
        "(summaries.shape,longreview.shape)"
      ]
    },
    {
      "cell_type": "markdown",
      "metadata": {
        "id": "AToUkiX42PTS"
      },
      "source": [
        "### Cleaning the data for training"
      ]
    },
    {
      "cell_type": "code",
      "execution_count": 7,
      "metadata": {
        "id": "RWd5oRmQ2PTW"
      },
      "outputs": [],
      "source": [
        "# replacing many abbreviations and lower casing the words\n",
        "def clean_words(sentence):\n",
        "    sentence = str(sentence).lower()\n",
        "    sentence = unicodedata.normalize('NFKD', sentence).encode('ascii', 'ignore').decode('utf-8', 'ignore') # for converting é to e and other accented chars\n",
        "    sentence = re.sub(r\"http\\S+\",\"\",sentence)\n",
        "    sentence = re.sub(r\"there's\", \"there is\", sentence)\n",
        "    sentence = re.sub(r\"i'm\", \"i am\", sentence)\n",
        "    sentence = re.sub(r\"he's\", \"he is\", sentence)\n",
        "    sentence = re.sub(r\"she's\", \"she is\", sentence)\n",
        "    sentence = re.sub(r\"it's\", \"it is\", sentence)\n",
        "    sentence = re.sub(r\"that's\", \"that is\", sentence)\n",
        "    sentence = re.sub(r\"what's\", \"that is\", sentence)\n",
        "    sentence = re.sub(r\"where's\", \"where is\", sentence)\n",
        "    sentence = re.sub(r\"how's\", \"how is\", sentence)\n",
        "    sentence = re.sub(r\"\\'ll\", \" will\", sentence)\n",
        "    sentence = re.sub(r\"\\'ve\", \" have\", sentence)\n",
        "    sentence = re.sub(r\"\\'re\", \" are\", sentence)\n",
        "    sentence = re.sub(r\"\\'d\", \" would\", sentence)\n",
        "    sentence = re.sub(r\"\\'re\", \" are\", sentence)\n",
        "    sentence = re.sub(r\"won't\", \"will not\", sentence)\n",
        "    sentence = re.sub(r\"can't\", \"cannot\", sentence)\n",
        "    sentence = re.sub(r\"n't\", \" not\", sentence)\n",
        "    sentence = re.sub(r\"n'\", \"ng\", sentence)\n",
        "    sentence = re.sub(r\"'bout\", \"about\", sentence)\n",
        "    sentence = re.sub(r\"'til\", \"until\", sentence)\n",
        "    sentence = re.sub(r\"\\\"\", \"\", sentence)\n",
        "    sentence = re.sub(r\"\\'\", \"\", sentence)\n",
        "    sentence = re.sub(r' s ', \"\",sentence)\n",
        "    sentence = re.sub(r\"&39\", \"\", sentence) # the inshorts data has this in it\n",
        "    sentence = re.sub(r\"&34\", \"\", sentence) # the inshorts data has this in it\n",
        "    sentence = re.sub(r\"[\\[\\]\\\\0-9()\\\"$#%/@;:<>{}`+=~|.!?,-]\", \"\", sentence)\n",
        "    sentence = re.sub(r\"&\", \"\", sentence)\n",
        "    sentence = re.sub(r\"\\\\n\", \"\", sentence)\n",
        "    sentence = sentence.strip()\n",
        "    return sentence"
      ]
    },
    {
      "cell_type": "code",
      "execution_count": 8,
      "metadata": {
        "id": "oR1f_swT2PTa"
      },
      "outputs": [],
      "source": [
        "summaries['short'] = summaries['short'].apply(lambda x: clean_words(x))\n",
        "longreview['long'] = longreview['long'].apply(lambda x: clean_words(x))"
      ]
    },
    {
      "cell_type": "code",
      "execution_count": 9,
      "metadata": {
        "colab": {
          "base_uri": "https://localhost:8080/",
          "height": 206
        },
        "id": "Dnc_WEQ12PTd",
        "outputId": "3ce92939-93cf-4475-86d0-f9a87d0cdc6a"
      },
      "outputs": [
        {
          "output_type": "execute_result",
          "data": {
            "text/plain": [
              "                                                long\n",
              "0  the full cost of damage in newton stewart one ...\n",
              "1  a fire alarm went off at the holiday inn in ho...\n",
              "2  ferrari appeared in a position to challenge un...\n",
              "3  john edward bates formerly of spalding lincoln...\n",
              "4  patients and staff were evacuated from cerahpa..."
            ],
            "text/html": [
              "\n",
              "  <div id=\"df-097411af-1527-4aa7-a25b-343dd1440e65\" class=\"colab-df-container\">\n",
              "    <div>\n",
              "<style scoped>\n",
              "    .dataframe tbody tr th:only-of-type {\n",
              "        vertical-align: middle;\n",
              "    }\n",
              "\n",
              "    .dataframe tbody tr th {\n",
              "        vertical-align: top;\n",
              "    }\n",
              "\n",
              "    .dataframe thead th {\n",
              "        text-align: right;\n",
              "    }\n",
              "</style>\n",
              "<table border=\"1\" class=\"dataframe\">\n",
              "  <thead>\n",
              "    <tr style=\"text-align: right;\">\n",
              "      <th></th>\n",
              "      <th>long</th>\n",
              "    </tr>\n",
              "  </thead>\n",
              "  <tbody>\n",
              "    <tr>\n",
              "      <th>0</th>\n",
              "      <td>the full cost of damage in newton stewart one ...</td>\n",
              "    </tr>\n",
              "    <tr>\n",
              "      <th>1</th>\n",
              "      <td>a fire alarm went off at the holiday inn in ho...</td>\n",
              "    </tr>\n",
              "    <tr>\n",
              "      <th>2</th>\n",
              "      <td>ferrari appeared in a position to challenge un...</td>\n",
              "    </tr>\n",
              "    <tr>\n",
              "      <th>3</th>\n",
              "      <td>john edward bates formerly of spalding lincoln...</td>\n",
              "    </tr>\n",
              "    <tr>\n",
              "      <th>4</th>\n",
              "      <td>patients and staff were evacuated from cerahpa...</td>\n",
              "    </tr>\n",
              "  </tbody>\n",
              "</table>\n",
              "</div>\n",
              "    <div class=\"colab-df-buttons\">\n",
              "\n",
              "  <div class=\"colab-df-container\">\n",
              "    <button class=\"colab-df-convert\" onclick=\"convertToInteractive('df-097411af-1527-4aa7-a25b-343dd1440e65')\"\n",
              "            title=\"Convert this dataframe to an interactive table.\"\n",
              "            style=\"display:none;\">\n",
              "\n",
              "  <svg xmlns=\"http://www.w3.org/2000/svg\" height=\"24px\" viewBox=\"0 -960 960 960\">\n",
              "    <path d=\"M120-120v-720h720v720H120Zm60-500h600v-160H180v160Zm220 220h160v-160H400v160Zm0 220h160v-160H400v160ZM180-400h160v-160H180v160Zm440 0h160v-160H620v160ZM180-180h160v-160H180v160Zm440 0h160v-160H620v160Z\"/>\n",
              "  </svg>\n",
              "    </button>\n",
              "\n",
              "  <style>\n",
              "    .colab-df-container {\n",
              "      display:flex;\n",
              "      gap: 12px;\n",
              "    }\n",
              "\n",
              "    .colab-df-convert {\n",
              "      background-color: #E8F0FE;\n",
              "      border: none;\n",
              "      border-radius: 50%;\n",
              "      cursor: pointer;\n",
              "      display: none;\n",
              "      fill: #1967D2;\n",
              "      height: 32px;\n",
              "      padding: 0 0 0 0;\n",
              "      width: 32px;\n",
              "    }\n",
              "\n",
              "    .colab-df-convert:hover {\n",
              "      background-color: #E2EBFA;\n",
              "      box-shadow: 0px 1px 2px rgba(60, 64, 67, 0.3), 0px 1px 3px 1px rgba(60, 64, 67, 0.15);\n",
              "      fill: #174EA6;\n",
              "    }\n",
              "\n",
              "    .colab-df-buttons div {\n",
              "      margin-bottom: 4px;\n",
              "    }\n",
              "\n",
              "    [theme=dark] .colab-df-convert {\n",
              "      background-color: #3B4455;\n",
              "      fill: #D2E3FC;\n",
              "    }\n",
              "\n",
              "    [theme=dark] .colab-df-convert:hover {\n",
              "      background-color: #434B5C;\n",
              "      box-shadow: 0px 1px 3px 1px rgba(0, 0, 0, 0.15);\n",
              "      filter: drop-shadow(0px 1px 2px rgba(0, 0, 0, 0.3));\n",
              "      fill: #FFFFFF;\n",
              "    }\n",
              "  </style>\n",
              "\n",
              "    <script>\n",
              "      const buttonEl =\n",
              "        document.querySelector('#df-097411af-1527-4aa7-a25b-343dd1440e65 button.colab-df-convert');\n",
              "      buttonEl.style.display =\n",
              "        google.colab.kernel.accessAllowed ? 'block' : 'none';\n",
              "\n",
              "      async function convertToInteractive(key) {\n",
              "        const element = document.querySelector('#df-097411af-1527-4aa7-a25b-343dd1440e65');\n",
              "        const dataTable =\n",
              "          await google.colab.kernel.invokeFunction('convertToInteractive',\n",
              "                                                    [key], {});\n",
              "        if (!dataTable) return;\n",
              "\n",
              "        const docLinkHtml = 'Like what you see? Visit the ' +\n",
              "          '<a target=\"_blank\" href=https://colab.research.google.com/notebooks/data_table.ipynb>data table notebook</a>'\n",
              "          + ' to learn more about interactive tables.';\n",
              "        element.innerHTML = '';\n",
              "        dataTable['output_type'] = 'display_data';\n",
              "        await google.colab.output.renderOutput(dataTable, element);\n",
              "        const docLink = document.createElement('div');\n",
              "        docLink.innerHTML = docLinkHtml;\n",
              "        element.appendChild(docLink);\n",
              "      }\n",
              "    </script>\n",
              "  </div>\n",
              "\n",
              "\n",
              "<div id=\"df-638a3039-bfac-4d8b-a4fe-c2dd7df35fda\">\n",
              "  <button class=\"colab-df-quickchart\" onclick=\"quickchart('df-638a3039-bfac-4d8b-a4fe-c2dd7df35fda')\"\n",
              "            title=\"Suggest charts.\"\n",
              "            style=\"display:none;\">\n",
              "\n",
              "<svg xmlns=\"http://www.w3.org/2000/svg\" height=\"24px\"viewBox=\"0 0 24 24\"\n",
              "     width=\"24px\">\n",
              "    <g>\n",
              "        <path d=\"M19 3H5c-1.1 0-2 .9-2 2v14c0 1.1.9 2 2 2h14c1.1 0 2-.9 2-2V5c0-1.1-.9-2-2-2zM9 17H7v-7h2v7zm4 0h-2V7h2v10zm4 0h-2v-4h2v4z\"/>\n",
              "    </g>\n",
              "</svg>\n",
              "  </button>\n",
              "\n",
              "<style>\n",
              "  .colab-df-quickchart {\n",
              "    background-color: #E8F0FE;\n",
              "    border: none;\n",
              "    border-radius: 50%;\n",
              "    cursor: pointer;\n",
              "    display: none;\n",
              "    fill: #1967D2;\n",
              "    height: 32px;\n",
              "    padding: 0 0 0 0;\n",
              "    width: 32px;\n",
              "  }\n",
              "\n",
              "  .colab-df-quickchart:hover {\n",
              "    background-color: #E2EBFA;\n",
              "    box-shadow: 0px 1px 2px rgba(60, 64, 67, 0.3), 0px 1px 3px 1px rgba(60, 64, 67, 0.15);\n",
              "    fill: #174EA6;\n",
              "  }\n",
              "\n",
              "  [theme=dark] .colab-df-quickchart {\n",
              "    background-color: #3B4455;\n",
              "    fill: #D2E3FC;\n",
              "  }\n",
              "\n",
              "  [theme=dark] .colab-df-quickchart:hover {\n",
              "    background-color: #434B5C;\n",
              "    box-shadow: 0px 1px 3px 1px rgba(0, 0, 0, 0.15);\n",
              "    filter: drop-shadow(0px 1px 2px rgba(0, 0, 0, 0.3));\n",
              "    fill: #FFFFFF;\n",
              "  }\n",
              "</style>\n",
              "\n",
              "  <script>\n",
              "    async function quickchart(key) {\n",
              "      const charts = await google.colab.kernel.invokeFunction(\n",
              "          'suggestCharts', [key], {});\n",
              "    }\n",
              "    (() => {\n",
              "      let quickchartButtonEl =\n",
              "        document.querySelector('#df-638a3039-bfac-4d8b-a4fe-c2dd7df35fda button');\n",
              "      quickchartButtonEl.style.display =\n",
              "        google.colab.kernel.accessAllowed ? 'block' : 'none';\n",
              "    })();\n",
              "  </script>\n",
              "</div>\n",
              "    </div>\n",
              "  </div>\n"
            ]
          },
          "metadata": {},
          "execution_count": 9
        }
      ],
      "source": [
        "longreview.head()"
      ]
    },
    {
      "cell_type": "code",
      "execution_count": 10,
      "metadata": {
        "colab": {
          "base_uri": "https://localhost:8080/",
          "height": 52
        },
        "id": "sc9hOINf2PTf",
        "outputId": "e4410293-fd9e-47aa-9f0c-5b337247e289"
      },
      "outputs": [
        {
          "output_type": "execute_result",
          "data": {
            "text/plain": [
              "'<startseq> defending pro champions glasgow warriors bagged a late bonuspoint victory over the dragons despite a host of absentees and two yellow cards <endseq>'"
            ],
            "application/vnd.google.colaboratory.intrinsic+json": {
              "type": "string"
            }
          },
          "metadata": {},
          "execution_count": 10
        }
      ],
      "source": [
        "# adding start and end token to the senteces of label\n",
        "start_token, end_token = '<startseq>' , '<endseq>'\n",
        "summaries = summaries.apply(lambda x: start_token + ' ' + x + ' ' + end_token)\n",
        "summaries[\"short\"][5]"
      ]
    },
    {
      "cell_type": "code",
      "execution_count": 11,
      "metadata": {
        "colab": {
          "base_uri": "https://localhost:8080/"
        },
        "id": "_geBh7RI2PTh",
        "outputId": "78f95c03-54e9-4917-b3e2-4b3b3d7638b3"
      },
      "outputs": [
        {
          "output_type": "execute_result",
          "data": {
            "text/plain": [
              "(1, 9)"
            ]
          },
          "metadata": {},
          "execution_count": 11
        }
      ],
      "source": [
        "val_split = 0.1\n",
        "# train validation split\n",
        "summaries_train = summaries[int(len(summaries)*val_split):]\n",
        "summaries_val = summaries[:int(len(summaries)*val_split)]\n",
        "longreview_train = longreview[int(len(summaries)*val_split):]\n",
        "longreview_val = longreview[:int(len(summaries)*val_split)]\n",
        "\n",
        "len(longreview_val),len(longreview_train)"
      ]
    },
    {
      "cell_type": "code",
      "execution_count": 12,
      "metadata": {
        "colab": {
          "base_uri": "https://localhost:8080/"
        },
        "id": "jDEqyOiL2PTi",
        "outputId": "c32e381b-06ff-449f-c746-56a861cd9bc4"
      },
      "outputs": [
        {
          "output_type": "execute_result",
          "data": {
            "text/plain": [
              "(long    a fire alarm went off at the holiday inn in ho...\n",
              " Name: 1, dtype: object,\n",
              " short    <startseq> two tourist buses have been destroy...\n",
              " Name: 1, dtype: object)"
            ]
          },
          "metadata": {},
          "execution_count": 12
        }
      ],
      "source": [
        "longreview_train.iloc[0], summaries_train.iloc[0]"
      ]
    },
    {
      "cell_type": "markdown",
      "metadata": {
        "id": "S-_SGWbv2PTj"
      },
      "source": [
        "finding the maximum length of questions and answers"
      ]
    },
    {
      "cell_type": "code",
      "execution_count": 13,
      "metadata": {
        "colab": {
          "base_uri": "https://localhost:8080/"
        },
        "id": "x5s91x2a2PTk",
        "outputId": "b5b2ac4c-3618-42e2-8a8d-9cd8445062fc"
      },
      "outputs": [
        {
          "output_type": "stream",
          "name": "stdout",
          "text": [
            "percentile 90 of length of news: 605.0\n",
            "longest sentence:  881\n",
            "\n",
            "percentile 90 of length of summaries: 26.2\n",
            "longest sentence:  27\n",
            "\n",
            "max-length longreview chosen for training:  605\n",
            "max-length summaries chosen for training:  26\n"
          ]
        }
      ],
      "source": [
        "# because there are senteces with unusually long lengths,\n",
        "# we caculate the max length that 95% of sentences are shorter than that\n",
        "def max_length(shorts, longs, prct):\n",
        "    # Create a list of all the captions\n",
        "\n",
        "    length_longs = list(len(d.split()) for d in longs)\n",
        "    length_shorts = list(len(d.split()) for d in shorts)\n",
        "\n",
        "    print('percentile {} of length of news: {}'.format(prct,np.percentile(length_longs, prct)))\n",
        "    print('longest sentence: ', max(length_longs))\n",
        "    print()\n",
        "    print('percentile {} of length of summaries: {}'.format(prct,np.percentile(length_shorts, prct)))\n",
        "    print('longest sentence: ', max(length_shorts))\n",
        "    print()\n",
        "    return int(np.percentile(length_longs, prct)),int(np.percentile(length_shorts, prct))\n",
        "\n",
        "# selecting sentence length based on the percentile of data that fits in the length\n",
        "max_len_news, max_len_summary= max_length(summaries_train['short'].to_list(), longreview_train['long'].to_list(), 90)\n",
        "\n",
        "\n",
        "print('max-length longreview chosen for training: ', max_len_news)\n",
        "print('max-length summaries chosen for training: ', max_len_summary)"
      ]
    },
    {
      "cell_type": "markdown",
      "metadata": {
        "id": "PtLrcM-m2PTm"
      },
      "source": [
        "### Dataset prepration\n"
      ]
    },
    {
      "cell_type": "code",
      "execution_count": 14,
      "metadata": {
        "id": "qPozlPdC2PTn"
      },
      "outputs": [],
      "source": [
        "# making a vocabulary of the words\n",
        "def create_vocab(shorts, longs = None, minimum_repeat = 3):\n",
        "\n",
        "    # Create a list of all the captions\n",
        "    all_captions = []\n",
        "    for s in shorts:\n",
        "        all_captions.append(s)\n",
        "\n",
        "    # Consider only words which occur at least minimum_occurrence times in the corpus\n",
        "    word_counts = {}\n",
        "    nsents = 0\n",
        "    for sent in all_captions:\n",
        "        nsents += 1\n",
        "        for w in sent.split(' '):\n",
        "            word_counts[w] = word_counts.get(w, 0) + 1\n",
        "\n",
        "    vocab = [w for w in word_counts if word_counts[w] >= minimum_repeat]\n",
        "\n",
        "    vocab = list(set(vocab))\n",
        "    return vocab"
      ]
    },
    {
      "cell_type": "code",
      "execution_count": 15,
      "metadata": {
        "colab": {
          "base_uri": "https://localhost:8080/"
        },
        "id": "9PpNw0CM2PTo",
        "outputId": "86d4711c-00cc-42b4-9dcf-2a643aa86205"
      },
      "outputs": [
        {
          "output_type": "execute_result",
          "data": {
            "text/plain": [
              "['a',\n",
              " 'about',\n",
              " 'adding',\n",
              " 'advantage',\n",
              " 'after',\n",
              " 'ahead',\n",
              " 'alex',\n",
              " 'all',\n",
              " 'am',\n",
              " 'an',\n",
              " 'and',\n",
              " 'another',\n",
              " 'are',\n",
              " 'as',\n",
              " 'at',\n",
              " 'audi',\n",
              " 'back',\n",
              " 'bates',\n",
              " 'bbc',\n",
              " 'be',\n",
              " 'because',\n",
              " 'been',\n",
              " 'before',\n",
              " 'behind',\n",
              " 'being',\n",
              " 'belgian',\n",
              " 'between',\n",
              " 'brew',\n",
              " 'buses',\n",
              " 'but',\n",
              " 'by',\n",
              " 'can',\n",
              " 'car',\n",
              " 'cars',\n",
              " 'changoalverez',\n",
              " 'city',\n",
              " 'clegg',\n",
              " 'cost',\n",
              " 'could',\n",
              " 'crash',\n",
              " 'debut',\n",
              " 'did',\n",
              " 'died',\n",
              " 'dragons',\n",
              " 'driver',\n",
              " 'during',\n",
              " 'each',\n",
              " 'earlier',\n",
              " 'either',\n",
              " 'end',\n",
              " 'even',\n",
              " 'experience',\n",
              " 'fagerson',\n",
              " 'family',\n",
              " 'favaro',\n",
              " 'feel',\n",
              " 'final',\n",
              " 'fire',\n",
              " 'first',\n",
              " 'following',\n",
              " 'for',\n",
              " 'force',\n",
              " 'from',\n",
              " 'fusaro',\n",
              " 'game',\n",
              " 'go',\n",
              " 'going',\n",
              " 'good',\n",
              " 'got',\n",
              " 'had',\n",
              " 'hale',\n",
              " 'hamilton',\n",
              " 'happen',\n",
              " 'has',\n",
              " 'have',\n",
              " 'he',\n",
              " 'her',\n",
              " 'hewitt',\n",
              " 'him',\n",
              " 'his',\n",
              " 'home',\n",
              " 'hospital',\n",
              " 'how',\n",
              " 'i',\n",
              " 'if',\n",
              " 'in',\n",
              " 'injury',\n",
              " 'investigation',\n",
              " 'is',\n",
              " 'it',\n",
              " 'job',\n",
              " 'jones',\n",
              " 'jury',\n",
              " 'knew',\n",
              " 'know',\n",
              " 'kutlubay',\n",
              " 'landman',\n",
              " 'last',\n",
              " 'later',\n",
              " 'league',\n",
              " 'left',\n",
              " 'lincolnshire',\n",
              " 'london',\n",
              " 'made',\n",
              " 'man',\n",
              " 'mercedes',\n",
              " 'mike',\n",
              " 'minutes',\n",
              " 'more',\n",
              " 'motorbikes',\n",
              " 'move',\n",
              " 'mr',\n",
              " 'naiyaravoro',\n",
              " 'never',\n",
              " 'new',\n",
              " 'no',\n",
              " 'not',\n",
              " 'nothing',\n",
              " 'now',\n",
              " 'of',\n",
              " 'on',\n",
              " 'one',\n",
              " 'only',\n",
              " 'or',\n",
              " 'our',\n",
              " 'out',\n",
              " 'over',\n",
              " 'pass',\n",
              " 'people',\n",
              " 'police',\n",
              " 'position',\n",
              " 'practice',\n",
              " 'premier',\n",
              " 'qualifying',\n",
              " 'race',\n",
              " 'really',\n",
              " 'riders',\n",
              " 'road',\n",
              " 'rory',\n",
              " 'rosberg',\n",
              " 'said',\n",
              " 'same',\n",
              " 'saturday',\n",
              " 'says',\n",
              " 'scott',\n",
              " 'season',\n",
              " 'second',\n",
              " 'secs',\n",
              " 'session',\n",
              " 'several',\n",
              " 'sexually',\n",
              " 'she',\n",
              " 'should',\n",
              " 'showed',\n",
              " 'start',\n",
              " 'taken',\n",
              " 'team',\n",
              " 'teammate',\n",
              " 'teams',\n",
              " 'th',\n",
              " 'than',\n",
              " 'that',\n",
              " 'the',\n",
              " 'their',\n",
              " 'them',\n",
              " 'then',\n",
              " 'there',\n",
              " 'they',\n",
              " 'this',\n",
              " 'three',\n",
              " 'through',\n",
              " 'time',\n",
              " 'to',\n",
              " 'told',\n",
              " 'took',\n",
              " 'tottenham',\n",
              " 'tour',\n",
              " 'tovey',\n",
              " 'try',\n",
              " 'two',\n",
              " 'us',\n",
              " 'vandoorne',\n",
              " 'very',\n",
              " 'vettel',\n",
              " 'want',\n",
              " 'was',\n",
              " 'way',\n",
              " 'we',\n",
              " 'weeks',\n",
              " 'well',\n",
              " 'were',\n",
              " 'what',\n",
              " 'when',\n",
              " 'where',\n",
              " 'which',\n",
              " 'while',\n",
              " 'who',\n",
              " 'will',\n",
              " 'wing',\n",
              " 'with',\n",
              " 'work',\n",
              " 'world',\n",
              " 'would',\n",
              " 'year',\n",
              " 'yearold',\n",
              " 'you',\n",
              " '<startseq>',\n",
              " '<endseq>']"
            ]
          },
          "metadata": {},
          "execution_count": 15
        }
      ],
      "source": [
        "# each word in the vocabulary must be used in the data atleast minimum_repeat times\n",
        "vocab_dec = create_vocab(longreview_train['long'].to_list(), minimum_repeat=3) # here we just use the words in vocabulary of summaries\n",
        "# removing one character words from vocab except for 'a'\n",
        "for v in vocab_dec:\n",
        "    if len(v) == 1 and v!='a' and v!='i':\n",
        "        vocab_dec.remove(v)\n",
        "\n",
        "\n",
        "vocab_dec = sorted(vocab_dec)[1:] # [1:] is for the ''\n",
        "vocab_dec.append('<startseq>')\n",
        "vocab_dec.append('<endseq>')\n",
        "vocab_dec"
      ]
    },
    {
      "cell_type": "code",
      "execution_count": 16,
      "metadata": {
        "colab": {
          "base_uri": "https://localhost:8080/"
        },
        "id": "H_0EaCNv2PTp",
        "outputId": "40e0eb9d-f12b-4599-a8b0-e78503f0ad28"
      },
      "outputs": [
        {
          "output_type": "execute_result",
          "data": {
            "text/plain": [
              "['a',\n",
              " 'about',\n",
              " 'adding',\n",
              " 'advantage',\n",
              " 'after',\n",
              " 'ahead',\n",
              " 'alex',\n",
              " 'all',\n",
              " 'am',\n",
              " 'an']"
            ]
          },
          "metadata": {},
          "execution_count": 16
        }
      ],
      "source": [
        "# each word in the vocabulary must be used in the data atleast minimum_repeat times\n",
        "vocab_enc = create_vocab(longreview_train['long'].to_list(), minimum_repeat=3) # here we just use the words in vocabulary of summaries\n",
        "# removing one character words from vocab except for 'a'\n",
        "for v in vocab_enc:\n",
        "    if len(v) == 1 and v!='a' and v!='i':\n",
        "        vocab_enc.remove(v)\n",
        "\n",
        "vocab_enc = sorted(vocab_enc)[1:] # [1:] is for the ''\n",
        "vocab_enc.append('<startseq>')\n",
        "vocab_enc.append('<endseq>')\n",
        "vocab_enc[:10]"
      ]
    },
    {
      "cell_type": "code",
      "execution_count": 17,
      "metadata": {
        "colab": {
          "base_uri": "https://localhost:8080/"
        },
        "id": "Tz4a0Pyf2PTr",
        "outputId": "2d1be26e-5433-4acb-efef-f4954eeb4709"
      },
      "outputs": [
        {
          "output_type": "execute_result",
          "data": {
            "text/plain": [
              "(210, 210)"
            ]
          },
          "metadata": {},
          "execution_count": 17
        }
      ],
      "source": [
        "oov_token = '<UNK>'\n",
        "filters = '!\"#$%&()*+,-./:;=?@[\\\\]^_`{|}~\\t\\n' # making sure all the last non digit non alphabet chars are removed\n",
        "document_tokenizer = krs.preprocessing.text.Tokenizer(filters = filters,oov_token=oov_token)\n",
        "summary_tokenizer = krs.preprocessing.text.Tokenizer(filters = filters,oov_token=oov_token)\n",
        "document_tokenizer.fit_on_texts(vocab_enc)\n",
        "summary_tokenizer.fit_on_texts(vocab_dec)#summaries_train['short'])\n",
        "\n",
        "# caculating number of words in vocabulary of encoder and decoder\n",
        "# they are important for positional encoding\n",
        "encoder_vocab_size = len(document_tokenizer.word_index) + 1\n",
        "decoder_vocab_size = len(summary_tokenizer.word_index) + 1\n",
        "\n",
        "# vocab_size\n",
        "encoder_vocab_size, decoder_vocab_size"
      ]
    },
    {
      "cell_type": "code",
      "execution_count": 18,
      "metadata": {
        "id": "wqiH39tS2PTs"
      },
      "outputs": [],
      "source": [
        "ixtoword_enc = {} # index to word dic\n",
        "ixtoword_dec = {} # index to word dic\n",
        "\n",
        "wordtoix_enc = document_tokenizer.word_index # word to index dic\n",
        "ixtoword_enc[0] = '<PAD0>' # no word in vocab has index 0. but padding is indicated with 0\n",
        "ixtoword_dec[0] = '<PAD0>' # no word in vocab has index 0. but padding is indicated with 0\n",
        "\n",
        "for w in document_tokenizer.word_index:\n",
        "    ixtoword_enc[document_tokenizer.word_index[w]] = w\n",
        "################################################\n",
        "wordtoix_dec = summary_tokenizer.word_index # word to index dic\n",
        "\n",
        "for w in summary_tokenizer.word_index:\n",
        "    ixtoword_dec[summary_tokenizer.word_index[w]] = w"
      ]
    },
    {
      "cell_type": "code",
      "execution_count": 19,
      "metadata": {
        "id": "zRMBjONk2PTt"
      },
      "outputs": [],
      "source": [
        "# assign a number to each word inorder to find it in word embeddings\n",
        "inputs = document_tokenizer.texts_to_sequences(longreview_train['long'])\n",
        "targets = summary_tokenizer.texts_to_sequences(summaries_train['short'])\n",
        "inputs_val = document_tokenizer.texts_to_sequences(longreview_val['long'])\n",
        "targets_val = summary_tokenizer.texts_to_sequences(summaries_val['short'])"
      ]
    },
    {
      "cell_type": "code",
      "execution_count": 20,
      "metadata": {
        "id": "hqUcurOc2PTu"
      },
      "outputs": [],
      "source": [
        "inputs = krs.preprocessing.sequence.pad_sequences(inputs, maxlen=max_len_news, padding='post', truncating='post')\n",
        "targets = krs.preprocessing.sequence.pad_sequences(targets, maxlen=max_len_summary, padding='post', truncating='post')\n",
        "inputs_val = krs.preprocessing.sequence.pad_sequences(inputs_val, maxlen=max_len_news, padding='post', truncating='post')\n",
        "targets_val = krs.preprocessing.sequence.pad_sequences(targets_val, maxlen=max_len_summary, padding='post', truncating='post')"
      ]
    },
    {
      "cell_type": "code",
      "execution_count": 21,
      "metadata": {
        "id": "2yxk-eeX2PTu"
      },
      "outputs": [],
      "source": [
        "# validate train split\n",
        "BUFFER_SIZE = 10  # Equal to the dataset size\n",
        "BATCH_SIZE = 2\n",
        "dataset = tf.data.Dataset.from_tensor_slices((inputs,targets)).shuffle(BUFFER_SIZE).batch(BATCH_SIZE)\n",
        "dataset_val = tf.data.Dataset.from_tensor_slices((inputs_val,targets_val)).shuffle(BUFFER_SIZE).batch(BATCH_SIZE*2)"
      ]
    },
    {
      "cell_type": "code",
      "execution_count": 22,
      "metadata": {
        "id": "jEJhUxVK2PTv"
      },
      "outputs": [],
      "source": [
        "longreview_val.reset_index(inplace=True, drop=True)\n",
        "summaries_val.reset_index(inplace=True, drop=True)\n",
        "longreview_train.reset_index(inplace=True, drop=True)\n",
        "summaries_train.reset_index(inplace=True, drop=True)"
      ]
    },
    {
      "cell_type": "markdown",
      "metadata": {
        "id": "Z7-EKOns2PTw"
      },
      "source": [
        "### Defining the model"
      ]
    },
    {
      "cell_type": "code",
      "execution_count": 23,
      "metadata": {
        "id": "GzzBgKxc2PTw"
      },
      "outputs": [],
      "source": [
        "import matplotlib.pyplot as plt\n",
        "\n",
        "def hist(history):\n",
        "    plt.title('Loss')\n",
        "\n",
        "    x= [i[0] for i in history['val']]\n",
        "    y=[i[1] for i in history['val']]\n",
        "    plt.plot(x,y,'x-')\n",
        "\n",
        "    x= [i[0] for i in history['train']]\n",
        "    y=[i[1] for i in history['train']]\n",
        "    plt.plot(x,y,'o-')\n",
        "\n",
        "\n",
        "    plt.legend(['validation','train'])\n",
        "    plt.show()\n",
        "    print('smallest val loss:', sorted(history['val'],key=lambda x: x[1])[0])"
      ]
    },
    {
      "cell_type": "markdown",
      "metadata": {
        "id": "vhHYNqVe2PTx"
      },
      "source": [
        "#### Scaled Dot Product\n",
        "![](files/z-score.png)\n"
      ]
    },
    {
      "cell_type": "code",
      "execution_count": 24,
      "metadata": {
        "id": "VXpoovPb2PTx"
      },
      "outputs": [],
      "source": [
        "# the job of this function is to calculate the above equation\n",
        "def scaled_dot_product_attention(q, k, v, mask):\n",
        "    matmul_qk = tf.matmul(q, k, transpose_b=True)\n",
        "\n",
        "    dk = tf.cast(tf.shape(k)[-1], tf.float32)\n",
        "    scaled_attention_logits = matmul_qk / tf.math.sqrt(dk)\n",
        "\n",
        "    if mask is not None:\n",
        "        scaled_attention_logits += (mask * -1e9)\n",
        "\n",
        "    attention_weights = tf.nn.softmax(scaled_attention_logits, axis=-1)\n",
        "\n",
        "    output = tf.matmul(attention_weights, v)\n",
        "    return output, attention_weights"
      ]
    },
    {
      "cell_type": "markdown",
      "metadata": {
        "id": "izvPaoMC2PTy"
      },
      "source": [
        "#### multi-headed attention\n",
        "![](files/multi-head.png)"
      ]
    },
    {
      "cell_type": "code",
      "execution_count": 25,
      "metadata": {
        "id": "ASw0zP8g2PTz"
      },
      "outputs": [],
      "source": [
        "class MultiHeadAttention(krs.layers.Layer):\n",
        "    def __init__(self, d_model, num_heads):\n",
        "        super(MultiHeadAttention, self).__init__()\n",
        "        self.num_heads = num_heads\n",
        "        self.d_model = d_model\n",
        "\n",
        "        assert d_model % self.num_heads == 0\n",
        "\n",
        "        self.depth = d_model // self.num_heads # The dimensions of Q, K, V are called depth\n",
        "\n",
        "        # the input of these 3 layers are the same: X\n",
        "        self.wq = krs.layers.Dense(d_model,kernel_regularizer=krs.regularizers.l2(l=lmbda_l2))\n",
        "        self.wk = krs.layers.Dense(d_model,kernel_regularizer=krs.regularizers.l2(l=lmbda_l2))\n",
        "        self.wv = krs.layers.Dense(d_model,kernel_regularizer=krs.regularizers.l2(l=lmbda_l2))\n",
        "\n",
        "        self.dense = tf.keras.layers.Dense(d_model,kernel_regularizer=krs.regularizers.l2(l=lmbda_l2))\n",
        "\n",
        "    # reshape the Q,K,V\n",
        "    def split_heads(self, x, batch_size):\n",
        "        x = tf.reshape(x, (batch_size, -1, self.num_heads, self.depth))\n",
        "        return tf.transpose(x, perm=[0, 2, 1, 3])\n",
        "\n",
        "    def call(self, v, k, q, mask):\n",
        "        batch_size = tf.shape(q)[0]\n",
        "\n",
        "        # learn the Q,K,V matrices (the layers' weightes)\n",
        "        q = self.wq(q)\n",
        "        k = self.wk(k)\n",
        "        v = self.wv(v)\n",
        "\n",
        "        # reshape them\n",
        "        q = self.split_heads(q, batch_size)\n",
        "        k = self.split_heads(k, batch_size)\n",
        "        v = self.split_heads(v, batch_size)\n",
        "\n",
        "        scaled_attention, attention_weights = scaled_dot_product_attention(\n",
        "            q, k, v, mask)\n",
        "\n",
        "        scaled_attention = tf.transpose(scaled_attention, perm=[0, 2, 1, 3])\n",
        "\n",
        "        # the last dens layer expect one vector so we use concat\n",
        "        concat_attention = tf.reshape(scaled_attention, (batch_size, -1, self.d_model))\n",
        "        output = self.dense(concat_attention)\n",
        "\n",
        "        return output, attention_weights"
      ]
    },
    {
      "cell_type": "markdown",
      "metadata": {
        "id": "f3OTBN6B2PTz"
      },
      "source": [
        "#### positional encoding"
      ]
    },
    {
      "cell_type": "code",
      "execution_count": 26,
      "metadata": {
        "id": "a4JvBPyQ2PT4"
      },
      "outputs": [],
      "source": [
        "def get_angles(position, i, d_model):\n",
        "    angle_rates = 1 / np.power(10000, (2 * (i // 2)) / np.float32(d_model))\n",
        "    return position * angle_rates\n",
        "\n",
        "# The dimension of positional encodings is the same as\n",
        "# the embeddings (d_model) for facilitating the summation of both.\n",
        "def positional_encoding(position, d_model):\n",
        "    angle_rads = get_angles(\n",
        "        np.arange(position)[:, np.newaxis],\n",
        "        np.arange(d_model)[np.newaxis, :],\n",
        "        d_model\n",
        "    )\n",
        "\n",
        "    # apply sin to even indices in the array; 2i\n",
        "    angle_rads[:, 0::2] = np.sin(angle_rads[:, 0::2])\n",
        "\n",
        "    # apply cos to odd indices in the array; 2i+1\n",
        "    angle_rads[:, 1::2] = np.cos(angle_rads[:, 1::2])\n",
        "\n",
        "    pos_encoding = angle_rads[np.newaxis, ...]\n",
        "\n",
        "    return tf.cast(pos_encoding, dtype=tf.float32)"
      ]
    },
    {
      "cell_type": "markdown",
      "metadata": {
        "id": "AeD40gIg2PT5"
      },
      "source": [
        "#### Layers"
      ]
    },
    {
      "cell_type": "markdown",
      "metadata": {
        "id": "3vOSuZG72PT5"
      },
      "source": [
        "#### Embeddings preparation"
      ]
    },
    {
      "cell_type": "code",
      "execution_count": 27,
      "metadata": {
        "colab": {
          "base_uri": "https://localhost:8080/"
        },
        "id": "t3a6DbCC2PT6",
        "outputId": "a896ec6a-c8ad-4e49-d1c4-2f2cbce770a1"
      },
      "outputs": [
        {
          "output_type": "stream",
          "name": "stdout",
          "text": [
            "Loading glove...\n",
            "GloVe  50  loaded!\n",
            "Loading glove...\n",
            "GloVe  50  loaded!\n"
          ]
        }
      ],
      "source": [
        " # Making the embedding mtrix\n",
        "def make_embedding_layer(vocab_len, wordtoix, embedding_dim=200, glove=True, glove_path= '../glove'):\n",
        "    if glove == False:\n",
        "        print('Just a zero matrix loaded')\n",
        "        embedding_matrix = np.zeros((vocab_len, embedding_dim)) # just a zero matrix\n",
        "    else:\n",
        "        print('Loading glove...')\n",
        "        glove_dir = glove_path\n",
        "        embeddings_index = {}\n",
        "        #f = open(os.path.join(glove_dir, 'glove.6B.'+str(embedding_dim)+'d.txt'), encoding=\"utf-8\")\n",
        "        f=open(\"/content/gdrive/MyDrive/glove.6B.50d.txt\")\n",
        "        for line in f:\n",
        "            values = line.split()\n",
        "            word = values[0]\n",
        "            coefs = np.asarray(values[1:], dtype='float32')\n",
        "            embeddings_index[word] = coefs\n",
        "        f.close()\n",
        "        # Get n-dim dense vector for each of the vocab_rocc\n",
        "        embedding_matrix = np.zeros((vocab_len, embedding_dim)) # to import as weights for Keras Embedding layer\n",
        "        for word, i in wordtoix.items():\n",
        "            embedding_vector = embeddings_index.get(word)\n",
        "            if embedding_vector is not None:\n",
        "                # Words not found in the embedding index will be all zeros\n",
        "                embedding_matrix[i] = embedding_vector\n",
        "\n",
        "        print(\"GloVe \",embedding_dim, ' loaded!')\n",
        "\n",
        "    embedding_layer = Embedding(vocab_len, embedding_dim, mask_zero=True, trainable=False) # we have a limited vocab so we\n",
        "                                                                                           # do not train the embedding layer\n",
        "                                                                                           # we use 0 as padding so => mask_zero=True\n",
        "    embedding_layer.build((None,))\n",
        "    embedding_layer.set_weights([embedding_matrix])\n",
        "    return embedding_layer\n",
        "\n",
        "embeddings_encoder = make_embedding_layer(encoder_vocab_size, wordtoix_enc, embedding_dim=embedding_dim, glove=True)\n",
        "embeddings_decoder = make_embedding_layer(decoder_vocab_size, wordtoix_dec, embedding_dim=embedding_dim, glove=True)\n"
      ]
    },
    {
      "cell_type": "markdown",
      "metadata": {
        "id": "A2XPF2yc2PT7"
      },
      "source": [
        "#### transformer layers"
      ]
    },
    {
      "cell_type": "code",
      "execution_count": 28,
      "metadata": {
        "id": "hWbiy5tE2PT8"
      },
      "outputs": [],
      "source": [
        "# hyper-params\n",
        "init_lr = 1e-3\n",
        "lmbda_l2 = 0.1\n",
        "d_out_rate = 0.1 # tested 0.4, 0.3, 0.1 values this 0.1 seems to be the best\n",
        "num_layers = 4 # chaged from 4 to 5 to learn better\n",
        "d_model = embedding_dim # d_model is the representation dimension or embedding dimension of a word (usually in the range 128–512)\n",
        "dff = 512 # number of neurons in feed forward network\n",
        "num_heads = 5 # first it was 8 i chenged it to 10 to use embd =300d"
      ]
    },
    {
      "cell_type": "code",
      "execution_count": 29,
      "metadata": {
        "id": "PQZvsD_w2PT9"
      },
      "outputs": [],
      "source": [
        "# The Point-wise feed-forward network block is essentially a\n",
        "# two-layer linear transformation which is used identically throughout the model\n",
        "def point_wise_feed_forward_network(d_model, dff):\n",
        "    return krs.Sequential([\n",
        "        krs.layers.Dense(dff, activation='relu',kernel_regularizer=krs.regularizers.l2(l=lmbda_l2)),\n",
        "        krs.layers.Dense(d_model,kernel_regularizer=krs.regularizers.l2(l=lmbda_l2))\n",
        "    ])"
      ]
    },
    {
      "cell_type": "code",
      "execution_count": 30,
      "metadata": {
        "scrolled": true,
        "id": "6zTX0uA_2PT-"
      },
      "outputs": [],
      "source": [
        "class EncoderLayer(krs.layers.Layer):\n",
        "    def __init__(self, d_model, num_heads, dff, rate=d_out_rate):\n",
        "        super(EncoderLayer, self).__init__()\n",
        "\n",
        "        self.mha = MultiHeadAttention(d_model, num_heads)\n",
        "        self.ffn = point_wise_feed_forward_network(d_model, dff)\n",
        "\n",
        "        self.layernorm1 = krs.layers.LayerNormalization(epsilon=1e-6)\n",
        "        self.layernorm2 = krs.layers.LayerNormalization(epsilon=1e-6)\n",
        "\n",
        "        self.dropout1 = krs.layers.Dropout(rate)\n",
        "        self.dropout2 = krs.layers.Dropout(rate)\n",
        "\n",
        "    # it has 1 layer of multi-headed attention\n",
        "    def call(self, x, training, mask):\n",
        "        attn_output, _ = self.mha(x, x, x, mask)\n",
        "        attn_output = self.dropout1(attn_output, training=training)\n",
        "        out1 = self.layernorm1(x + attn_output)\n",
        "\n",
        "        ffn_output = self.ffn(out1)\n",
        "        ffn_output = self.dropout2(ffn_output, training=training)\n",
        "        out2 = self.layernorm2(out1 + ffn_output)\n",
        "\n",
        "        return out2"
      ]
    },
    {
      "cell_type": "code",
      "execution_count": 31,
      "metadata": {
        "id": "En_cg-432PUC"
      },
      "outputs": [],
      "source": [
        "class DecoderLayer(krs.layers.Layer):\n",
        "    def __init__(self, d_model, num_heads, dff, rate=d_out_rate):\n",
        "        super(DecoderLayer, self).__init__()\n",
        "\n",
        "        self.mha1 = MultiHeadAttention(d_model, num_heads)\n",
        "        self.mha2 = MultiHeadAttention(d_model, num_heads)\n",
        "\n",
        "        self.ffn = point_wise_feed_forward_network(d_model, dff)\n",
        "\n",
        "        self.layernorm1 = krs.layers.LayerNormalization(epsilon=1e-6)\n",
        "        self.layernorm2 = krs.layers.LayerNormalization(epsilon=1e-6)\n",
        "        self.layernorm3 = krs.layers.LayerNormalization(epsilon=1e-6)\n",
        "\n",
        "        self.dropout1 = krs.layers.Dropout(rate)\n",
        "        self.dropout2 = krs.layers.Dropout(rate)\n",
        "        self.dropout3 = krs.layers.Dropout(rate)\n",
        "\n",
        "    # it has 2 layers of multi-headed attention\n",
        "    def call(self, x, enc_output, training, look_ahead_mask, padding_mask):\n",
        "        attn1, attn_weights_block1 = self.mha1(x, x, x, look_ahead_mask)\n",
        "        attn1 = self.dropout1(attn1, training=training)\n",
        "        out1 = self.layernorm1(attn1 + x)\n",
        "\n",
        "        attn2, attn_weights_block2 = self.mha2(enc_output, enc_output, out1, padding_mask)\n",
        "        attn2 = self.dropout2(attn2, training=training)\n",
        "        out2 = self.layernorm2(attn2 + out1)\n",
        "\n",
        "        ffn_output = self.ffn(out2)\n",
        "        ffn_output = self.dropout3(ffn_output, training=training)\n",
        "        out3 = self.layernorm3(ffn_output + out2)\n",
        "\n",
        "        return out3, attn_weights_block1, attn_weights_block2"
      ]
    },
    {
      "cell_type": "code",
      "execution_count": 32,
      "metadata": {
        "id": "p-iuV6VB2PUD"
      },
      "outputs": [],
      "source": [
        "class Encoder(krs.layers.Layer):\n",
        "    def __init__(self, num_layers, d_model, num_heads, dff, input_vocab_size, maximum_position_encoding, rate=d_out_rate):\n",
        "        super(Encoder, self).__init__()\n",
        "\n",
        "        self.d_model = d_model\n",
        "        self.num_layers = num_layers\n",
        "\n",
        "        self.embedding = embeddings_encoder\n",
        "        self.pos_encoding = positional_encoding(maximum_position_encoding, self.d_model)\n",
        "\n",
        "        self.enc_layers = [EncoderLayer(d_model, num_heads, dff, rate) for _ in range(num_layers)]\n",
        "\n",
        "        self.dropout = krs.layers.Dropout(rate)\n",
        "        self.dropout_embd = krs.layers.Dropout(rate)\n",
        "\n",
        "    def call(self, x, training, mask):\n",
        "        seq_len = tf.shape(x)[1]\n",
        "\n",
        "        x = self.embedding(x)\n",
        "        x = self.dropout_embd(x, training=training) # dropout added to encoder input changed from nothing to this\n",
        "        x *= tf.math.sqrt(tf.cast(self.d_model, tf.float32))\n",
        "        x += self.pos_encoding[:, :seq_len, :]\n",
        "\n",
        "        x = self.dropout(x, training=training)\n",
        "\n",
        "        for i in range(self.num_layers):\n",
        "            x = self.enc_layers[i](x, training, mask)\n",
        "\n",
        "        return x"
      ]
    },
    {
      "cell_type": "code",
      "execution_count": 33,
      "metadata": {
        "id": "HmVc3qa_2PUE"
      },
      "outputs": [],
      "source": [
        "class Decoder(krs.layers.Layer):\n",
        "    def __init__(self, num_layers, d_model, num_heads, dff, target_vocab_size, maximum_position_encoding, rate=d_out_rate):\n",
        "        super(Decoder, self).__init__()\n",
        "\n",
        "        self.d_model = d_model\n",
        "        self.num_layers = num_layers\n",
        "\n",
        "        self.embedding = embeddings_decoder\n",
        "        self.pos_encoding = positional_encoding(maximum_position_encoding, d_model)\n",
        "\n",
        "        self.dec_layers = [DecoderLayer(d_model, num_heads, dff, rate) for _ in range(num_layers)] # a list of decoder layers\n",
        "        self.dropout = krs.layers.Dropout(rate)\n",
        "\n",
        "    def call(self, x, enc_output, training, look_ahead_mask, padding_mask):\n",
        "        seq_len = tf.shape(x)[1]\n",
        "        attention_weights = {}\n",
        "\n",
        "        x = self.embedding(x)\n",
        "        x *= tf.math.sqrt(tf.cast(self.d_model, tf.float32))\n",
        "        x += self.pos_encoding[:, :seq_len, :]\n",
        "\n",
        "        x = self.dropout(x, training=training)\n",
        "\n",
        "        for i in range(self.num_layers):\n",
        "            x, block1, block2 = self.dec_layers[i](x, enc_output, training, look_ahead_mask, padding_mask) # enc_output is fed into it\n",
        "\n",
        "            attention_weights['decoder_layer{}_block1'.format(i+1)] = block1\n",
        "            attention_weights['decoder_layer{}_block2'.format(i+1)] = block2\n",
        "\n",
        "        return x, attention_weights"
      ]
    },
    {
      "cell_type": "markdown",
      "metadata": {
        "id": "EDVcsV8s2PUF"
      },
      "source": [
        "#### Final model"
      ]
    },
    {
      "cell_type": "code",
      "execution_count": 34,
      "metadata": {
        "id": "V62wZmc82PUG"
      },
      "outputs": [],
      "source": [
        "class Transformer(krs.Model):\n",
        "    def __init__(self, num_layers, d_model, num_heads, dff, input_vocab_size,\n",
        "                                     target_vocab_size, pe_input, pe_target, rate=d_out_rate):\n",
        "        super(Transformer, self).__init__()\n",
        "\n",
        "        self.encoder = Encoder(num_layers, d_model, num_heads, dff, input_vocab_size, pe_input, rate)\n",
        "\n",
        "        self.decoder = Decoder(num_layers, d_model, num_heads, dff, target_vocab_size, pe_target, rate)\n",
        "\n",
        "        self.final_layer = krs.layers.Dense(target_vocab_size, kernel_regularizer=krs.regularizers.l2(l=lmbda_l2))\n",
        "\n",
        "\n",
        "    # training argument is used in dropout inputs\n",
        "    def call(self, inp, tar, training, enc_padding_mask, look_ahead_mask, dec_padding_mask):\n",
        "        enc_output = self.encoder(inp, training, enc_padding_mask)\n",
        "\n",
        "        dec_output, attention_weights = self.decoder(tar, enc_output, training, look_ahead_mask, dec_padding_mask)\n",
        "\n",
        "        final_output = self.final_layer(dec_output)\n",
        "\n",
        "        return final_output, attention_weights"
      ]
    },
    {
      "cell_type": "code",
      "execution_count": 35,
      "metadata": {
        "id": "gxjLcWbR2PUH"
      },
      "outputs": [],
      "source": [
        "transformer = Transformer(\n",
        "    num_layers,\n",
        "    d_model,\n",
        "    num_heads,\n",
        "    dff,\n",
        "    encoder_vocab_size,\n",
        "    decoder_vocab_size,\n",
        "    pe_input=max_len_news,\n",
        "    pe_target=max_len_summary,\n",
        ")"
      ]
    },
    {
      "cell_type": "markdown",
      "metadata": {
        "id": "FzyomrU52PUI"
      },
      "source": [
        "#### Masking\n"
      ]
    },
    {
      "cell_type": "code",
      "execution_count": 36,
      "metadata": {
        "id": "wblb3_Fk2PUJ"
      },
      "outputs": [],
      "source": [
        "# Padding mask for masking \"pad\" sequences so\n",
        "# they won't affect the loss\n",
        "def create_padding_mask(seq):\n",
        "    seq = tf.cast(tf.math.equal(seq, 0), tf.float32)\n",
        "    return seq[:, tf.newaxis, tf.newaxis, :]\n",
        "\n",
        "# Lookahead mask for masking future words from\n",
        "# contributing in prediction of current words in self attention\n",
        "def create_look_ahead_mask(size):\n",
        "    mask = 1 - tf.linalg.band_part(tf.ones((size, size)), -1, 0)\n",
        "    return mask"
      ]
    },
    {
      "cell_type": "code",
      "execution_count": 37,
      "metadata": {
        "id": "Q68lOzrq2PUK"
      },
      "outputs": [],
      "source": [
        "# this function is use in training step\n",
        "def create_masks(inp, tar):\n",
        "    enc_padding_mask = create_padding_mask(inp)\n",
        "    dec_padding_mask = create_padding_mask(inp)\n",
        "\n",
        "    look_ahead_mask = create_look_ahead_mask(tf.shape(tar)[1])\n",
        "    dec_target_padding_mask = create_padding_mask(tar)\n",
        "\n",
        "    combined_mask = tf.maximum(dec_target_padding_mask, look_ahead_mask)\n",
        "\n",
        "    return enc_padding_mask, combined_mask, dec_padding_mask"
      ]
    },
    {
      "cell_type": "markdown",
      "metadata": {
        "id": "rUcp3N6Q2PUL"
      },
      "source": [
        "#### training"
      ]
    },
    {
      "cell_type": "code",
      "execution_count": 38,
      "metadata": {
        "id": "N3GnE0kL2PUL"
      },
      "outputs": [],
      "source": [
        "lr_schedule = krs.optimizers.schedules.ExponentialDecay(\n",
        "    initial_learning_rate=init_lr, # originally was 1e-5\n",
        "    decay_steps=4000, # approximately 5 epochs\n",
        "    decay_rate=0.95) # originally was 0.9"
      ]
    },
    {
      "cell_type": "code",
      "execution_count": 39,
      "metadata": {
        "id": "7MLn2s-q2PUM"
      },
      "outputs": [],
      "source": [
        "\n",
        "optimizer2 = Adam(lr_schedule , beta_1=0.9, beta_2=0.98, epsilon=1e-9) # changed to init\n",
        "loss_object = SparseCategoricalCrossentropy(from_logits=True, reduction='none') # added softmax changed from_logits to false"
      ]
    },
    {
      "cell_type": "code",
      "execution_count": 40,
      "metadata": {
        "id": "zoKEC1wu2PUN"
      },
      "outputs": [],
      "source": [
        "def loss_function(real, pred, l2= False):\n",
        "\n",
        "    if l2:\n",
        "        lambda_ = 0.0001\n",
        "        l2_norms = [tf.nn.l2_loss(v) for v in transformer.trainable_variables]\n",
        "        l2_norm = tf.reduce_sum(l2_norms)\n",
        "        l2_value = lambda_ * l2_norm\n",
        "        loss_ = loss_object(real, pred) + l2_value\n",
        "    else:\n",
        "        loss_ = loss_object(real, pred)\n",
        "\n",
        "    mask = tf.math.logical_not(tf.math.equal(real, 0))\n",
        "    mask = tf.cast(mask, dtype=loss_.dtype)\n",
        "    loss_ *= mask\n",
        "\n",
        "    return tf.reduce_sum(loss_)/tf.reduce_sum(mask)"
      ]
    },
    {
      "cell_type": "code",
      "execution_count": 41,
      "metadata": {
        "id": "4RLz0znp2PUO"
      },
      "outputs": [],
      "source": [
        "checkpoint_path4 =\"checkpoints4\"\n",
        "\n",
        "ckpt4 = tf.train.Checkpoint(transformer=transformer, optimizer=optimizer2)\n",
        "\n",
        "ckpt_manager4 = tf.train.CheckpointManager(ckpt4, checkpoint_path4, max_to_keep=100)\n",
        "\n",
        "# if ckpt_manager4.latest_checkpoint:\n",
        "#     ckpt4.restore(ckpt_manager4.latest_checkpoint)\n",
        "#     print ('Latest checkpoint restored!!')"
      ]
    },
    {
      "cell_type": "markdown",
      "metadata": {
        "id": "mnT2hqhN2PUP"
      },
      "source": [
        "#### inference"
      ]
    },
    {
      "cell_type": "code",
      "execution_count": 42,
      "metadata": {
        "id": "aC4LcV2-2PUP"
      },
      "outputs": [],
      "source": [
        "def evaluate(input_document):\n",
        "    input_document = document_tokenizer.texts_to_sequences([input_document])\n",
        "    input_document = krs.preprocessing.sequence.pad_sequences(input_document, maxlen=max_len_news,\n",
        "                                                                           padding='post', truncating='post')\n",
        "\n",
        "    encoder_input = tf.expand_dims(input_document[0], 0)\n",
        "\n",
        "    decoder_input = [summary_tokenizer.word_index[start_token]]\n",
        "    output = tf.expand_dims(decoder_input, 0)\n",
        "\n",
        "    for i in range(max_len_summary):\n",
        "        enc_padding_mask, combined_mask, dec_padding_mask = create_masks(encoder_input, output)\n",
        "\n",
        "        predictions, attention_weights = transformer(\n",
        "            encoder_input,\n",
        "            output,\n",
        "            False,\n",
        "            enc_padding_mask,\n",
        "            combined_mask,\n",
        "            dec_padding_mask\n",
        "        )\n",
        "\n",
        "        predictions = predictions[: ,-1:, :]\n",
        "        predicted_id = tf.cast(tf.argmax(predictions, axis=-1), tf.int32)\n",
        "        # stop prediciting if it reached end_token\n",
        "        if predicted_id == summary_tokenizer.word_index[end_token]:\n",
        "            return tf.squeeze(output, axis=0), attention_weights\n",
        "\n",
        "        output = tf.concat([output, predicted_id], axis=-1)\n",
        "    return tf.squeeze(output, axis=0), attention_weights\n",
        "\n",
        "def summarize(input_document):\n",
        "    # not considering attention weights for now, can be used to plot attention heatmaps in the future\n",
        "    summarized = evaluate(input_document=input_document)[0].numpy()\n",
        "    summarized = np.expand_dims(summarized[1:], 0)  # remove start_token\n",
        "    return summary_tokenizer.sequences_to_texts(summarized)[0]  # since there is just one translated document"
      ]
    },
    {
      "cell_type": "code",
      "execution_count": 43,
      "metadata": {
        "scrolled": true,
        "id": "ryg_KlzF2PUR"
      },
      "outputs": [],
      "source": [
        "def validate():\n",
        "    print('validation started ...')\n",
        "    val_loss.reset_states()\n",
        "    for (batch, (inp, tar)) in enumerate(dataset_val):\n",
        "        tar_inp = tar[:, :-1] # <startseq> hi im moein\n",
        "        tar_real = tar[:, 1:] # hi im moein <endseq>\n",
        "\n",
        "        enc_padding_mask, combined_mask, dec_padding_mask = create_masks(inp, tar_inp)\n",
        "\n",
        "        # Operations are recorded if they are executed within this context manager\n",
        "        # and at least one of their inputs is being \"watched\". Trainable variables are automatically watched\n",
        "        predictions, _ = transformer(\n",
        "            inp, tar_inp,\n",
        "            False,\n",
        "            enc_padding_mask,\n",
        "            combined_mask,\n",
        "            dec_padding_mask\n",
        "        )\n",
        "        loss = loss_function(tar_real, predictions)\n",
        "        val_loss(loss)\n",
        "    print('\\n* Validation loss: {} '.format(val_loss.result()) )\n",
        "    return val_loss.result()\n",
        "# validate()"
      ]
    },
    {
      "cell_type": "code",
      "execution_count": 44,
      "metadata": {
        "id": "K3xvWr9J2PUS"
      },
      "outputs": [],
      "source": [
        "@tf.function # Compiles a function into a callable TensorFlow graph\n",
        "def train_step(inp, tar):\n",
        "    tar_inp = tar[:, :-1] # <startseq> hi im moein\n",
        "    tar_real = tar[:, 1:] # hi im moein <endseq>\n",
        "\n",
        "    enc_padding_mask, combined_mask, dec_padding_mask = create_masks(inp, tar_inp)\n",
        "\n",
        "    # Operations are recorded if they are executed within this context manager\n",
        "    # and at least one of their inputs is being \"watched\". Trainable variables are automatically watched\n",
        "    with tf.GradientTape() as tape:\n",
        "        predictions, _ = transformer(\n",
        "            inp, tar_inp,\n",
        "            True,\n",
        "            enc_padding_mask,\n",
        "            combined_mask,\n",
        "            dec_padding_mask\n",
        "        )\n",
        "        loss = loss_function(tar_real, predictions)\n",
        "\n",
        "    gradients = tape.gradient(loss, transformer.trainable_variables)\n",
        "    optimizer2.apply_gradients(zip(gradients, transformer.trainable_variables))\n",
        "\n",
        "    # mean the loss with new computed  loss of the step\n",
        "    train_loss(loss)"
      ]
    },
    {
      "cell_type": "code",
      "execution_count": 45,
      "metadata": {
        "id": "3nAErk4_2PUT"
      },
      "outputs": [],
      "source": [
        "history={'val':[],'train':[]}\n",
        "EPOCHS = 50\n",
        "not_progressing = 0\n",
        "# Computes the (weighted) mean of the given loss values.\n",
        "train_loss = krs.metrics.Mean(name='train_loss')\n",
        "val_loss = krs.metrics.Mean(name='val_loss')"
      ]
    },
    {
      "cell_type": "code",
      "execution_count": 46,
      "metadata": {
        "colab": {
          "base_uri": "https://localhost:8080/"
        },
        "id": "uvOKOTeU2PUU",
        "outputId": "600adc9e-88bc-41cf-b987-2d7ae7614fef"
      },
      "outputs": [
        {
          "output_type": "execute_result",
          "data": {
            "text/plain": [
              "{'lmbda_l2': 0.1,\n",
              " 'd_out_rate': 0.1,\n",
              " 'num_layers': 4,\n",
              " 'd_model': 50,\n",
              " 'dff': 512,\n",
              " 'num_heads': 5,\n",
              " 'init_lr': 0.001}"
            ]
          },
          "metadata": {},
          "execution_count": 46
        }
      ],
      "source": [
        "params = {\n",
        "'lmbda_l2' : lmbda_l2,\n",
        "'d_out_rate' :d_out_rate,\n",
        "'num_layers' : num_layers ,\n",
        "'d_model' : d_model  ,\n",
        "'dff' : dff ,\n",
        "'num_heads' : num_heads,\n",
        "'init_lr':init_lr}\n",
        "params"
      ]
    },
    {
      "cell_type": "code",
      "execution_count": 47,
      "metadata": {
        "colab": {
          "base_uri": "https://localhost:8080/"
        },
        "id": "POZDEks32PUW",
        "outputId": "1d65859a-adef-4320-d025-98a52802c0b3"
      },
      "outputs": [
        {
          "output_type": "stream",
          "name": "stdout",
          "text": [
            "0\n"
          ]
        }
      ],
      "source": [
        "\n",
        "ep = 1\n",
        "best_val_loss = np.inf\n",
        "i1,i2,i3,i4 = np.random.randint(len(summaries_val)),np.random.randint(len(summaries_val)),np.random.randint(len(summaries_val)),np.random.randint(len(summaries_val))\n",
        "\n",
        "print(i4)"
      ]
    },
    {
      "cell_type": "code",
      "execution_count": 48,
      "metadata": {
        "scrolled": true,
        "colab": {
          "base_uri": "https://localhost:8080/",
          "height": 1000
        },
        "id": "fELxscJ-2PUX",
        "outputId": "2a17d474-b67d-49cb-c5bd-47c81d74c4a1"
      },
      "outputs": [
        {
          "output_type": "stream",
          "name": "stdout",
          "text": [
            "{'lmbda_l2': 0.1, 'd_out_rate': 0.1, 'num_layers': 4, 'd_model': 50, 'dff': 512, 'num_heads': 5, 'init_lr': 0.001}\n",
            "########################################\n",
            "Epoch 1 Batch 0 Loss 5.9278\n",
            "\n",
            "Summary Tokenizer Word Index: {'<UNK>': 1, 'a': 2, 'about': 3, 'adding': 4, 'advantage': 5, 'after': 6, 'ahead': 7, 'alex': 8, 'all': 9, 'am': 10, 'an': 11, 'and': 12, 'another': 13, 'are': 14, 'as': 15, 'at': 16, 'audi': 17, 'back': 18, 'bates': 19, 'bbc': 20, 'be': 21, 'because': 22, 'been': 23, 'before': 24, 'behind': 25, 'being': 26, 'belgian': 27, 'between': 28, 'brew': 29, 'buses': 30, 'but': 31, 'by': 32, 'can': 33, 'car': 34, 'cars': 35, 'changoalverez': 36, 'city': 37, 'clegg': 38, 'cost': 39, 'could': 40, 'crash': 41, 'debut': 42, 'did': 43, 'died': 44, 'dragons': 45, 'driver': 46, 'during': 47, 'each': 48, 'earlier': 49, 'either': 50, 'end': 51, 'even': 52, 'experience': 53, 'fagerson': 54, 'family': 55, 'favaro': 56, 'feel': 57, 'final': 58, 'fire': 59, 'first': 60, 'following': 61, 'for': 62, 'force': 63, 'from': 64, 'fusaro': 65, 'game': 66, 'go': 67, 'going': 68, 'good': 69, 'got': 70, 'had': 71, 'hale': 72, 'hamilton': 73, 'happen': 74, 'has': 75, 'have': 76, 'he': 77, 'her': 78, 'hewitt': 79, 'him': 80, 'his': 81, 'home': 82, 'hospital': 83, 'how': 84, 'i': 85, 'if': 86, 'in': 87, 'injury': 88, 'investigation': 89, 'is': 90, 'it': 91, 'job': 92, 'jones': 93, 'jury': 94, 'knew': 95, 'know': 96, 'kutlubay': 97, 'landman': 98, 'last': 99, 'later': 100, 'league': 101, 'left': 102, 'lincolnshire': 103, 'london': 104, 'made': 105, 'man': 106, 'mercedes': 107, 'mike': 108, 'minutes': 109, 'more': 110, 'motorbikes': 111, 'move': 112, 'mr': 113, 'naiyaravoro': 114, 'never': 115, 'new': 116, 'no': 117, 'not': 118, 'nothing': 119, 'now': 120, 'of': 121, 'on': 122, 'one': 123, 'only': 124, 'or': 125, 'our': 126, 'out': 127, 'over': 128, 'pass': 129, 'people': 130, 'police': 131, 'position': 132, 'practice': 133, 'premier': 134, 'qualifying': 135, 'race': 136, 'really': 137, 'riders': 138, 'road': 139, 'rory': 140, 'rosberg': 141, 'said': 142, 'same': 143, 'saturday': 144, 'says': 145, 'scott': 146, 'season': 147, 'second': 148, 'secs': 149, 'session': 150, 'several': 151, 'sexually': 152, 'she': 153, 'should': 154, 'showed': 155, 'start': 156, 'taken': 157, 'team': 158, 'teammate': 159, 'teams': 160, 'th': 161, 'than': 162, 'that': 163, 'the': 164, 'their': 165, 'them': 166, 'then': 167, 'there': 168, 'they': 169, 'this': 170, 'three': 171, 'through': 172, 'time': 173, 'to': 174, 'told': 175, 'took': 176, 'tottenham': 177, 'tour': 178, 'tovey': 179, 'try': 180, 'two': 181, 'us': 182, 'vandoorne': 183, 'very': 184, 'vettel': 185, 'want': 186, 'was': 187, 'way': 188, 'we': 189, 'weeks': 190, 'well': 191, 'were': 192, 'what': 193, 'when': 194, 'where': 195, 'which': 196, 'while': 197, 'who': 198, 'will': 199, 'wing': 200, 'with': 201, 'work': 202, 'world': 203, 'would': 204, 'year': 205, 'yearold': 206, 'you': 207, '<startseq>': 208, '<endseq>': 209}\n",
            "<UNK> <UNK> <UNK> <UNK> <UNK> <UNK> <UNK> <UNK> <UNK> <UNK> <UNK> <UNK> <UNK> <UNK> <UNK> <UNK> <UNK> <UNK> <UNK> <UNK> <UNK> <UNK> <UNK> <UNK> <UNK> <UNK>\n",
            "validation started ...\n",
            "\n",
            "* Validation loss: 3.1827986240386963 \n",
            "\n",
            "* Train Loss 4.5665\n",
            "\n",
            "Saving checkpoint for epoch 1 at checkpoints4/ckpt-1\n"
          ]
        },
        {
          "output_type": "display_data",
          "data": {
            "text/plain": [
              "<Figure size 640x480 with 1 Axes>"
            ],
            "image/png": "[encoded data removed]"
          },
          "metadata": {}
        },
        {
          "output_type": "stream",
          "name": "stdout",
          "text": [
            "smallest val loss: (1, 3.1827986)\n",
            "\n",
            "Time taken for this epoch: 66.38 secs\n",
            "\n",
            "========================================\n",
            "Epoch 2 Batch 0 Loss 3.8067\n",
            "\n",
            "Summary Tokenizer Word Index: {'<UNK>': 1, 'a': 2, 'about': 3, 'adding': 4, 'advantage': 5, 'after': 6, 'ahead': 7, 'alex': 8, 'all': 9, 'am': 10, 'an': 11, 'and': 12, 'another': 13, 'are': 14, 'as': 15, 'at': 16, 'audi': 17, 'back': 18, 'bates': 19, 'bbc': 20, 'be': 21, 'because': 22, 'been': 23, 'before': 24, 'behind': 25, 'being': 26, 'belgian': 27, 'between': 28, 'brew': 29, 'buses': 30, 'but': 31, 'by': 32, 'can': 33, 'car': 34, 'cars': 35, 'changoalverez': 36, 'city': 37, 'clegg': 38, 'cost': 39, 'could': 40, 'crash': 41, 'debut': 42, 'did': 43, 'died': 44, 'dragons': 45, 'driver': 46, 'during': 47, 'each': 48, 'earlier': 49, 'either': 50, 'end': 51, 'even': 52, 'experience': 53, 'fagerson': 54, 'family': 55, 'favaro': 56, 'feel': 57, 'final': 58, 'fire': 59, 'first': 60, 'following': 61, 'for': 62, 'force': 63, 'from': 64, 'fusaro': 65, 'game': 66, 'go': 67, 'going': 68, 'good': 69, 'got': 70, 'had': 71, 'hale': 72, 'hamilton': 73, 'happen': 74, 'has': 75, 'have': 76, 'he': 77, 'her': 78, 'hewitt': 79, 'him': 80, 'his': 81, 'home': 82, 'hospital': 83, 'how': 84, 'i': 85, 'if': 86, 'in': 87, 'injury': 88, 'investigation': 89, 'is': 90, 'it': 91, 'job': 92, 'jones': 93, 'jury': 94, 'knew': 95, 'know': 96, 'kutlubay': 97, 'landman': 98, 'last': 99, 'later': 100, 'league': 101, 'left': 102, 'lincolnshire': 103, 'london': 104, 'made': 105, 'man': 106, 'mercedes': 107, 'mike': 108, 'minutes': 109, 'more': 110, 'motorbikes': 111, 'move': 112, 'mr': 113, 'naiyaravoro': 114, 'never': 115, 'new': 116, 'no': 117, 'not': 118, 'nothing': 119, 'now': 120, 'of': 121, 'on': 122, 'one': 123, 'only': 124, 'or': 125, 'our': 126, 'out': 127, 'over': 128, 'pass': 129, 'people': 130, 'police': 131, 'position': 132, 'practice': 133, 'premier': 134, 'qualifying': 135, 'race': 136, 'really': 137, 'riders': 138, 'road': 139, 'rory': 140, 'rosberg': 141, 'said': 142, 'same': 143, 'saturday': 144, 'says': 145, 'scott': 146, 'season': 147, 'second': 148, 'secs': 149, 'session': 150, 'several': 151, 'sexually': 152, 'she': 153, 'should': 154, 'showed': 155, 'start': 156, 'taken': 157, 'team': 158, 'teammate': 159, 'teams': 160, 'th': 161, 'than': 162, 'that': 163, 'the': 164, 'their': 165, 'them': 166, 'then': 167, 'there': 168, 'they': 169, 'this': 170, 'three': 171, 'through': 172, 'time': 173, 'to': 174, 'told': 175, 'took': 176, 'tottenham': 177, 'tour': 178, 'tovey': 179, 'try': 180, 'two': 181, 'us': 182, 'vandoorne': 183, 'very': 184, 'vettel': 185, 'want': 186, 'was': 187, 'way': 188, 'we': 189, 'weeks': 190, 'well': 191, 'were': 192, 'what': 193, 'when': 194, 'where': 195, 'which': 196, 'while': 197, 'who': 198, 'will': 199, 'wing': 200, 'with': 201, 'work': 202, 'world': 203, 'would': 204, 'year': 205, 'yearold': 206, 'you': 207, '<startseq>': 208, '<endseq>': 209}\n",
            "<UNK> <UNK> <UNK> <UNK> <UNK> <UNK> <UNK> <UNK> <UNK> <UNK> <UNK> <UNK> <UNK> <UNK> <UNK> <UNK> <UNK> <UNK> <UNK> <UNK> <UNK> <UNK> <UNK> <UNK> <UNK> <UNK>\n",
            "validation started ...\n",
            "\n",
            "* Validation loss: 2.9358551502227783 \n",
            "\n",
            "* Train Loss 3.6988\n",
            "\n",
            "Saving checkpoint for epoch 2 at checkpoints4/ckpt-2\n"
          ]
        },
        {
          "output_type": "display_data",
          "data": {
            "text/plain": [
              "<Figure size 640x480 with 1 Axes>"
            ],
            "image/png": "[encoded data removed]"
          },
          "metadata": {}
        },
        {
          "output_type": "stream",
          "name": "stdout",
          "text": [
            "smallest val loss: (2, 2.9358552)\n",
            "\n",
            "Time taken for this epoch: 5.99 secs\n",
            "\n",
            "========================================\n",
            "Epoch 3 Batch 0 Loss 3.6329\n",
            "\n",
            "Summary Tokenizer Word Index: {'<UNK>': 1, 'a': 2, 'about': 3, 'adding': 4, 'advantage': 5, 'after': 6, 'ahead': 7, 'alex': 8, 'all': 9, 'am': 10, 'an': 11, 'and': 12, 'another': 13, 'are': 14, 'as': 15, 'at': 16, 'audi': 17, 'back': 18, 'bates': 19, 'bbc': 20, 'be': 21, 'because': 22, 'been': 23, 'before': 24, 'behind': 25, 'being': 26, 'belgian': 27, 'between': 28, 'brew': 29, 'buses': 30, 'but': 31, 'by': 32, 'can': 33, 'car': 34, 'cars': 35, 'changoalverez': 36, 'city': 37, 'clegg': 38, 'cost': 39, 'could': 40, 'crash': 41, 'debut': 42, 'did': 43, 'died': 44, 'dragons': 45, 'driver': 46, 'during': 47, 'each': 48, 'earlier': 49, 'either': 50, 'end': 51, 'even': 52, 'experience': 53, 'fagerson': 54, 'family': 55, 'favaro': 56, 'feel': 57, 'final': 58, 'fire': 59, 'first': 60, 'following': 61, 'for': 62, 'force': 63, 'from': 64, 'fusaro': 65, 'game': 66, 'go': 67, 'going': 68, 'good': 69, 'got': 70, 'had': 71, 'hale': 72, 'hamilton': 73, 'happen': 74, 'has': 75, 'have': 76, 'he': 77, 'her': 78, 'hewitt': 79, 'him': 80, 'his': 81, 'home': 82, 'hospital': 83, 'how': 84, 'i': 85, 'if': 86, 'in': 87, 'injury': 88, 'investigation': 89, 'is': 90, 'it': 91, 'job': 92, 'jones': 93, 'jury': 94, 'knew': 95, 'know': 96, 'kutlubay': 97, 'landman': 98, 'last': 99, 'later': 100, 'league': 101, 'left': 102, 'lincolnshire': 103, 'london': 104, 'made': 105, 'man': 106, 'mercedes': 107, 'mike': 108, 'minutes': 109, 'more': 110, 'motorbikes': 111, 'move': 112, 'mr': 113, 'naiyaravoro': 114, 'never': 115, 'new': 116, 'no': 117, 'not': 118, 'nothing': 119, 'now': 120, 'of': 121, 'on': 122, 'one': 123, 'only': 124, 'or': 125, 'our': 126, 'out': 127, 'over': 128, 'pass': 129, 'people': 130, 'police': 131, 'position': 132, 'practice': 133, 'premier': 134, 'qualifying': 135, 'race': 136, 'really': 137, 'riders': 138, 'road': 139, 'rory': 140, 'rosberg': 141, 'said': 142, 'same': 143, 'saturday': 144, 'says': 145, 'scott': 146, 'season': 147, 'second': 148, 'secs': 149, 'session': 150, 'several': 151, 'sexually': 152, 'she': 153, 'should': 154, 'showed': 155, 'start': 156, 'taken': 157, 'team': 158, 'teammate': 159, 'teams': 160, 'th': 161, 'than': 162, 'that': 163, 'the': 164, 'their': 165, 'them': 166, 'then': 167, 'there': 168, 'they': 169, 'this': 170, 'three': 171, 'through': 172, 'time': 173, 'to': 174, 'told': 175, 'took': 176, 'tottenham': 177, 'tour': 178, 'tovey': 179, 'try': 180, 'two': 181, 'us': 182, 'vandoorne': 183, 'very': 184, 'vettel': 185, 'want': 186, 'was': 187, 'way': 188, 'we': 189, 'weeks': 190, 'well': 191, 'were': 192, 'what': 193, 'when': 194, 'where': 195, 'which': 196, 'while': 197, 'who': 198, 'will': 199, 'wing': 200, 'with': 201, 'work': 202, 'world': 203, 'would': 204, 'year': 205, 'yearold': 206, 'you': 207, '<startseq>': 208, '<endseq>': 209}\n",
            "<UNK> <UNK> <UNK> <UNK> <UNK> <UNK> <UNK> <UNK> <UNK> <UNK> <UNK> <UNK> <UNK> <UNK> <UNK> <UNK> <UNK> <UNK> <UNK> <UNK> <UNK> <UNK> <UNK> <UNK> <UNK> <UNK>\n",
            "validation started ...\n",
            "\n",
            "* Validation loss: 2.8198723793029785 \n",
            "\n",
            "* Train Loss 3.4813\n",
            "\n",
            "Saving checkpoint for epoch 3 at checkpoints4/ckpt-3\n"
          ]
        },
        {
          "output_type": "display_data",
          "data": {
            "text/plain": [
              "<Figure size 640x480 with 1 Axes>"
            ],
            "image/png": "[encoded data removed]"
          },
          "metadata": {}
        },
        {
          "output_type": "stream",
          "name": "stdout",
          "text": [
            "smallest val loss: (3, 2.8198724)\n",
            "\n",
            "Time taken for this epoch: 6.73 secs\n",
            "\n",
            "========================================\n",
            "Epoch 4 Batch 0 Loss 3.4974\n",
            "\n",
            "Summary Tokenizer Word Index: {'<UNK>': 1, 'a': 2, 'about': 3, 'adding': 4, 'advantage': 5, 'after': 6, 'ahead': 7, 'alex': 8, 'all': 9, 'am': 10, 'an': 11, 'and': 12, 'another': 13, 'are': 14, 'as': 15, 'at': 16, 'audi': 17, 'back': 18, 'bates': 19, 'bbc': 20, 'be': 21, 'because': 22, 'been': 23, 'before': 24, 'behind': 25, 'being': 26, 'belgian': 27, 'between': 28, 'brew': 29, 'buses': 30, 'but': 31, 'by': 32, 'can': 33, 'car': 34, 'cars': 35, 'changoalverez': 36, 'city': 37, 'clegg': 38, 'cost': 39, 'could': 40, 'crash': 41, 'debut': 42, 'did': 43, 'died': 44, 'dragons': 45, 'driver': 46, 'during': 47, 'each': 48, 'earlier': 49, 'either': 50, 'end': 51, 'even': 52, 'experience': 53, 'fagerson': 54, 'family': 55, 'favaro': 56, 'feel': 57, 'final': 58, 'fire': 59, 'first': 60, 'following': 61, 'for': 62, 'force': 63, 'from': 64, 'fusaro': 65, 'game': 66, 'go': 67, 'going': 68, 'good': 69, 'got': 70, 'had': 71, 'hale': 72, 'hamilton': 73, 'happen': 74, 'has': 75, 'have': 76, 'he': 77, 'her': 78, 'hewitt': 79, 'him': 80, 'his': 81, 'home': 82, 'hospital': 83, 'how': 84, 'i': 85, 'if': 86, 'in': 87, 'injury': 88, 'investigation': 89, 'is': 90, 'it': 91, 'job': 92, 'jones': 93, 'jury': 94, 'knew': 95, 'know': 96, 'kutlubay': 97, 'landman': 98, 'last': 99, 'later': 100, 'league': 101, 'left': 102, 'lincolnshire': 103, 'london': 104, 'made': 105, 'man': 106, 'mercedes': 107, 'mike': 108, 'minutes': 109, 'more': 110, 'motorbikes': 111, 'move': 112, 'mr': 113, 'naiyaravoro': 114, 'never': 115, 'new': 116, 'no': 117, 'not': 118, 'nothing': 119, 'now': 120, 'of': 121, 'on': 122, 'one': 123, 'only': 124, 'or': 125, 'our': 126, 'out': 127, 'over': 128, 'pass': 129, 'people': 130, 'police': 131, 'position': 132, 'practice': 133, 'premier': 134, 'qualifying': 135, 'race': 136, 'really': 137, 'riders': 138, 'road': 139, 'rory': 140, 'rosberg': 141, 'said': 142, 'same': 143, 'saturday': 144, 'says': 145, 'scott': 146, 'season': 147, 'second': 148, 'secs': 149, 'session': 150, 'several': 151, 'sexually': 152, 'she': 153, 'should': 154, 'showed': 155, 'start': 156, 'taken': 157, 'team': 158, 'teammate': 159, 'teams': 160, 'th': 161, 'than': 162, 'that': 163, 'the': 164, 'their': 165, 'them': 166, 'then': 167, 'there': 168, 'they': 169, 'this': 170, 'three': 171, 'through': 172, 'time': 173, 'to': 174, 'told': 175, 'took': 176, 'tottenham': 177, 'tour': 178, 'tovey': 179, 'try': 180, 'two': 181, 'us': 182, 'vandoorne': 183, 'very': 184, 'vettel': 185, 'want': 186, 'was': 187, 'way': 188, 'we': 189, 'weeks': 190, 'well': 191, 'were': 192, 'what': 193, 'when': 194, 'where': 195, 'which': 196, 'while': 197, 'who': 198, 'will': 199, 'wing': 200, 'with': 201, 'work': 202, 'world': 203, 'would': 204, 'year': 205, 'yearold': 206, 'you': 207, '<startseq>': 208, '<endseq>': 209}\n",
            "<UNK> <UNK> <UNK> <UNK> <UNK> <UNK> <UNK> <UNK> <UNK> <UNK> <UNK> <UNK> <UNK> <UNK> <UNK> <UNK> <UNK> <UNK> <UNK> <UNK> <UNK> <UNK> <UNK> <UNK> <UNK> <UNK>\n",
            "validation started ...\n",
            "\n",
            "* Validation loss: 2.6881155967712402 \n",
            "\n",
            "* Train Loss 3.2836\n",
            "\n",
            "Saving checkpoint for epoch 4 at checkpoints4/ckpt-4\n"
          ]
        },
        {
          "output_type": "display_data",
          "data": {
            "text/plain": [
              "<Figure size 640x480 with 1 Axes>"
            ],
            "image/png": "[encoded data removed]"
          },
          "metadata": {}
        },
        {
          "output_type": "stream",
          "name": "stdout",
          "text": [
            "smallest val loss: (4, 2.6881156)\n",
            "\n",
            "Time taken for this epoch: 5.91 secs\n",
            "\n",
            "========================================\n",
            "Epoch 5 Batch 0 Loss 2.6800\n",
            "\n",
            "Summary Tokenizer Word Index: {'<UNK>': 1, 'a': 2, 'about': 3, 'adding': 4, 'advantage': 5, 'after': 6, 'ahead': 7, 'alex': 8, 'all': 9, 'am': 10, 'an': 11, 'and': 12, 'another': 13, 'are': 14, 'as': 15, 'at': 16, 'audi': 17, 'back': 18, 'bates': 19, 'bbc': 20, 'be': 21, 'because': 22, 'been': 23, 'before': 24, 'behind': 25, 'being': 26, 'belgian': 27, 'between': 28, 'brew': 29, 'buses': 30, 'but': 31, 'by': 32, 'can': 33, 'car': 34, 'cars': 35, 'changoalverez': 36, 'city': 37, 'clegg': 38, 'cost': 39, 'could': 40, 'crash': 41, 'debut': 42, 'did': 43, 'died': 44, 'dragons': 45, 'driver': 46, 'during': 47, 'each': 48, 'earlier': 49, 'either': 50, 'end': 51, 'even': 52, 'experience': 53, 'fagerson': 54, 'family': 55, 'favaro': 56, 'feel': 57, 'final': 58, 'fire': 59, 'first': 60, 'following': 61, 'for': 62, 'force': 63, 'from': 64, 'fusaro': 65, 'game': 66, 'go': 67, 'going': 68, 'good': 69, 'got': 70, 'had': 71, 'hale': 72, 'hamilton': 73, 'happen': 74, 'has': 75, 'have': 76, 'he': 77, 'her': 78, 'hewitt': 79, 'him': 80, 'his': 81, 'home': 82, 'hospital': 83, 'how': 84, 'i': 85, 'if': 86, 'in': 87, 'injury': 88, 'investigation': 89, 'is': 90, 'it': 91, 'job': 92, 'jones': 93, 'jury': 94, 'knew': 95, 'know': 96, 'kutlubay': 97, 'landman': 98, 'last': 99, 'later': 100, 'league': 101, 'left': 102, 'lincolnshire': 103, 'london': 104, 'made': 105, 'man': 106, 'mercedes': 107, 'mike': 108, 'minutes': 109, 'more': 110, 'motorbikes': 111, 'move': 112, 'mr': 113, 'naiyaravoro': 114, 'never': 115, 'new': 116, 'no': 117, 'not': 118, 'nothing': 119, 'now': 120, 'of': 121, 'on': 122, 'one': 123, 'only': 124, 'or': 125, 'our': 126, 'out': 127, 'over': 128, 'pass': 129, 'people': 130, 'police': 131, 'position': 132, 'practice': 133, 'premier': 134, 'qualifying': 135, 'race': 136, 'really': 137, 'riders': 138, 'road': 139, 'rory': 140, 'rosberg': 141, 'said': 142, 'same': 143, 'saturday': 144, 'says': 145, 'scott': 146, 'season': 147, 'second': 148, 'secs': 149, 'session': 150, 'several': 151, 'sexually': 152, 'she': 153, 'should': 154, 'showed': 155, 'start': 156, 'taken': 157, 'team': 158, 'teammate': 159, 'teams': 160, 'th': 161, 'than': 162, 'that': 163, 'the': 164, 'their': 165, 'them': 166, 'then': 167, 'there': 168, 'they': 169, 'this': 170, 'three': 171, 'through': 172, 'time': 173, 'to': 174, 'told': 175, 'took': 176, 'tottenham': 177, 'tour': 178, 'tovey': 179, 'try': 180, 'two': 181, 'us': 182, 'vandoorne': 183, 'very': 184, 'vettel': 185, 'want': 186, 'was': 187, 'way': 188, 'we': 189, 'weeks': 190, 'well': 191, 'were': 192, 'what': 193, 'when': 194, 'where': 195, 'which': 196, 'while': 197, 'who': 198, 'will': 199, 'wing': 200, 'with': 201, 'work': 202, 'world': 203, 'would': 204, 'year': 205, 'yearold': 206, 'you': 207, '<startseq>': 208, '<endseq>': 209}\n",
            "<UNK> <UNK> <UNK> <UNK> <UNK> <UNK> <UNK> <UNK> <UNK> <UNK> <UNK> <UNK> <UNK> <UNK> <UNK> <UNK> <UNK> <UNK> <UNK> <UNK> <UNK> <UNK> <UNK> <UNK> <UNK> <UNK>\n",
            "validation started ...\n",
            "\n",
            "* Validation loss: 2.597344160079956 \n",
            "\n",
            "* Train Loss 3.1712\n"
          ]
        },
        {
          "output_type": "display_data",
          "data": {
            "text/plain": [
              "<Figure size 640x480 with 1 Axes>"
            ],
            "image/png": "[encoded data removed]"
          },
          "metadata": {}
        },
        {
          "output_type": "stream",
          "name": "stdout",
          "text": [
            "smallest val loss: (5, 2.5973442)\n",
            "\n",
            "Time taken for this epoch: 6.35 secs\n",
            "\n",
            "========================================\n",
            "Epoch 6 Batch 0 Loss 2.6316\n",
            "\n",
            "Summary Tokenizer Word Index: {'<UNK>': 1, 'a': 2, 'about': 3, 'adding': 4, 'advantage': 5, 'after': 6, 'ahead': 7, 'alex': 8, 'all': 9, 'am': 10, 'an': 11, 'and': 12, 'another': 13, 'are': 14, 'as': 15, 'at': 16, 'audi': 17, 'back': 18, 'bates': 19, 'bbc': 20, 'be': 21, 'because': 22, 'been': 23, 'before': 24, 'behind': 25, 'being': 26, 'belgian': 27, 'between': 28, 'brew': 29, 'buses': 30, 'but': 31, 'by': 32, 'can': 33, 'car': 34, 'cars': 35, 'changoalverez': 36, 'city': 37, 'clegg': 38, 'cost': 39, 'could': 40, 'crash': 41, 'debut': 42, 'did': 43, 'died': 44, 'dragons': 45, 'driver': 46, 'during': 47, 'each': 48, 'earlier': 49, 'either': 50, 'end': 51, 'even': 52, 'experience': 53, 'fagerson': 54, 'family': 55, 'favaro': 56, 'feel': 57, 'final': 58, 'fire': 59, 'first': 60, 'following': 61, 'for': 62, 'force': 63, 'from': 64, 'fusaro': 65, 'game': 66, 'go': 67, 'going': 68, 'good': 69, 'got': 70, 'had': 71, 'hale': 72, 'hamilton': 73, 'happen': 74, 'has': 75, 'have': 76, 'he': 77, 'her': 78, 'hewitt': 79, 'him': 80, 'his': 81, 'home': 82, 'hospital': 83, 'how': 84, 'i': 85, 'if': 86, 'in': 87, 'injury': 88, 'investigation': 89, 'is': 90, 'it': 91, 'job': 92, 'jones': 93, 'jury': 94, 'knew': 95, 'know': 96, 'kutlubay': 97, 'landman': 98, 'last': 99, 'later': 100, 'league': 101, 'left': 102, 'lincolnshire': 103, 'london': 104, 'made': 105, 'man': 106, 'mercedes': 107, 'mike': 108, 'minutes': 109, 'more': 110, 'motorbikes': 111, 'move': 112, 'mr': 113, 'naiyaravoro': 114, 'never': 115, 'new': 116, 'no': 117, 'not': 118, 'nothing': 119, 'now': 120, 'of': 121, 'on': 122, 'one': 123, 'only': 124, 'or': 125, 'our': 126, 'out': 127, 'over': 128, 'pass': 129, 'people': 130, 'police': 131, 'position': 132, 'practice': 133, 'premier': 134, 'qualifying': 135, 'race': 136, 'really': 137, 'riders': 138, 'road': 139, 'rory': 140, 'rosberg': 141, 'said': 142, 'same': 143, 'saturday': 144, 'says': 145, 'scott': 146, 'season': 147, 'second': 148, 'secs': 149, 'session': 150, 'several': 151, 'sexually': 152, 'she': 153, 'should': 154, 'showed': 155, 'start': 156, 'taken': 157, 'team': 158, 'teammate': 159, 'teams': 160, 'th': 161, 'than': 162, 'that': 163, 'the': 164, 'their': 165, 'them': 166, 'then': 167, 'there': 168, 'they': 169, 'this': 170, 'three': 171, 'through': 172, 'time': 173, 'to': 174, 'told': 175, 'took': 176, 'tottenham': 177, 'tour': 178, 'tovey': 179, 'try': 180, 'two': 181, 'us': 182, 'vandoorne': 183, 'very': 184, 'vettel': 185, 'want': 186, 'was': 187, 'way': 188, 'we': 189, 'weeks': 190, 'well': 191, 'were': 192, 'what': 193, 'when': 194, 'where': 195, 'which': 196, 'while': 197, 'who': 198, 'will': 199, 'wing': 200, 'with': 201, 'work': 202, 'world': 203, 'would': 204, 'year': 205, 'yearold': 206, 'you': 207, '<startseq>': 208, '<endseq>': 209}\n",
            "<UNK> <UNK> <UNK> <UNK> <UNK> <UNK> <UNK> <UNK> <UNK> <UNK> <UNK> <UNK> <UNK> <UNK> <UNK> <UNK> <UNK> <UNK> <UNK> <UNK> <UNK> <UNK> <UNK> <UNK> <UNK> <UNK>\n",
            "validation started ...\n",
            "\n",
            "* Validation loss: 2.53238582611084 \n",
            "\n",
            "* Train Loss 3.0932\n",
            "\n",
            "Saving checkpoint for epoch 6 at checkpoints4/ckpt-5\n"
          ]
        },
        {
          "output_type": "display_data",
          "data": {
            "text/plain": [
              "<Figure size 640x480 with 1 Axes>"
            ],
            "image/png": "[encoded data removed]"
          },
          "metadata": {}
        },
        {
          "output_type": "stream",
          "name": "stdout",
          "text": [
            "smallest val loss: (6, 2.5323858)\n",
            "\n",
            "Time taken for this epoch: 5.84 secs\n",
            "\n",
            "========================================\n",
            "Epoch 7 Batch 0 Loss 3.2302\n",
            "\n",
            "Summary Tokenizer Word Index: {'<UNK>': 1, 'a': 2, 'about': 3, 'adding': 4, 'advantage': 5, 'after': 6, 'ahead': 7, 'alex': 8, 'all': 9, 'am': 10, 'an': 11, 'and': 12, 'another': 13, 'are': 14, 'as': 15, 'at': 16, 'audi': 17, 'back': 18, 'bates': 19, 'bbc': 20, 'be': 21, 'because': 22, 'been': 23, 'before': 24, 'behind': 25, 'being': 26, 'belgian': 27, 'between': 28, 'brew': 29, 'buses': 30, 'but': 31, 'by': 32, 'can': 33, 'car': 34, 'cars': 35, 'changoalverez': 36, 'city': 37, 'clegg': 38, 'cost': 39, 'could': 40, 'crash': 41, 'debut': 42, 'did': 43, 'died': 44, 'dragons': 45, 'driver': 46, 'during': 47, 'each': 48, 'earlier': 49, 'either': 50, 'end': 51, 'even': 52, 'experience': 53, 'fagerson': 54, 'family': 55, 'favaro': 56, 'feel': 57, 'final': 58, 'fire': 59, 'first': 60, 'following': 61, 'for': 62, 'force': 63, 'from': 64, 'fusaro': 65, 'game': 66, 'go': 67, 'going': 68, 'good': 69, 'got': 70, 'had': 71, 'hale': 72, 'hamilton': 73, 'happen': 74, 'has': 75, 'have': 76, 'he': 77, 'her': 78, 'hewitt': 79, 'him': 80, 'his': 81, 'home': 82, 'hospital': 83, 'how': 84, 'i': 85, 'if': 86, 'in': 87, 'injury': 88, 'investigation': 89, 'is': 90, 'it': 91, 'job': 92, 'jones': 93, 'jury': 94, 'knew': 95, 'know': 96, 'kutlubay': 97, 'landman': 98, 'last': 99, 'later': 100, 'league': 101, 'left': 102, 'lincolnshire': 103, 'london': 104, 'made': 105, 'man': 106, 'mercedes': 107, 'mike': 108, 'minutes': 109, 'more': 110, 'motorbikes': 111, 'move': 112, 'mr': 113, 'naiyaravoro': 114, 'never': 115, 'new': 116, 'no': 117, 'not': 118, 'nothing': 119, 'now': 120, 'of': 121, 'on': 122, 'one': 123, 'only': 124, 'or': 125, 'our': 126, 'out': 127, 'over': 128, 'pass': 129, 'people': 130, 'police': 131, 'position': 132, 'practice': 133, 'premier': 134, 'qualifying': 135, 'race': 136, 'really': 137, 'riders': 138, 'road': 139, 'rory': 140, 'rosberg': 141, 'said': 142, 'same': 143, 'saturday': 144, 'says': 145, 'scott': 146, 'season': 147, 'second': 148, 'secs': 149, 'session': 150, 'several': 151, 'sexually': 152, 'she': 153, 'should': 154, 'showed': 155, 'start': 156, 'taken': 157, 'team': 158, 'teammate': 159, 'teams': 160, 'th': 161, 'than': 162, 'that': 163, 'the': 164, 'their': 165, 'them': 166, 'then': 167, 'there': 168, 'they': 169, 'this': 170, 'three': 171, 'through': 172, 'time': 173, 'to': 174, 'told': 175, 'took': 176, 'tottenham': 177, 'tour': 178, 'tovey': 179, 'try': 180, 'two': 181, 'us': 182, 'vandoorne': 183, 'very': 184, 'vettel': 185, 'want': 186, 'was': 187, 'way': 188, 'we': 189, 'weeks': 190, 'well': 191, 'were': 192, 'what': 193, 'when': 194, 'where': 195, 'which': 196, 'while': 197, 'who': 198, 'will': 199, 'wing': 200, 'with': 201, 'work': 202, 'world': 203, 'would': 204, 'year': 205, 'yearold': 206, 'you': 207, '<startseq>': 208, '<endseq>': 209}\n",
            "<UNK> <UNK> <UNK> <UNK> <UNK> <UNK> <UNK> <UNK> <UNK> <UNK> <UNK> <UNK> <UNK> <UNK> <UNK> <UNK> <UNK> <UNK> <UNK> <UNK> <UNK> <UNK> <UNK> <UNK> <UNK> <UNK>\n",
            "validation started ...\n",
            "\n",
            "* Validation loss: 2.504328727722168 \n",
            "\n",
            "* Train Loss 3.0251\n"
          ]
        },
        {
          "output_type": "display_data",
          "data": {
            "text/plain": [
              "<Figure size 640x480 with 1 Axes>"
            ],
            "image/png": "[encoded data removed]"
          },
          "metadata": {}
        },
        {
          "output_type": "stream",
          "name": "stdout",
          "text": [
            "smallest val loss: (7, 2.5043287)\n",
            "\n",
            "Time taken for this epoch: 6.53 secs\n",
            "\n",
            "========================================\n",
            "Epoch 8 Batch 0 Loss 2.9281\n",
            "\n",
            "Summary Tokenizer Word Index: {'<UNK>': 1, 'a': 2, 'about': 3, 'adding': 4, 'advantage': 5, 'after': 6, 'ahead': 7, 'alex': 8, 'all': 9, 'am': 10, 'an': 11, 'and': 12, 'another': 13, 'are': 14, 'as': 15, 'at': 16, 'audi': 17, 'back': 18, 'bates': 19, 'bbc': 20, 'be': 21, 'because': 22, 'been': 23, 'before': 24, 'behind': 25, 'being': 26, 'belgian': 27, 'between': 28, 'brew': 29, 'buses': 30, 'but': 31, 'by': 32, 'can': 33, 'car': 34, 'cars': 35, 'changoalverez': 36, 'city': 37, 'clegg': 38, 'cost': 39, 'could': 40, 'crash': 41, 'debut': 42, 'did': 43, 'died': 44, 'dragons': 45, 'driver': 46, 'during': 47, 'each': 48, 'earlier': 49, 'either': 50, 'end': 51, 'even': 52, 'experience': 53, 'fagerson': 54, 'family': 55, 'favaro': 56, 'feel': 57, 'final': 58, 'fire': 59, 'first': 60, 'following': 61, 'for': 62, 'force': 63, 'from': 64, 'fusaro': 65, 'game': 66, 'go': 67, 'going': 68, 'good': 69, 'got': 70, 'had': 71, 'hale': 72, 'hamilton': 73, 'happen': 74, 'has': 75, 'have': 76, 'he': 77, 'her': 78, 'hewitt': 79, 'him': 80, 'his': 81, 'home': 82, 'hospital': 83, 'how': 84, 'i': 85, 'if': 86, 'in': 87, 'injury': 88, 'investigation': 89, 'is': 90, 'it': 91, 'job': 92, 'jones': 93, 'jury': 94, 'knew': 95, 'know': 96, 'kutlubay': 97, 'landman': 98, 'last': 99, 'later': 100, 'league': 101, 'left': 102, 'lincolnshire': 103, 'london': 104, 'made': 105, 'man': 106, 'mercedes': 107, 'mike': 108, 'minutes': 109, 'more': 110, 'motorbikes': 111, 'move': 112, 'mr': 113, 'naiyaravoro': 114, 'never': 115, 'new': 116, 'no': 117, 'not': 118, 'nothing': 119, 'now': 120, 'of': 121, 'on': 122, 'one': 123, 'only': 124, 'or': 125, 'our': 126, 'out': 127, 'over': 128, 'pass': 129, 'people': 130, 'police': 131, 'position': 132, 'practice': 133, 'premier': 134, 'qualifying': 135, 'race': 136, 'really': 137, 'riders': 138, 'road': 139, 'rory': 140, 'rosberg': 141, 'said': 142, 'same': 143, 'saturday': 144, 'says': 145, 'scott': 146, 'season': 147, 'second': 148, 'secs': 149, 'session': 150, 'several': 151, 'sexually': 152, 'she': 153, 'should': 154, 'showed': 155, 'start': 156, 'taken': 157, 'team': 158, 'teammate': 159, 'teams': 160, 'th': 161, 'than': 162, 'that': 163, 'the': 164, 'their': 165, 'them': 166, 'then': 167, 'there': 168, 'they': 169, 'this': 170, 'three': 171, 'through': 172, 'time': 173, 'to': 174, 'told': 175, 'took': 176, 'tottenham': 177, 'tour': 178, 'tovey': 179, 'try': 180, 'two': 181, 'us': 182, 'vandoorne': 183, 'very': 184, 'vettel': 185, 'want': 186, 'was': 187, 'way': 188, 'we': 189, 'weeks': 190, 'well': 191, 'were': 192, 'what': 193, 'when': 194, 'where': 195, 'which': 196, 'while': 197, 'who': 198, 'will': 199, 'wing': 200, 'with': 201, 'work': 202, 'world': 203, 'would': 204, 'year': 205, 'yearold': 206, 'you': 207, '<startseq>': 208, '<endseq>': 209}\n",
            "<UNK> <UNK> <UNK> <UNK> <UNK> <UNK> <UNK> <UNK> <UNK> <UNK> <UNK> <UNK> <UNK> <UNK> <UNK> <UNK> <UNK> <UNK> <UNK> <UNK> <UNK> <UNK> <UNK> <UNK> <UNK> <UNK>\n",
            "validation started ...\n",
            "\n",
            "* Validation loss: 2.51985764503479 \n",
            "\n",
            "* Train Loss 2.8642\n"
          ]
        },
        {
          "output_type": "display_data",
          "data": {
            "text/plain": [
              "<Figure size 640x480 with 1 Axes>"
            ],
            "image/png": "[encoded data removed]"
          },
          "metadata": {}
        },
        {
          "output_type": "stream",
          "name": "stdout",
          "text": [
            "smallest val loss: (7, 2.5043287)\n",
            "\n",
            "Time taken for this epoch: 5.45 secs\n",
            "\n",
            "========================================\n",
            "Epoch 9 Batch 0 Loss 2.7604\n",
            "\n",
            "Summary Tokenizer Word Index: {'<UNK>': 1, 'a': 2, 'about': 3, 'adding': 4, 'advantage': 5, 'after': 6, 'ahead': 7, 'alex': 8, 'all': 9, 'am': 10, 'an': 11, 'and': 12, 'another': 13, 'are': 14, 'as': 15, 'at': 16, 'audi': 17, 'back': 18, 'bates': 19, 'bbc': 20, 'be': 21, 'because': 22, 'been': 23, 'before': 24, 'behind': 25, 'being': 26, 'belgian': 27, 'between': 28, 'brew': 29, 'buses': 30, 'but': 31, 'by': 32, 'can': 33, 'car': 34, 'cars': 35, 'changoalverez': 36, 'city': 37, 'clegg': 38, 'cost': 39, 'could': 40, 'crash': 41, 'debut': 42, 'did': 43, 'died': 44, 'dragons': 45, 'driver': 46, 'during': 47, 'each': 48, 'earlier': 49, 'either': 50, 'end': 51, 'even': 52, 'experience': 53, 'fagerson': 54, 'family': 55, 'favaro': 56, 'feel': 57, 'final': 58, 'fire': 59, 'first': 60, 'following': 61, 'for': 62, 'force': 63, 'from': 64, 'fusaro': 65, 'game': 66, 'go': 67, 'going': 68, 'good': 69, 'got': 70, 'had': 71, 'hale': 72, 'hamilton': 73, 'happen': 74, 'has': 75, 'have': 76, 'he': 77, 'her': 78, 'hewitt': 79, 'him': 80, 'his': 81, 'home': 82, 'hospital': 83, 'how': 84, 'i': 85, 'if': 86, 'in': 87, 'injury': 88, 'investigation': 89, 'is': 90, 'it': 91, 'job': 92, 'jones': 93, 'jury': 94, 'knew': 95, 'know': 96, 'kutlubay': 97, 'landman': 98, 'last': 99, 'later': 100, 'league': 101, 'left': 102, 'lincolnshire': 103, 'london': 104, 'made': 105, 'man': 106, 'mercedes': 107, 'mike': 108, 'minutes': 109, 'more': 110, 'motorbikes': 111, 'move': 112, 'mr': 113, 'naiyaravoro': 114, 'never': 115, 'new': 116, 'no': 117, 'not': 118, 'nothing': 119, 'now': 120, 'of': 121, 'on': 122, 'one': 123, 'only': 124, 'or': 125, 'our': 126, 'out': 127, 'over': 128, 'pass': 129, 'people': 130, 'police': 131, 'position': 132, 'practice': 133, 'premier': 134, 'qualifying': 135, 'race': 136, 'really': 137, 'riders': 138, 'road': 139, 'rory': 140, 'rosberg': 141, 'said': 142, 'same': 143, 'saturday': 144, 'says': 145, 'scott': 146, 'season': 147, 'second': 148, 'secs': 149, 'session': 150, 'several': 151, 'sexually': 152, 'she': 153, 'should': 154, 'showed': 155, 'start': 156, 'taken': 157, 'team': 158, 'teammate': 159, 'teams': 160, 'th': 161, 'than': 162, 'that': 163, 'the': 164, 'their': 165, 'them': 166, 'then': 167, 'there': 168, 'they': 169, 'this': 170, 'three': 171, 'through': 172, 'time': 173, 'to': 174, 'told': 175, 'took': 176, 'tottenham': 177, 'tour': 178, 'tovey': 179, 'try': 180, 'two': 181, 'us': 182, 'vandoorne': 183, 'very': 184, 'vettel': 185, 'want': 186, 'was': 187, 'way': 188, 'we': 189, 'weeks': 190, 'well': 191, 'were': 192, 'what': 193, 'when': 194, 'where': 195, 'which': 196, 'while': 197, 'who': 198, 'will': 199, 'wing': 200, 'with': 201, 'work': 202, 'world': 203, 'would': 204, 'year': 205, 'yearold': 206, 'you': 207, '<startseq>': 208, '<endseq>': 209}\n",
            "<UNK> <UNK> <UNK> <UNK> <UNK> <UNK> <UNK> <UNK> <UNK> <UNK> <UNK> <UNK> <UNK> <UNK> <UNK> <UNK> <UNK> <UNK> <UNK> <UNK> <UNK> <UNK> <UNK> <UNK> <UNK> <UNK>\n",
            "validation started ...\n",
            "\n",
            "* Validation loss: 2.5167784690856934 \n",
            "\n",
            "* Train Loss 2.8981\n"
          ]
        },
        {
          "output_type": "display_data",
          "data": {
            "text/plain": [
              "<Figure size 640x480 with 1 Axes>"
            ],
            "image/png": "[encoded data removed]"
          },
          "metadata": {}
        },
        {
          "output_type": "stream",
          "name": "stdout",
          "text": [
            "smallest val loss: (7, 2.5043287)\n",
            "\n",
            "Time taken for this epoch: 6.03 secs\n",
            "\n",
            "========================================\n",
            "Epoch 10 Batch 0 Loss 2.7300\n",
            "\n",
            "Summary Tokenizer Word Index: {'<UNK>': 1, 'a': 2, 'about': 3, 'adding': 4, 'advantage': 5, 'after': 6, 'ahead': 7, 'alex': 8, 'all': 9, 'am': 10, 'an': 11, 'and': 12, 'another': 13, 'are': 14, 'as': 15, 'at': 16, 'audi': 17, 'back': 18, 'bates': 19, 'bbc': 20, 'be': 21, 'because': 22, 'been': 23, 'before': 24, 'behind': 25, 'being': 26, 'belgian': 27, 'between': 28, 'brew': 29, 'buses': 30, 'but': 31, 'by': 32, 'can': 33, 'car': 34, 'cars': 35, 'changoalverez': 36, 'city': 37, 'clegg': 38, 'cost': 39, 'could': 40, 'crash': 41, 'debut': 42, 'did': 43, 'died': 44, 'dragons': 45, 'driver': 46, 'during': 47, 'each': 48, 'earlier': 49, 'either': 50, 'end': 51, 'even': 52, 'experience': 53, 'fagerson': 54, 'family': 55, 'favaro': 56, 'feel': 57, 'final': 58, 'fire': 59, 'first': 60, 'following': 61, 'for': 62, 'force': 63, 'from': 64, 'fusaro': 65, 'game': 66, 'go': 67, 'going': 68, 'good': 69, 'got': 70, 'had': 71, 'hale': 72, 'hamilton': 73, 'happen': 74, 'has': 75, 'have': 76, 'he': 77, 'her': 78, 'hewitt': 79, 'him': 80, 'his': 81, 'home': 82, 'hospital': 83, 'how': 84, 'i': 85, 'if': 86, 'in': 87, 'injury': 88, 'investigation': 89, 'is': 90, 'it': 91, 'job': 92, 'jones': 93, 'jury': 94, 'knew': 95, 'know': 96, 'kutlubay': 97, 'landman': 98, 'last': 99, 'later': 100, 'league': 101, 'left': 102, 'lincolnshire': 103, 'london': 104, 'made': 105, 'man': 106, 'mercedes': 107, 'mike': 108, 'minutes': 109, 'more': 110, 'motorbikes': 111, 'move': 112, 'mr': 113, 'naiyaravoro': 114, 'never': 115, 'new': 116, 'no': 117, 'not': 118, 'nothing': 119, 'now': 120, 'of': 121, 'on': 122, 'one': 123, 'only': 124, 'or': 125, 'our': 126, 'out': 127, 'over': 128, 'pass': 129, 'people': 130, 'police': 131, 'position': 132, 'practice': 133, 'premier': 134, 'qualifying': 135, 'race': 136, 'really': 137, 'riders': 138, 'road': 139, 'rory': 140, 'rosberg': 141, 'said': 142, 'same': 143, 'saturday': 144, 'says': 145, 'scott': 146, 'season': 147, 'second': 148, 'secs': 149, 'session': 150, 'several': 151, 'sexually': 152, 'she': 153, 'should': 154, 'showed': 155, 'start': 156, 'taken': 157, 'team': 158, 'teammate': 159, 'teams': 160, 'th': 161, 'than': 162, 'that': 163, 'the': 164, 'their': 165, 'them': 166, 'then': 167, 'there': 168, 'they': 169, 'this': 170, 'three': 171, 'through': 172, 'time': 173, 'to': 174, 'told': 175, 'took': 176, 'tottenham': 177, 'tour': 178, 'tovey': 179, 'try': 180, 'two': 181, 'us': 182, 'vandoorne': 183, 'very': 184, 'vettel': 185, 'want': 186, 'was': 187, 'way': 188, 'we': 189, 'weeks': 190, 'well': 191, 'were': 192, 'what': 193, 'when': 194, 'where': 195, 'which': 196, 'while': 197, 'who': 198, 'will': 199, 'wing': 200, 'with': 201, 'work': 202, 'world': 203, 'would': 204, 'year': 205, 'yearold': 206, 'you': 207, '<startseq>': 208, '<endseq>': 209}\n",
            "<UNK> <UNK> <UNK> <UNK> <UNK> <UNK> <UNK> <UNK> <UNK> <UNK> <UNK> <UNK> <UNK> <UNK> <UNK> <UNK> <UNK> <UNK> <UNK> <UNK> <UNK> <UNK> <UNK> <UNK> <UNK> <UNK>\n",
            "validation started ...\n",
            "\n",
            "* Validation loss: 2.516728162765503 \n",
            "\n",
            "* Train Loss 2.8376\n"
          ]
        },
        {
          "output_type": "display_data",
          "data": {
            "text/plain": [
              "<Figure size 640x480 with 1 Axes>"
            ],
            "image/png": "[encoded data removed]"
          },
          "metadata": {}
        },
        {
          "output_type": "stream",
          "name": "stdout",
          "text": [
            "smallest val loss: (7, 2.5043287)\n",
            "\n",
            "Time taken for this epoch: 9.11 secs\n",
            "\n",
            "========================================\n",
            "Epoch 11 Batch 0 Loss 2.5994\n",
            "\n",
            "Summary Tokenizer Word Index: {'<UNK>': 1, 'a': 2, 'about': 3, 'adding': 4, 'advantage': 5, 'after': 6, 'ahead': 7, 'alex': 8, 'all': 9, 'am': 10, 'an': 11, 'and': 12, 'another': 13, 'are': 14, 'as': 15, 'at': 16, 'audi': 17, 'back': 18, 'bates': 19, 'bbc': 20, 'be': 21, 'because': 22, 'been': 23, 'before': 24, 'behind': 25, 'being': 26, 'belgian': 27, 'between': 28, 'brew': 29, 'buses': 30, 'but': 31, 'by': 32, 'can': 33, 'car': 34, 'cars': 35, 'changoalverez': 36, 'city': 37, 'clegg': 38, 'cost': 39, 'could': 40, 'crash': 41, 'debut': 42, 'did': 43, 'died': 44, 'dragons': 45, 'driver': 46, 'during': 47, 'each': 48, 'earlier': 49, 'either': 50, 'end': 51, 'even': 52, 'experience': 53, 'fagerson': 54, 'family': 55, 'favaro': 56, 'feel': 57, 'final': 58, 'fire': 59, 'first': 60, 'following': 61, 'for': 62, 'force': 63, 'from': 64, 'fusaro': 65, 'game': 66, 'go': 67, 'going': 68, 'good': 69, 'got': 70, 'had': 71, 'hale': 72, 'hamilton': 73, 'happen': 74, 'has': 75, 'have': 76, 'he': 77, 'her': 78, 'hewitt': 79, 'him': 80, 'his': 81, 'home': 82, 'hospital': 83, 'how': 84, 'i': 85, 'if': 86, 'in': 87, 'injury': 88, 'investigation': 89, 'is': 90, 'it': 91, 'job': 92, 'jones': 93, 'jury': 94, 'knew': 95, 'know': 96, 'kutlubay': 97, 'landman': 98, 'last': 99, 'later': 100, 'league': 101, 'left': 102, 'lincolnshire': 103, 'london': 104, 'made': 105, 'man': 106, 'mercedes': 107, 'mike': 108, 'minutes': 109, 'more': 110, 'motorbikes': 111, 'move': 112, 'mr': 113, 'naiyaravoro': 114, 'never': 115, 'new': 116, 'no': 117, 'not': 118, 'nothing': 119, 'now': 120, 'of': 121, 'on': 122, 'one': 123, 'only': 124, 'or': 125, 'our': 126, 'out': 127, 'over': 128, 'pass': 129, 'people': 130, 'police': 131, 'position': 132, 'practice': 133, 'premier': 134, 'qualifying': 135, 'race': 136, 'really': 137, 'riders': 138, 'road': 139, 'rory': 140, 'rosberg': 141, 'said': 142, 'same': 143, 'saturday': 144, 'says': 145, 'scott': 146, 'season': 147, 'second': 148, 'secs': 149, 'session': 150, 'several': 151, 'sexually': 152, 'she': 153, 'should': 154, 'showed': 155, 'start': 156, 'taken': 157, 'team': 158, 'teammate': 159, 'teams': 160, 'th': 161, 'than': 162, 'that': 163, 'the': 164, 'their': 165, 'them': 166, 'then': 167, 'there': 168, 'they': 169, 'this': 170, 'three': 171, 'through': 172, 'time': 173, 'to': 174, 'told': 175, 'took': 176, 'tottenham': 177, 'tour': 178, 'tovey': 179, 'try': 180, 'two': 181, 'us': 182, 'vandoorne': 183, 'very': 184, 'vettel': 185, 'want': 186, 'was': 187, 'way': 188, 'we': 189, 'weeks': 190, 'well': 191, 'were': 192, 'what': 193, 'when': 194, 'where': 195, 'which': 196, 'while': 197, 'who': 198, 'will': 199, 'wing': 200, 'with': 201, 'work': 202, 'world': 203, 'would': 204, 'year': 205, 'yearold': 206, 'you': 207, '<startseq>': 208, '<endseq>': 209}\n",
            "<UNK> <UNK> <UNK> <UNK> <UNK> <UNK> <UNK> <UNK> <UNK> <UNK> <UNK> <UNK> <UNK> <UNK> <UNK> <UNK> <UNK> <UNK> <UNK> <UNK> <UNK> <UNK> <UNK> <UNK> <UNK> <UNK>\n",
            "validation started ...\n",
            "\n",
            "* Validation loss: 2.452655076980591 \n",
            "\n",
            "* Train Loss 2.7089\n"
          ]
        },
        {
          "output_type": "display_data",
          "data": {
            "text/plain": [
              "<Figure size 640x480 with 1 Axes>"
            ],
            "image/png": "[encoded data removed]"
          },
          "metadata": {}
        },
        {
          "output_type": "stream",
          "name": "stdout",
          "text": [
            "smallest val loss: (11, 2.452655)\n",
            "\n",
            "Time taken for this epoch: 6.26 secs\n",
            "\n",
            "========================================\n",
            "Epoch 12 Batch 0 Loss 2.5427\n",
            "\n",
            "Summary Tokenizer Word Index: {'<UNK>': 1, 'a': 2, 'about': 3, 'adding': 4, 'advantage': 5, 'after': 6, 'ahead': 7, 'alex': 8, 'all': 9, 'am': 10, 'an': 11, 'and': 12, 'another': 13, 'are': 14, 'as': 15, 'at': 16, 'audi': 17, 'back': 18, 'bates': 19, 'bbc': 20, 'be': 21, 'because': 22, 'been': 23, 'before': 24, 'behind': 25, 'being': 26, 'belgian': 27, 'between': 28, 'brew': 29, 'buses': 30, 'but': 31, 'by': 32, 'can': 33, 'car': 34, 'cars': 35, 'changoalverez': 36, 'city': 37, 'clegg': 38, 'cost': 39, 'could': 40, 'crash': 41, 'debut': 42, 'did': 43, 'died': 44, 'dragons': 45, 'driver': 46, 'during': 47, 'each': 48, 'earlier': 49, 'either': 50, 'end': 51, 'even': 52, 'experience': 53, 'fagerson': 54, 'family': 55, 'favaro': 56, 'feel': 57, 'final': 58, 'fire': 59, 'first': 60, 'following': 61, 'for': 62, 'force': 63, 'from': 64, 'fusaro': 65, 'game': 66, 'go': 67, 'going': 68, 'good': 69, 'got': 70, 'had': 71, 'hale': 72, 'hamilton': 73, 'happen': 74, 'has': 75, 'have': 76, 'he': 77, 'her': 78, 'hewitt': 79, 'him': 80, 'his': 81, 'home': 82, 'hospital': 83, 'how': 84, 'i': 85, 'if': 86, 'in': 87, 'injury': 88, 'investigation': 89, 'is': 90, 'it': 91, 'job': 92, 'jones': 93, 'jury': 94, 'knew': 95, 'know': 96, 'kutlubay': 97, 'landman': 98, 'last': 99, 'later': 100, 'league': 101, 'left': 102, 'lincolnshire': 103, 'london': 104, 'made': 105, 'man': 106, 'mercedes': 107, 'mike': 108, 'minutes': 109, 'more': 110, 'motorbikes': 111, 'move': 112, 'mr': 113, 'naiyaravoro': 114, 'never': 115, 'new': 116, 'no': 117, 'not': 118, 'nothing': 119, 'now': 120, 'of': 121, 'on': 122, 'one': 123, 'only': 124, 'or': 125, 'our': 126, 'out': 127, 'over': 128, 'pass': 129, 'people': 130, 'police': 131, 'position': 132, 'practice': 133, 'premier': 134, 'qualifying': 135, 'race': 136, 'really': 137, 'riders': 138, 'road': 139, 'rory': 140, 'rosberg': 141, 'said': 142, 'same': 143, 'saturday': 144, 'says': 145, 'scott': 146, 'season': 147, 'second': 148, 'secs': 149, 'session': 150, 'several': 151, 'sexually': 152, 'she': 153, 'should': 154, 'showed': 155, 'start': 156, 'taken': 157, 'team': 158, 'teammate': 159, 'teams': 160, 'th': 161, 'than': 162, 'that': 163, 'the': 164, 'their': 165, 'them': 166, 'then': 167, 'there': 168, 'they': 169, 'this': 170, 'three': 171, 'through': 172, 'time': 173, 'to': 174, 'told': 175, 'took': 176, 'tottenham': 177, 'tour': 178, 'tovey': 179, 'try': 180, 'two': 181, 'us': 182, 'vandoorne': 183, 'very': 184, 'vettel': 185, 'want': 186, 'was': 187, 'way': 188, 'we': 189, 'weeks': 190, 'well': 191, 'were': 192, 'what': 193, 'when': 194, 'where': 195, 'which': 196, 'while': 197, 'who': 198, 'will': 199, 'wing': 200, 'with': 201, 'work': 202, 'world': 203, 'would': 204, 'year': 205, 'yearold': 206, 'you': 207, '<startseq>': 208, '<endseq>': 209}\n",
            "<UNK> <UNK> <UNK> <UNK> <UNK> <UNK> <UNK> <UNK> <UNK> <UNK> <UNK> <UNK> <UNK> <UNK> <UNK> <UNK> <UNK> <UNK> <UNK> <UNK> <UNK> <UNK> <UNK> <UNK> <UNK> <UNK>\n",
            "validation started ...\n",
            "\n",
            "* Validation loss: 2.471689462661743 \n",
            "\n",
            "* Train Loss 2.7906\n"
          ]
        },
        {
          "output_type": "display_data",
          "data": {
            "text/plain": [
              "<Figure size 640x480 with 1 Axes>"
            ],
            "image/png": "[encoded data removed]"
          },
          "metadata": {}
        },
        {
          "output_type": "stream",
          "name": "stdout",
          "text": [
            "smallest val loss: (11, 2.452655)\n",
            "\n",
            "Time taken for this epoch: 5.31 secs\n",
            "\n",
            "========================================\n",
            "Epoch 13 Batch 0 Loss 2.4961\n",
            "\n",
            "Summary Tokenizer Word Index: {'<UNK>': 1, 'a': 2, 'about': 3, 'adding': 4, 'advantage': 5, 'after': 6, 'ahead': 7, 'alex': 8, 'all': 9, 'am': 10, 'an': 11, 'and': 12, 'another': 13, 'are': 14, 'as': 15, 'at': 16, 'audi': 17, 'back': 18, 'bates': 19, 'bbc': 20, 'be': 21, 'because': 22, 'been': 23, 'before': 24, 'behind': 25, 'being': 26, 'belgian': 27, 'between': 28, 'brew': 29, 'buses': 30, 'but': 31, 'by': 32, 'can': 33, 'car': 34, 'cars': 35, 'changoalverez': 36, 'city': 37, 'clegg': 38, 'cost': 39, 'could': 40, 'crash': 41, 'debut': 42, 'did': 43, 'died': 44, 'dragons': 45, 'driver': 46, 'during': 47, 'each': 48, 'earlier': 49, 'either': 50, 'end': 51, 'even': 52, 'experience': 53, 'fagerson': 54, 'family': 55, 'favaro': 56, 'feel': 57, 'final': 58, 'fire': 59, 'first': 60, 'following': 61, 'for': 62, 'force': 63, 'from': 64, 'fusaro': 65, 'game': 66, 'go': 67, 'going': 68, 'good': 69, 'got': 70, 'had': 71, 'hale': 72, 'hamilton': 73, 'happen': 74, 'has': 75, 'have': 76, 'he': 77, 'her': 78, 'hewitt': 79, 'him': 80, 'his': 81, 'home': 82, 'hospital': 83, 'how': 84, 'i': 85, 'if': 86, 'in': 87, 'injury': 88, 'investigation': 89, 'is': 90, 'it': 91, 'job': 92, 'jones': 93, 'jury': 94, 'knew': 95, 'know': 96, 'kutlubay': 97, 'landman': 98, 'last': 99, 'later': 100, 'league': 101, 'left': 102, 'lincolnshire': 103, 'london': 104, 'made': 105, 'man': 106, 'mercedes': 107, 'mike': 108, 'minutes': 109, 'more': 110, 'motorbikes': 111, 'move': 112, 'mr': 113, 'naiyaravoro': 114, 'never': 115, 'new': 116, 'no': 117, 'not': 118, 'nothing': 119, 'now': 120, 'of': 121, 'on': 122, 'one': 123, 'only': 124, 'or': 125, 'our': 126, 'out': 127, 'over': 128, 'pass': 129, 'people': 130, 'police': 131, 'position': 132, 'practice': 133, 'premier': 134, 'qualifying': 135, 'race': 136, 'really': 137, 'riders': 138, 'road': 139, 'rory': 140, 'rosberg': 141, 'said': 142, 'same': 143, 'saturday': 144, 'says': 145, 'scott': 146, 'season': 147, 'second': 148, 'secs': 149, 'session': 150, 'several': 151, 'sexually': 152, 'she': 153, 'should': 154, 'showed': 155, 'start': 156, 'taken': 157, 'team': 158, 'teammate': 159, 'teams': 160, 'th': 161, 'than': 162, 'that': 163, 'the': 164, 'their': 165, 'them': 166, 'then': 167, 'there': 168, 'they': 169, 'this': 170, 'three': 171, 'through': 172, 'time': 173, 'to': 174, 'told': 175, 'took': 176, 'tottenham': 177, 'tour': 178, 'tovey': 179, 'try': 180, 'two': 181, 'us': 182, 'vandoorne': 183, 'very': 184, 'vettel': 185, 'want': 186, 'was': 187, 'way': 188, 'we': 189, 'weeks': 190, 'well': 191, 'were': 192, 'what': 193, 'when': 194, 'where': 195, 'which': 196, 'while': 197, 'who': 198, 'will': 199, 'wing': 200, 'with': 201, 'work': 202, 'world': 203, 'would': 204, 'year': 205, 'yearold': 206, 'you': 207, '<startseq>': 208, '<endseq>': 209}\n"
          ]
        },
        {
          "output_type": "error",
          "ename": "KeyboardInterrupt",
          "evalue": "ignored",
          "traceback": [
            "\u001b[0;31m---------------------------------------------------------------------------\u001b[0m",
            "\u001b[0;31mKeyboardInterrupt\u001b[0m                         Traceback (most recent call last)",
            "\u001b[0;32m<ipython-input-48-c1b40fda6f0c>\u001b[0m in \u001b[0;36m<cell line: 4>\u001b[0;34m()\u001b[0m\n\u001b[1;32m     17\u001b[0m     \u001b[0mprint\u001b[0m\u001b[0;34m(\u001b[0m\u001b[0;34m\"Summary Tokenizer Word Index:\"\u001b[0m\u001b[0;34m,\u001b[0m \u001b[0msummary_tokenizer\u001b[0m\u001b[0;34m.\u001b[0m\u001b[0mword_index\u001b[0m\u001b[0;34m)\u001b[0m\u001b[0;34m\u001b[0m\u001b[0;34m\u001b[0m\u001b[0m\n\u001b[1;32m     18\u001b[0m \u001b[0;34m\u001b[0m\u001b[0m\n\u001b[0;32m---> 19\u001b[0;31m     \u001b[0mprint\u001b[0m\u001b[0;34m(\u001b[0m\u001b[0msummarize\u001b[0m\u001b[0;34m(\u001b[0m\u001b[0mclean_words\u001b[0m\u001b[0;34m(\u001b[0m\u001b[0mlongreview_val\u001b[0m\u001b[0;34m[\u001b[0m\u001b[0;34m'long'\u001b[0m\u001b[0;34m]\u001b[0m\u001b[0;34m[\u001b[0m\u001b[0mi1\u001b[0m\u001b[0;34m]\u001b[0m\u001b[0;34m)\u001b[0m\u001b[0;34m)\u001b[0m\u001b[0;34m)\u001b[0m\u001b[0;34m\u001b[0m\u001b[0;34m\u001b[0m\u001b[0m\n\u001b[0m\u001b[1;32m     20\u001b[0m     \u001b[0;31m# print(summarize(clean_words(longreview_val['long'][i2])))\u001b[0m\u001b[0;34m\u001b[0m\u001b[0;34m\u001b[0m\u001b[0m\n\u001b[1;32m     21\u001b[0m     \u001b[0;31m# print(summarize(clean_words(longreview_val['long'][i3])))\u001b[0m\u001b[0;34m\u001b[0m\u001b[0;34m\u001b[0m\u001b[0m\n",
            "\u001b[0;32m<ipython-input-42-04e6d88c76c4>\u001b[0m in \u001b[0;36msummarize\u001b[0;34m(input_document)\u001b[0m\n\u001b[1;32m     32\u001b[0m \u001b[0;32mdef\u001b[0m \u001b[0msummarize\u001b[0m\u001b[0;34m(\u001b[0m\u001b[0minput_document\u001b[0m\u001b[0;34m)\u001b[0m\u001b[0;34m:\u001b[0m\u001b[0;34m\u001b[0m\u001b[0;34m\u001b[0m\u001b[0m\n\u001b[1;32m     33\u001b[0m     \u001b[0;31m# not considering attention weights for now, can be used to plot attention heatmaps in the future\u001b[0m\u001b[0;34m\u001b[0m\u001b[0;34m\u001b[0m\u001b[0m\n\u001b[0;32m---> 34\u001b[0;31m     \u001b[0msummarized\u001b[0m \u001b[0;34m=\u001b[0m \u001b[0mevaluate\u001b[0m\u001b[0;34m(\u001b[0m\u001b[0minput_document\u001b[0m\u001b[0;34m=\u001b[0m\u001b[0minput_document\u001b[0m\u001b[0;34m)\u001b[0m\u001b[0;34m[\u001b[0m\u001b[0;36m0\u001b[0m\u001b[0;34m]\u001b[0m\u001b[0;34m.\u001b[0m\u001b[0mnumpy\u001b[0m\u001b[0;34m(\u001b[0m\u001b[0;34m)\u001b[0m\u001b[0;34m\u001b[0m\u001b[0;34m\u001b[0m\u001b[0m\n\u001b[0m\u001b[1;32m     35\u001b[0m     \u001b[0msummarized\u001b[0m \u001b[0;34m=\u001b[0m \u001b[0mnp\u001b[0m\u001b[0;34m.\u001b[0m\u001b[0mexpand_dims\u001b[0m\u001b[0;34m(\u001b[0m\u001b[0msummarized\u001b[0m\u001b[0;34m[\u001b[0m\u001b[0;36m1\u001b[0m\u001b[0;34m:\u001b[0m\u001b[0;34m]\u001b[0m\u001b[0;34m,\u001b[0m \u001b[0;36m0\u001b[0m\u001b[0;34m)\u001b[0m  \u001b[0;31m# remove start_token\u001b[0m\u001b[0;34m\u001b[0m\u001b[0;34m\u001b[0m\u001b[0m\n\u001b[1;32m     36\u001b[0m     \u001b[0;32mreturn\u001b[0m \u001b[0msummary_tokenizer\u001b[0m\u001b[0;34m.\u001b[0m\u001b[0msequences_to_texts\u001b[0m\u001b[0;34m(\u001b[0m\u001b[0msummarized\u001b[0m\u001b[0;34m)\u001b[0m\u001b[0;34m[\u001b[0m\u001b[0;36m0\u001b[0m\u001b[0;34m]\u001b[0m  \u001b[0;31m# since there is just one translated document\u001b[0m\u001b[0;34m\u001b[0m\u001b[0;34m\u001b[0m\u001b[0m\n",
            "\u001b[0;32m<ipython-input-42-04e6d88c76c4>\u001b[0m in \u001b[0;36mevaluate\u001b[0;34m(input_document)\u001b[0m\n\u001b[1;32m     12\u001b[0m         \u001b[0menc_padding_mask\u001b[0m\u001b[0;34m,\u001b[0m \u001b[0mcombined_mask\u001b[0m\u001b[0;34m,\u001b[0m \u001b[0mdec_padding_mask\u001b[0m \u001b[0;34m=\u001b[0m \u001b[0mcreate_masks\u001b[0m\u001b[0;34m(\u001b[0m\u001b[0mencoder_input\u001b[0m\u001b[0;34m,\u001b[0m \u001b[0moutput\u001b[0m\u001b[0;34m)\u001b[0m\u001b[0;34m\u001b[0m\u001b[0;34m\u001b[0m\u001b[0m\n\u001b[1;32m     13\u001b[0m \u001b[0;34m\u001b[0m\u001b[0m\n\u001b[0;32m---> 14\u001b[0;31m         predictions, attention_weights = transformer(\n\u001b[0m\u001b[1;32m     15\u001b[0m             \u001b[0mencoder_input\u001b[0m\u001b[0;34m,\u001b[0m\u001b[0;34m\u001b[0m\u001b[0;34m\u001b[0m\u001b[0m\n\u001b[1;32m     16\u001b[0m             \u001b[0moutput\u001b[0m\u001b[0;34m,\u001b[0m\u001b[0;34m\u001b[0m\u001b[0;34m\u001b[0m\u001b[0m\n",
            "\u001b[0;32m/usr/local/lib/python3.10/dist-packages/keras/utils/traceback_utils.py\u001b[0m in \u001b[0;36merror_handler\u001b[0;34m(*args, **kwargs)\u001b[0m\n\u001b[1;32m     63\u001b[0m         \u001b[0mfiltered_tb\u001b[0m \u001b[0;34m=\u001b[0m \u001b[0;32mNone\u001b[0m\u001b[0;34m\u001b[0m\u001b[0;34m\u001b[0m\u001b[0m\n\u001b[1;32m     64\u001b[0m         \u001b[0;32mtry\u001b[0m\u001b[0;34m:\u001b[0m\u001b[0;34m\u001b[0m\u001b[0;34m\u001b[0m\u001b[0m\n\u001b[0;32m---> 65\u001b[0;31m             \u001b[0;32mreturn\u001b[0m \u001b[0mfn\u001b[0m\u001b[0;34m(\u001b[0m\u001b[0;34m*\u001b[0m\u001b[0margs\u001b[0m\u001b[0;34m,\u001b[0m \u001b[0;34m**\u001b[0m\u001b[0mkwargs\u001b[0m\u001b[0;34m)\u001b[0m\u001b[0;34m\u001b[0m\u001b[0;34m\u001b[0m\u001b[0m\n\u001b[0m\u001b[1;32m     66\u001b[0m         \u001b[0;32mexcept\u001b[0m \u001b[0mException\u001b[0m \u001b[0;32mas\u001b[0m \u001b[0me\u001b[0m\u001b[0;34m:\u001b[0m\u001b[0;34m\u001b[0m\u001b[0;34m\u001b[0m\u001b[0m\n\u001b[1;32m     67\u001b[0m             \u001b[0mfiltered_tb\u001b[0m \u001b[0;34m=\u001b[0m \u001b[0m_process_traceback_frames\u001b[0m\u001b[0;34m(\u001b[0m\u001b[0me\u001b[0m\u001b[0;34m.\u001b[0m\u001b[0m__traceback__\u001b[0m\u001b[0;34m)\u001b[0m\u001b[0;34m\u001b[0m\u001b[0;34m\u001b[0m\u001b[0m\n",
            "\u001b[0;32m/usr/local/lib/python3.10/dist-packages/keras/engine/training.py\u001b[0m in \u001b[0;36m__call__\u001b[0;34m(self, *args, **kwargs)\u001b[0m\n\u001b[1;32m    556\u001b[0m             \u001b[0mlayout_map_lib\u001b[0m\u001b[0;34m.\u001b[0m\u001b[0m_map_subclass_model_variable\u001b[0m\u001b[0;34m(\u001b[0m\u001b[0mself\u001b[0m\u001b[0;34m,\u001b[0m \u001b[0mself\u001b[0m\u001b[0;34m.\u001b[0m\u001b[0m_layout_map\u001b[0m\u001b[0;34m)\u001b[0m\u001b[0;34m\u001b[0m\u001b[0;34m\u001b[0m\u001b[0m\n\u001b[1;32m    557\u001b[0m \u001b[0;34m\u001b[0m\u001b[0m\n\u001b[0;32m--> 558\u001b[0;31m         \u001b[0;32mreturn\u001b[0m \u001b[0msuper\u001b[0m\u001b[0;34m(\u001b[0m\u001b[0;34m)\u001b[0m\u001b[0;34m.\u001b[0m\u001b[0m__call__\u001b[0m\u001b[0;34m(\u001b[0m\u001b[0;34m*\u001b[0m\u001b[0margs\u001b[0m\u001b[0;34m,\u001b[0m \u001b[0;34m**\u001b[0m\u001b[0mkwargs\u001b[0m\u001b[0;34m)\u001b[0m\u001b[0;34m\u001b[0m\u001b[0;34m\u001b[0m\u001b[0m\n\u001b[0m\u001b[1;32m    559\u001b[0m \u001b[0;34m\u001b[0m\u001b[0m\n\u001b[1;32m    560\u001b[0m     \u001b[0;34m@\u001b[0m\u001b[0mdoc_controls\u001b[0m\u001b[0;34m.\u001b[0m\u001b[0mdoc_in_current_and_subclasses\u001b[0m\u001b[0;34m\u001b[0m\u001b[0;34m\u001b[0m\u001b[0m\n",
            "\u001b[0;32m/usr/local/lib/python3.10/dist-packages/keras/utils/traceback_utils.py\u001b[0m in \u001b[0;36merror_handler\u001b[0;34m(*args, **kwargs)\u001b[0m\n\u001b[1;32m     63\u001b[0m         \u001b[0mfiltered_tb\u001b[0m \u001b[0;34m=\u001b[0m \u001b[0;32mNone\u001b[0m\u001b[0;34m\u001b[0m\u001b[0;34m\u001b[0m\u001b[0m\n\u001b[1;32m     64\u001b[0m         \u001b[0;32mtry\u001b[0m\u001b[0;34m:\u001b[0m\u001b[0;34m\u001b[0m\u001b[0;34m\u001b[0m\u001b[0m\n\u001b[0;32m---> 65\u001b[0;31m             \u001b[0;32mreturn\u001b[0m \u001b[0mfn\u001b[0m\u001b[0;34m(\u001b[0m\u001b[0;34m*\u001b[0m\u001b[0margs\u001b[0m\u001b[0;34m,\u001b[0m \u001b[0;34m**\u001b[0m\u001b[0mkwargs\u001b[0m\u001b[0;34m)\u001b[0m\u001b[0;34m\u001b[0m\u001b[0;34m\u001b[0m\u001b[0m\n\u001b[0m\u001b[1;32m     66\u001b[0m         \u001b[0;32mexcept\u001b[0m \u001b[0mException\u001b[0m \u001b[0;32mas\u001b[0m \u001b[0me\u001b[0m\u001b[0;34m:\u001b[0m\u001b[0;34m\u001b[0m\u001b[0;34m\u001b[0m\u001b[0m\n\u001b[1;32m     67\u001b[0m             \u001b[0mfiltered_tb\u001b[0m \u001b[0;34m=\u001b[0m \u001b[0m_process_traceback_frames\u001b[0m\u001b[0;34m(\u001b[0m\u001b[0me\u001b[0m\u001b[0;34m.\u001b[0m\u001b[0m__traceback__\u001b[0m\u001b[0;34m)\u001b[0m\u001b[0;34m\u001b[0m\u001b[0;34m\u001b[0m\u001b[0m\n",
            "\u001b[0;32m/usr/local/lib/python3.10/dist-packages/keras/engine/base_layer.py\u001b[0m in \u001b[0;36m__call__\u001b[0;34m(self, *args, **kwargs)\u001b[0m\n\u001b[1;32m   1143\u001b[0m                     \u001b[0mself\u001b[0m\u001b[0;34m.\u001b[0m\u001b[0m_compute_dtype_object\u001b[0m\u001b[0;34m\u001b[0m\u001b[0;34m\u001b[0m\u001b[0m\n\u001b[1;32m   1144\u001b[0m                 ):\n\u001b[0;32m-> 1145\u001b[0;31m                     \u001b[0moutputs\u001b[0m \u001b[0;34m=\u001b[0m \u001b[0mcall_fn\u001b[0m\u001b[0;34m(\u001b[0m\u001b[0minputs\u001b[0m\u001b[0;34m,\u001b[0m \u001b[0;34m*\u001b[0m\u001b[0margs\u001b[0m\u001b[0;34m,\u001b[0m \u001b[0;34m**\u001b[0m\u001b[0mkwargs\u001b[0m\u001b[0;34m)\u001b[0m\u001b[0;34m\u001b[0m\u001b[0;34m\u001b[0m\u001b[0m\n\u001b[0m\u001b[1;32m   1146\u001b[0m \u001b[0;34m\u001b[0m\u001b[0m\n\u001b[1;32m   1147\u001b[0m                 \u001b[0;32mif\u001b[0m \u001b[0mself\u001b[0m\u001b[0;34m.\u001b[0m\u001b[0m_activity_regularizer\u001b[0m\u001b[0;34m:\u001b[0m\u001b[0;34m\u001b[0m\u001b[0;34m\u001b[0m\u001b[0m\n",
            "\u001b[0;32m/usr/local/lib/python3.10/dist-packages/keras/utils/traceback_utils.py\u001b[0m in \u001b[0;36merror_handler\u001b[0;34m(*args, **kwargs)\u001b[0m\n\u001b[1;32m     94\u001b[0m         \u001b[0mbound_signature\u001b[0m \u001b[0;34m=\u001b[0m \u001b[0;32mNone\u001b[0m\u001b[0;34m\u001b[0m\u001b[0;34m\u001b[0m\u001b[0m\n\u001b[1;32m     95\u001b[0m         \u001b[0;32mtry\u001b[0m\u001b[0;34m:\u001b[0m\u001b[0;34m\u001b[0m\u001b[0;34m\u001b[0m\u001b[0m\n\u001b[0;32m---> 96\u001b[0;31m             \u001b[0;32mreturn\u001b[0m \u001b[0mfn\u001b[0m\u001b[0;34m(\u001b[0m\u001b[0;34m*\u001b[0m\u001b[0margs\u001b[0m\u001b[0;34m,\u001b[0m \u001b[0;34m**\u001b[0m\u001b[0mkwargs\u001b[0m\u001b[0;34m)\u001b[0m\u001b[0;34m\u001b[0m\u001b[0;34m\u001b[0m\u001b[0m\n\u001b[0m\u001b[1;32m     97\u001b[0m         \u001b[0;32mexcept\u001b[0m \u001b[0mException\u001b[0m \u001b[0;32mas\u001b[0m \u001b[0me\u001b[0m\u001b[0;34m:\u001b[0m\u001b[0;34m\u001b[0m\u001b[0;34m\u001b[0m\u001b[0m\n\u001b[1;32m     98\u001b[0m             \u001b[0;32mif\u001b[0m \u001b[0mhasattr\u001b[0m\u001b[0;34m(\u001b[0m\u001b[0me\u001b[0m\u001b[0;34m,\u001b[0m \u001b[0;34m\"_keras_call_info_injected\"\u001b[0m\u001b[0;34m)\u001b[0m\u001b[0;34m:\u001b[0m\u001b[0;34m\u001b[0m\u001b[0;34m\u001b[0m\u001b[0m\n",
            "\u001b[0;32m<ipython-input-34-9661528a2c32>\u001b[0m in \u001b[0;36mcall\u001b[0;34m(self, inp, tar, training, enc_padding_mask, look_ahead_mask, dec_padding_mask)\u001b[0m\n\u001b[1;32m     13\u001b[0m     \u001b[0;31m# training argument is used in dropout inputs\u001b[0m\u001b[0;34m\u001b[0m\u001b[0;34m\u001b[0m\u001b[0m\n\u001b[1;32m     14\u001b[0m     \u001b[0;32mdef\u001b[0m \u001b[0mcall\u001b[0m\u001b[0;34m(\u001b[0m\u001b[0mself\u001b[0m\u001b[0;34m,\u001b[0m \u001b[0minp\u001b[0m\u001b[0;34m,\u001b[0m \u001b[0mtar\u001b[0m\u001b[0;34m,\u001b[0m \u001b[0mtraining\u001b[0m\u001b[0;34m,\u001b[0m \u001b[0menc_padding_mask\u001b[0m\u001b[0;34m,\u001b[0m \u001b[0mlook_ahead_mask\u001b[0m\u001b[0;34m,\u001b[0m \u001b[0mdec_padding_mask\u001b[0m\u001b[0;34m)\u001b[0m\u001b[0;34m:\u001b[0m\u001b[0;34m\u001b[0m\u001b[0;34m\u001b[0m\u001b[0m\n\u001b[0;32m---> 15\u001b[0;31m         \u001b[0menc_output\u001b[0m \u001b[0;34m=\u001b[0m \u001b[0mself\u001b[0m\u001b[0;34m.\u001b[0m\u001b[0mencoder\u001b[0m\u001b[0;34m(\u001b[0m\u001b[0minp\u001b[0m\u001b[0;34m,\u001b[0m \u001b[0mtraining\u001b[0m\u001b[0;34m,\u001b[0m \u001b[0menc_padding_mask\u001b[0m\u001b[0;34m)\u001b[0m\u001b[0;34m\u001b[0m\u001b[0;34m\u001b[0m\u001b[0m\n\u001b[0m\u001b[1;32m     16\u001b[0m \u001b[0;34m\u001b[0m\u001b[0m\n\u001b[1;32m     17\u001b[0m         \u001b[0mdec_output\u001b[0m\u001b[0;34m,\u001b[0m \u001b[0mattention_weights\u001b[0m \u001b[0;34m=\u001b[0m \u001b[0mself\u001b[0m\u001b[0;34m.\u001b[0m\u001b[0mdecoder\u001b[0m\u001b[0;34m(\u001b[0m\u001b[0mtar\u001b[0m\u001b[0;34m,\u001b[0m \u001b[0menc_output\u001b[0m\u001b[0;34m,\u001b[0m \u001b[0mtraining\u001b[0m\u001b[0;34m,\u001b[0m \u001b[0mlook_ahead_mask\u001b[0m\u001b[0;34m,\u001b[0m \u001b[0mdec_padding_mask\u001b[0m\u001b[0;34m)\u001b[0m\u001b[0;34m\u001b[0m\u001b[0;34m\u001b[0m\u001b[0m\n",
            "\u001b[0;32m/usr/local/lib/python3.10/dist-packages/keras/utils/traceback_utils.py\u001b[0m in \u001b[0;36merror_handler\u001b[0;34m(*args, **kwargs)\u001b[0m\n\u001b[1;32m     63\u001b[0m         \u001b[0mfiltered_tb\u001b[0m \u001b[0;34m=\u001b[0m \u001b[0;32mNone\u001b[0m\u001b[0;34m\u001b[0m\u001b[0;34m\u001b[0m\u001b[0m\n\u001b[1;32m     64\u001b[0m         \u001b[0;32mtry\u001b[0m\u001b[0;34m:\u001b[0m\u001b[0;34m\u001b[0m\u001b[0;34m\u001b[0m\u001b[0m\n\u001b[0;32m---> 65\u001b[0;31m             \u001b[0;32mreturn\u001b[0m \u001b[0mfn\u001b[0m\u001b[0;34m(\u001b[0m\u001b[0;34m*\u001b[0m\u001b[0margs\u001b[0m\u001b[0;34m,\u001b[0m \u001b[0;34m**\u001b[0m\u001b[0mkwargs\u001b[0m\u001b[0;34m)\u001b[0m\u001b[0;34m\u001b[0m\u001b[0;34m\u001b[0m\u001b[0m\n\u001b[0m\u001b[1;32m     66\u001b[0m         \u001b[0;32mexcept\u001b[0m \u001b[0mException\u001b[0m \u001b[0;32mas\u001b[0m \u001b[0me\u001b[0m\u001b[0;34m:\u001b[0m\u001b[0;34m\u001b[0m\u001b[0;34m\u001b[0m\u001b[0m\n\u001b[1;32m     67\u001b[0m             \u001b[0mfiltered_tb\u001b[0m \u001b[0;34m=\u001b[0m \u001b[0m_process_traceback_frames\u001b[0m\u001b[0;34m(\u001b[0m\u001b[0me\u001b[0m\u001b[0;34m.\u001b[0m\u001b[0m__traceback__\u001b[0m\u001b[0;34m)\u001b[0m\u001b[0;34m\u001b[0m\u001b[0;34m\u001b[0m\u001b[0m\n",
            "\u001b[0;32m/usr/local/lib/python3.10/dist-packages/keras/engine/base_layer.py\u001b[0m in \u001b[0;36m__call__\u001b[0;34m(self, *args, **kwargs)\u001b[0m\n\u001b[1;32m   1143\u001b[0m                     \u001b[0mself\u001b[0m\u001b[0;34m.\u001b[0m\u001b[0m_compute_dtype_object\u001b[0m\u001b[0;34m\u001b[0m\u001b[0;34m\u001b[0m\u001b[0m\n\u001b[1;32m   1144\u001b[0m                 ):\n\u001b[0;32m-> 1145\u001b[0;31m                     \u001b[0moutputs\u001b[0m \u001b[0;34m=\u001b[0m \u001b[0mcall_fn\u001b[0m\u001b[0;34m(\u001b[0m\u001b[0minputs\u001b[0m\u001b[0;34m,\u001b[0m \u001b[0;34m*\u001b[0m\u001b[0margs\u001b[0m\u001b[0;34m,\u001b[0m \u001b[0;34m**\u001b[0m\u001b[0mkwargs\u001b[0m\u001b[0;34m)\u001b[0m\u001b[0;34m\u001b[0m\u001b[0;34m\u001b[0m\u001b[0m\n\u001b[0m\u001b[1;32m   1146\u001b[0m \u001b[0;34m\u001b[0m\u001b[0m\n\u001b[1;32m   1147\u001b[0m                 \u001b[0;32mif\u001b[0m \u001b[0mself\u001b[0m\u001b[0;34m.\u001b[0m\u001b[0m_activity_regularizer\u001b[0m\u001b[0;34m:\u001b[0m\u001b[0;34m\u001b[0m\u001b[0;34m\u001b[0m\u001b[0m\n",
            "\u001b[0;32m/usr/local/lib/python3.10/dist-packages/keras/utils/traceback_utils.py\u001b[0m in \u001b[0;36merror_handler\u001b[0;34m(*args, **kwargs)\u001b[0m\n\u001b[1;32m     94\u001b[0m         \u001b[0mbound_signature\u001b[0m \u001b[0;34m=\u001b[0m \u001b[0;32mNone\u001b[0m\u001b[0;34m\u001b[0m\u001b[0;34m\u001b[0m\u001b[0m\n\u001b[1;32m     95\u001b[0m         \u001b[0;32mtry\u001b[0m\u001b[0;34m:\u001b[0m\u001b[0;34m\u001b[0m\u001b[0;34m\u001b[0m\u001b[0m\n\u001b[0;32m---> 96\u001b[0;31m             \u001b[0;32mreturn\u001b[0m \u001b[0mfn\u001b[0m\u001b[0;34m(\u001b[0m\u001b[0;34m*\u001b[0m\u001b[0margs\u001b[0m\u001b[0;34m,\u001b[0m \u001b[0;34m**\u001b[0m\u001b[0mkwargs\u001b[0m\u001b[0;34m)\u001b[0m\u001b[0;34m\u001b[0m\u001b[0;34m\u001b[0m\u001b[0m\n\u001b[0m\u001b[1;32m     97\u001b[0m         \u001b[0;32mexcept\u001b[0m \u001b[0mException\u001b[0m \u001b[0;32mas\u001b[0m \u001b[0me\u001b[0m\u001b[0;34m:\u001b[0m\u001b[0;34m\u001b[0m\u001b[0;34m\u001b[0m\u001b[0m\n\u001b[1;32m     98\u001b[0m             \u001b[0;32mif\u001b[0m \u001b[0mhasattr\u001b[0m\u001b[0;34m(\u001b[0m\u001b[0me\u001b[0m\u001b[0;34m,\u001b[0m \u001b[0;34m\"_keras_call_info_injected\"\u001b[0m\u001b[0;34m)\u001b[0m\u001b[0;34m:\u001b[0m\u001b[0;34m\u001b[0m\u001b[0;34m\u001b[0m\u001b[0m\n",
            "\u001b[0;32m<ipython-input-32-0c53a7badfef>\u001b[0m in \u001b[0;36mcall\u001b[0;34m(self, x, training, mask)\u001b[0m\n\u001b[1;32m     25\u001b[0m \u001b[0;34m\u001b[0m\u001b[0m\n\u001b[1;32m     26\u001b[0m         \u001b[0;32mfor\u001b[0m \u001b[0mi\u001b[0m \u001b[0;32min\u001b[0m \u001b[0mrange\u001b[0m\u001b[0;34m(\u001b[0m\u001b[0mself\u001b[0m\u001b[0;34m.\u001b[0m\u001b[0mnum_layers\u001b[0m\u001b[0;34m)\u001b[0m\u001b[0;34m:\u001b[0m\u001b[0;34m\u001b[0m\u001b[0;34m\u001b[0m\u001b[0m\n\u001b[0;32m---> 27\u001b[0;31m             \u001b[0mx\u001b[0m \u001b[0;34m=\u001b[0m \u001b[0mself\u001b[0m\u001b[0;34m.\u001b[0m\u001b[0menc_layers\u001b[0m\u001b[0;34m[\u001b[0m\u001b[0mi\u001b[0m\u001b[0;34m]\u001b[0m\u001b[0;34m(\u001b[0m\u001b[0mx\u001b[0m\u001b[0;34m,\u001b[0m \u001b[0mtraining\u001b[0m\u001b[0;34m,\u001b[0m \u001b[0mmask\u001b[0m\u001b[0;34m)\u001b[0m\u001b[0;34m\u001b[0m\u001b[0;34m\u001b[0m\u001b[0m\n\u001b[0m\u001b[1;32m     28\u001b[0m \u001b[0;34m\u001b[0m\u001b[0m\n\u001b[1;32m     29\u001b[0m         \u001b[0;32mreturn\u001b[0m \u001b[0mx\u001b[0m\u001b[0;34m\u001b[0m\u001b[0;34m\u001b[0m\u001b[0m\n",
            "\u001b[0;32m/usr/local/lib/python3.10/dist-packages/keras/utils/traceback_utils.py\u001b[0m in \u001b[0;36merror_handler\u001b[0;34m(*args, **kwargs)\u001b[0m\n\u001b[1;32m     63\u001b[0m         \u001b[0mfiltered_tb\u001b[0m \u001b[0;34m=\u001b[0m \u001b[0;32mNone\u001b[0m\u001b[0;34m\u001b[0m\u001b[0;34m\u001b[0m\u001b[0m\n\u001b[1;32m     64\u001b[0m         \u001b[0;32mtry\u001b[0m\u001b[0;34m:\u001b[0m\u001b[0;34m\u001b[0m\u001b[0;34m\u001b[0m\u001b[0m\n\u001b[0;32m---> 65\u001b[0;31m             \u001b[0;32mreturn\u001b[0m \u001b[0mfn\u001b[0m\u001b[0;34m(\u001b[0m\u001b[0;34m*\u001b[0m\u001b[0margs\u001b[0m\u001b[0;34m,\u001b[0m \u001b[0;34m**\u001b[0m\u001b[0mkwargs\u001b[0m\u001b[0;34m)\u001b[0m\u001b[0;34m\u001b[0m\u001b[0;34m\u001b[0m\u001b[0m\n\u001b[0m\u001b[1;32m     66\u001b[0m         \u001b[0;32mexcept\u001b[0m \u001b[0mException\u001b[0m \u001b[0;32mas\u001b[0m \u001b[0me\u001b[0m\u001b[0;34m:\u001b[0m\u001b[0;34m\u001b[0m\u001b[0;34m\u001b[0m\u001b[0m\n\u001b[1;32m     67\u001b[0m             \u001b[0mfiltered_tb\u001b[0m \u001b[0;34m=\u001b[0m \u001b[0m_process_traceback_frames\u001b[0m\u001b[0;34m(\u001b[0m\u001b[0me\u001b[0m\u001b[0;34m.\u001b[0m\u001b[0m__traceback__\u001b[0m\u001b[0;34m)\u001b[0m\u001b[0;34m\u001b[0m\u001b[0;34m\u001b[0m\u001b[0m\n",
            "\u001b[0;32m/usr/local/lib/python3.10/dist-packages/keras/engine/base_layer.py\u001b[0m in \u001b[0;36m__call__\u001b[0;34m(self, *args, **kwargs)\u001b[0m\n\u001b[1;32m   1143\u001b[0m                     \u001b[0mself\u001b[0m\u001b[0;34m.\u001b[0m\u001b[0m_compute_dtype_object\u001b[0m\u001b[0;34m\u001b[0m\u001b[0;34m\u001b[0m\u001b[0m\n\u001b[1;32m   1144\u001b[0m                 ):\n\u001b[0;32m-> 1145\u001b[0;31m                     \u001b[0moutputs\u001b[0m \u001b[0;34m=\u001b[0m \u001b[0mcall_fn\u001b[0m\u001b[0;34m(\u001b[0m\u001b[0minputs\u001b[0m\u001b[0;34m,\u001b[0m \u001b[0;34m*\u001b[0m\u001b[0margs\u001b[0m\u001b[0;34m,\u001b[0m \u001b[0;34m**\u001b[0m\u001b[0mkwargs\u001b[0m\u001b[0;34m)\u001b[0m\u001b[0;34m\u001b[0m\u001b[0;34m\u001b[0m\u001b[0m\n\u001b[0m\u001b[1;32m   1146\u001b[0m \u001b[0;34m\u001b[0m\u001b[0m\n\u001b[1;32m   1147\u001b[0m                 \u001b[0;32mif\u001b[0m \u001b[0mself\u001b[0m\u001b[0;34m.\u001b[0m\u001b[0m_activity_regularizer\u001b[0m\u001b[0;34m:\u001b[0m\u001b[0;34m\u001b[0m\u001b[0;34m\u001b[0m\u001b[0m\n",
            "\u001b[0;32m/usr/local/lib/python3.10/dist-packages/keras/utils/traceback_utils.py\u001b[0m in \u001b[0;36merror_handler\u001b[0;34m(*args, **kwargs)\u001b[0m\n\u001b[1;32m     94\u001b[0m         \u001b[0mbound_signature\u001b[0m \u001b[0;34m=\u001b[0m \u001b[0;32mNone\u001b[0m\u001b[0;34m\u001b[0m\u001b[0;34m\u001b[0m\u001b[0m\n\u001b[1;32m     95\u001b[0m         \u001b[0;32mtry\u001b[0m\u001b[0;34m:\u001b[0m\u001b[0;34m\u001b[0m\u001b[0;34m\u001b[0m\u001b[0m\n\u001b[0;32m---> 96\u001b[0;31m             \u001b[0;32mreturn\u001b[0m \u001b[0mfn\u001b[0m\u001b[0;34m(\u001b[0m\u001b[0;34m*\u001b[0m\u001b[0margs\u001b[0m\u001b[0;34m,\u001b[0m \u001b[0;34m**\u001b[0m\u001b[0mkwargs\u001b[0m\u001b[0;34m)\u001b[0m\u001b[0;34m\u001b[0m\u001b[0;34m\u001b[0m\u001b[0m\n\u001b[0m\u001b[1;32m     97\u001b[0m         \u001b[0;32mexcept\u001b[0m \u001b[0mException\u001b[0m \u001b[0;32mas\u001b[0m \u001b[0me\u001b[0m\u001b[0;34m:\u001b[0m\u001b[0;34m\u001b[0m\u001b[0;34m\u001b[0m\u001b[0m\n\u001b[1;32m     98\u001b[0m             \u001b[0;32mif\u001b[0m \u001b[0mhasattr\u001b[0m\u001b[0;34m(\u001b[0m\u001b[0me\u001b[0m\u001b[0;34m,\u001b[0m \u001b[0;34m\"_keras_call_info_injected\"\u001b[0m\u001b[0;34m)\u001b[0m\u001b[0;34m:\u001b[0m\u001b[0;34m\u001b[0m\u001b[0;34m\u001b[0m\u001b[0m\n",
            "\u001b[0;32m<ipython-input-30-3334a526a519>\u001b[0m in \u001b[0;36mcall\u001b[0;34m(self, x, training, mask)\u001b[0m\n\u001b[1;32m     14\u001b[0m     \u001b[0;31m# it has 1 layer of multi-headed attention\u001b[0m\u001b[0;34m\u001b[0m\u001b[0;34m\u001b[0m\u001b[0m\n\u001b[1;32m     15\u001b[0m     \u001b[0;32mdef\u001b[0m \u001b[0mcall\u001b[0m\u001b[0;34m(\u001b[0m\u001b[0mself\u001b[0m\u001b[0;34m,\u001b[0m \u001b[0mx\u001b[0m\u001b[0;34m,\u001b[0m \u001b[0mtraining\u001b[0m\u001b[0;34m,\u001b[0m \u001b[0mmask\u001b[0m\u001b[0;34m)\u001b[0m\u001b[0;34m:\u001b[0m\u001b[0;34m\u001b[0m\u001b[0;34m\u001b[0m\u001b[0m\n\u001b[0;32m---> 16\u001b[0;31m         \u001b[0mattn_output\u001b[0m\u001b[0;34m,\u001b[0m \u001b[0m_\u001b[0m \u001b[0;34m=\u001b[0m \u001b[0mself\u001b[0m\u001b[0;34m.\u001b[0m\u001b[0mmha\u001b[0m\u001b[0;34m(\u001b[0m\u001b[0mx\u001b[0m\u001b[0;34m,\u001b[0m \u001b[0mx\u001b[0m\u001b[0;34m,\u001b[0m \u001b[0mx\u001b[0m\u001b[0;34m,\u001b[0m \u001b[0mmask\u001b[0m\u001b[0;34m)\u001b[0m\u001b[0;34m\u001b[0m\u001b[0;34m\u001b[0m\u001b[0m\n\u001b[0m\u001b[1;32m     17\u001b[0m         \u001b[0mattn_output\u001b[0m \u001b[0;34m=\u001b[0m \u001b[0mself\u001b[0m\u001b[0;34m.\u001b[0m\u001b[0mdropout1\u001b[0m\u001b[0;34m(\u001b[0m\u001b[0mattn_output\u001b[0m\u001b[0;34m,\u001b[0m \u001b[0mtraining\u001b[0m\u001b[0;34m=\u001b[0m\u001b[0mtraining\u001b[0m\u001b[0;34m)\u001b[0m\u001b[0;34m\u001b[0m\u001b[0;34m\u001b[0m\u001b[0m\n\u001b[1;32m     18\u001b[0m         \u001b[0mout1\u001b[0m \u001b[0;34m=\u001b[0m \u001b[0mself\u001b[0m\u001b[0;34m.\u001b[0m\u001b[0mlayernorm1\u001b[0m\u001b[0;34m(\u001b[0m\u001b[0mx\u001b[0m \u001b[0;34m+\u001b[0m \u001b[0mattn_output\u001b[0m\u001b[0;34m)\u001b[0m\u001b[0;34m\u001b[0m\u001b[0;34m\u001b[0m\u001b[0m\n",
            "\u001b[0;32m/usr/local/lib/python3.10/dist-packages/keras/utils/traceback_utils.py\u001b[0m in \u001b[0;36merror_handler\u001b[0;34m(*args, **kwargs)\u001b[0m\n\u001b[1;32m     63\u001b[0m         \u001b[0mfiltered_tb\u001b[0m \u001b[0;34m=\u001b[0m \u001b[0;32mNone\u001b[0m\u001b[0;34m\u001b[0m\u001b[0;34m\u001b[0m\u001b[0m\n\u001b[1;32m     64\u001b[0m         \u001b[0;32mtry\u001b[0m\u001b[0;34m:\u001b[0m\u001b[0;34m\u001b[0m\u001b[0;34m\u001b[0m\u001b[0m\n\u001b[0;32m---> 65\u001b[0;31m             \u001b[0;32mreturn\u001b[0m \u001b[0mfn\u001b[0m\u001b[0;34m(\u001b[0m\u001b[0;34m*\u001b[0m\u001b[0margs\u001b[0m\u001b[0;34m,\u001b[0m \u001b[0;34m**\u001b[0m\u001b[0mkwargs\u001b[0m\u001b[0;34m)\u001b[0m\u001b[0;34m\u001b[0m\u001b[0;34m\u001b[0m\u001b[0m\n\u001b[0m\u001b[1;32m     66\u001b[0m         \u001b[0;32mexcept\u001b[0m \u001b[0mException\u001b[0m \u001b[0;32mas\u001b[0m \u001b[0me\u001b[0m\u001b[0;34m:\u001b[0m\u001b[0;34m\u001b[0m\u001b[0;34m\u001b[0m\u001b[0m\n\u001b[1;32m     67\u001b[0m             \u001b[0mfiltered_tb\u001b[0m \u001b[0;34m=\u001b[0m \u001b[0m_process_traceback_frames\u001b[0m\u001b[0;34m(\u001b[0m\u001b[0me\u001b[0m\u001b[0;34m.\u001b[0m\u001b[0m__traceback__\u001b[0m\u001b[0;34m)\u001b[0m\u001b[0;34m\u001b[0m\u001b[0;34m\u001b[0m\u001b[0m\n",
            "\u001b[0;32m/usr/local/lib/python3.10/dist-packages/keras/engine/base_layer.py\u001b[0m in \u001b[0;36m__call__\u001b[0;34m(self, *args, **kwargs)\u001b[0m\n\u001b[1;32m   1143\u001b[0m                     \u001b[0mself\u001b[0m\u001b[0;34m.\u001b[0m\u001b[0m_compute_dtype_object\u001b[0m\u001b[0;34m\u001b[0m\u001b[0;34m\u001b[0m\u001b[0m\n\u001b[1;32m   1144\u001b[0m                 ):\n\u001b[0;32m-> 1145\u001b[0;31m                     \u001b[0moutputs\u001b[0m \u001b[0;34m=\u001b[0m \u001b[0mcall_fn\u001b[0m\u001b[0;34m(\u001b[0m\u001b[0minputs\u001b[0m\u001b[0;34m,\u001b[0m \u001b[0;34m*\u001b[0m\u001b[0margs\u001b[0m\u001b[0;34m,\u001b[0m \u001b[0;34m**\u001b[0m\u001b[0mkwargs\u001b[0m\u001b[0;34m)\u001b[0m\u001b[0;34m\u001b[0m\u001b[0;34m\u001b[0m\u001b[0m\n\u001b[0m\u001b[1;32m   1146\u001b[0m \u001b[0;34m\u001b[0m\u001b[0m\n\u001b[1;32m   1147\u001b[0m                 \u001b[0;32mif\u001b[0m \u001b[0mself\u001b[0m\u001b[0;34m.\u001b[0m\u001b[0m_activity_regularizer\u001b[0m\u001b[0;34m:\u001b[0m\u001b[0;34m\u001b[0m\u001b[0;34m\u001b[0m\u001b[0m\n",
            "\u001b[0;32m/usr/local/lib/python3.10/dist-packages/keras/utils/traceback_utils.py\u001b[0m in \u001b[0;36merror_handler\u001b[0;34m(*args, **kwargs)\u001b[0m\n\u001b[1;32m     94\u001b[0m         \u001b[0mbound_signature\u001b[0m \u001b[0;34m=\u001b[0m \u001b[0;32mNone\u001b[0m\u001b[0;34m\u001b[0m\u001b[0;34m\u001b[0m\u001b[0m\n\u001b[1;32m     95\u001b[0m         \u001b[0;32mtry\u001b[0m\u001b[0;34m:\u001b[0m\u001b[0;34m\u001b[0m\u001b[0;34m\u001b[0m\u001b[0m\n\u001b[0;32m---> 96\u001b[0;31m             \u001b[0;32mreturn\u001b[0m \u001b[0mfn\u001b[0m\u001b[0;34m(\u001b[0m\u001b[0;34m*\u001b[0m\u001b[0margs\u001b[0m\u001b[0;34m,\u001b[0m \u001b[0;34m**\u001b[0m\u001b[0mkwargs\u001b[0m\u001b[0;34m)\u001b[0m\u001b[0;34m\u001b[0m\u001b[0;34m\u001b[0m\u001b[0m\n\u001b[0m\u001b[1;32m     97\u001b[0m         \u001b[0;32mexcept\u001b[0m \u001b[0mException\u001b[0m \u001b[0;32mas\u001b[0m \u001b[0me\u001b[0m\u001b[0;34m:\u001b[0m\u001b[0;34m\u001b[0m\u001b[0;34m\u001b[0m\u001b[0m\n\u001b[1;32m     98\u001b[0m             \u001b[0;32mif\u001b[0m \u001b[0mhasattr\u001b[0m\u001b[0;34m(\u001b[0m\u001b[0me\u001b[0m\u001b[0;34m,\u001b[0m \u001b[0;34m\"_keras_call_info_injected\"\u001b[0m\u001b[0;34m)\u001b[0m\u001b[0;34m:\u001b[0m\u001b[0;34m\u001b[0m\u001b[0;34m\u001b[0m\u001b[0m\n",
            "\u001b[0;32m<ipython-input-25-2cefb9d7f943>\u001b[0m in \u001b[0;36mcall\u001b[0;34m(self, v, k, q, mask)\u001b[0m\n\u001b[1;32m     34\u001b[0m         \u001b[0mv\u001b[0m \u001b[0;34m=\u001b[0m \u001b[0mself\u001b[0m\u001b[0;34m.\u001b[0m\u001b[0msplit_heads\u001b[0m\u001b[0;34m(\u001b[0m\u001b[0mv\u001b[0m\u001b[0;34m,\u001b[0m \u001b[0mbatch_size\u001b[0m\u001b[0;34m)\u001b[0m\u001b[0;34m\u001b[0m\u001b[0;34m\u001b[0m\u001b[0m\n\u001b[1;32m     35\u001b[0m \u001b[0;34m\u001b[0m\u001b[0m\n\u001b[0;32m---> 36\u001b[0;31m         scaled_attention, attention_weights = scaled_dot_product_attention(\n\u001b[0m\u001b[1;32m     37\u001b[0m             q, k, v, mask)\n\u001b[1;32m     38\u001b[0m \u001b[0;34m\u001b[0m\u001b[0m\n",
            "\u001b[0;32m<ipython-input-24-aaf033c96e1e>\u001b[0m in \u001b[0;36mscaled_dot_product_attention\u001b[0;34m(q, k, v, mask)\u001b[0m\n\u001b[1;32m      3\u001b[0m     \u001b[0mmatmul_qk\u001b[0m \u001b[0;34m=\u001b[0m \u001b[0mtf\u001b[0m\u001b[0;34m.\u001b[0m\u001b[0mmatmul\u001b[0m\u001b[0;34m(\u001b[0m\u001b[0mq\u001b[0m\u001b[0;34m,\u001b[0m \u001b[0mk\u001b[0m\u001b[0;34m,\u001b[0m \u001b[0mtranspose_b\u001b[0m\u001b[0;34m=\u001b[0m\u001b[0;32mTrue\u001b[0m\u001b[0;34m)\u001b[0m\u001b[0;34m\u001b[0m\u001b[0;34m\u001b[0m\u001b[0m\n\u001b[1;32m      4\u001b[0m \u001b[0;34m\u001b[0m\u001b[0m\n\u001b[0;32m----> 5\u001b[0;31m     \u001b[0mdk\u001b[0m \u001b[0;34m=\u001b[0m \u001b[0mtf\u001b[0m\u001b[0;34m.\u001b[0m\u001b[0mcast\u001b[0m\u001b[0;34m(\u001b[0m\u001b[0mtf\u001b[0m\u001b[0;34m.\u001b[0m\u001b[0mshape\u001b[0m\u001b[0;34m(\u001b[0m\u001b[0mk\u001b[0m\u001b[0;34m)\u001b[0m\u001b[0;34m[\u001b[0m\u001b[0;34m-\u001b[0m\u001b[0;36m1\u001b[0m\u001b[0;34m]\u001b[0m\u001b[0;34m,\u001b[0m \u001b[0mtf\u001b[0m\u001b[0;34m.\u001b[0m\u001b[0mfloat32\u001b[0m\u001b[0;34m)\u001b[0m\u001b[0;34m\u001b[0m\u001b[0;34m\u001b[0m\u001b[0m\n\u001b[0m\u001b[1;32m      6\u001b[0m     \u001b[0mscaled_attention_logits\u001b[0m \u001b[0;34m=\u001b[0m \u001b[0mmatmul_qk\u001b[0m \u001b[0;34m/\u001b[0m \u001b[0mtf\u001b[0m\u001b[0;34m.\u001b[0m\u001b[0mmath\u001b[0m\u001b[0;34m.\u001b[0m\u001b[0msqrt\u001b[0m\u001b[0;34m(\u001b[0m\u001b[0mdk\u001b[0m\u001b[0;34m)\u001b[0m\u001b[0;34m\u001b[0m\u001b[0;34m\u001b[0m\u001b[0m\n\u001b[1;32m      7\u001b[0m \u001b[0;34m\u001b[0m\u001b[0m\n",
            "\u001b[0;32m/usr/local/lib/python3.10/dist-packages/tensorflow/python/util/traceback_utils.py\u001b[0m in \u001b[0;36merror_handler\u001b[0;34m(*args, **kwargs)\u001b[0m\n\u001b[1;32m    148\u001b[0m     \u001b[0mfiltered_tb\u001b[0m \u001b[0;34m=\u001b[0m \u001b[0;32mNone\u001b[0m\u001b[0;34m\u001b[0m\u001b[0;34m\u001b[0m\u001b[0m\n\u001b[1;32m    149\u001b[0m     \u001b[0;32mtry\u001b[0m\u001b[0;34m:\u001b[0m\u001b[0;34m\u001b[0m\u001b[0;34m\u001b[0m\u001b[0m\n\u001b[0;32m--> 150\u001b[0;31m       \u001b[0;32mreturn\u001b[0m \u001b[0mfn\u001b[0m\u001b[0;34m(\u001b[0m\u001b[0;34m*\u001b[0m\u001b[0margs\u001b[0m\u001b[0;34m,\u001b[0m \u001b[0;34m**\u001b[0m\u001b[0mkwargs\u001b[0m\u001b[0;34m)\u001b[0m\u001b[0;34m\u001b[0m\u001b[0;34m\u001b[0m\u001b[0m\n\u001b[0m\u001b[1;32m    151\u001b[0m     \u001b[0;32mexcept\u001b[0m \u001b[0mException\u001b[0m \u001b[0;32mas\u001b[0m \u001b[0me\u001b[0m\u001b[0;34m:\u001b[0m\u001b[0;34m\u001b[0m\u001b[0;34m\u001b[0m\u001b[0m\n\u001b[1;32m    152\u001b[0m       \u001b[0mfiltered_tb\u001b[0m \u001b[0;34m=\u001b[0m \u001b[0m_process_traceback_frames\u001b[0m\u001b[0;34m(\u001b[0m\u001b[0me\u001b[0m\u001b[0;34m.\u001b[0m\u001b[0m__traceback__\u001b[0m\u001b[0;34m)\u001b[0m\u001b[0;34m\u001b[0m\u001b[0;34m\u001b[0m\u001b[0m\n",
            "\u001b[0;32m/usr/local/lib/python3.10/dist-packages/tensorflow/python/util/dispatch.py\u001b[0m in \u001b[0;36mop_dispatch_handler\u001b[0;34m(*args, **kwargs)\u001b[0m\n\u001b[1;32m   1174\u001b[0m       \u001b[0;31m# Fallback dispatch system (dispatch v1):\u001b[0m\u001b[0;34m\u001b[0m\u001b[0;34m\u001b[0m\u001b[0m\n\u001b[1;32m   1175\u001b[0m       \u001b[0;32mtry\u001b[0m\u001b[0;34m:\u001b[0m\u001b[0;34m\u001b[0m\u001b[0;34m\u001b[0m\u001b[0m\n\u001b[0;32m-> 1176\u001b[0;31m         \u001b[0;32mreturn\u001b[0m \u001b[0mdispatch_target\u001b[0m\u001b[0;34m(\u001b[0m\u001b[0;34m*\u001b[0m\u001b[0margs\u001b[0m\u001b[0;34m,\u001b[0m \u001b[0;34m**\u001b[0m\u001b[0mkwargs\u001b[0m\u001b[0;34m)\u001b[0m\u001b[0;34m\u001b[0m\u001b[0;34m\u001b[0m\u001b[0m\n\u001b[0m\u001b[1;32m   1177\u001b[0m       \u001b[0;32mexcept\u001b[0m \u001b[0;34m(\u001b[0m\u001b[0mTypeError\u001b[0m\u001b[0;34m,\u001b[0m \u001b[0mValueError\u001b[0m\u001b[0;34m)\u001b[0m\u001b[0;34m:\u001b[0m\u001b[0;34m\u001b[0m\u001b[0;34m\u001b[0m\u001b[0m\n\u001b[1;32m   1178\u001b[0m         \u001b[0;31m# Note: convert_to_eager_tensor currently raises a ValueError, not a\u001b[0m\u001b[0;34m\u001b[0m\u001b[0;34m\u001b[0m\u001b[0m\n",
            "\u001b[0;32m/usr/local/lib/python3.10/dist-packages/tensorflow/python/ops/math_ops.py\u001b[0m in \u001b[0;36mcast\u001b[0;34m(x, dtype, name)\u001b[0m\n\u001b[1;32m   1016\u001b[0m         )\n\u001b[1;32m   1017\u001b[0m       \u001b[0;32mif\u001b[0m \u001b[0mx\u001b[0m\u001b[0;34m.\u001b[0m\u001b[0mdtype\u001b[0m \u001b[0;34m!=\u001b[0m \u001b[0mbase_type\u001b[0m\u001b[0;34m:\u001b[0m\u001b[0;34m\u001b[0m\u001b[0;34m\u001b[0m\u001b[0m\n\u001b[0;32m-> 1018\u001b[0;31m         \u001b[0mx\u001b[0m \u001b[0;34m=\u001b[0m \u001b[0mgen_math_ops\u001b[0m\u001b[0;34m.\u001b[0m\u001b[0mcast\u001b[0m\u001b[0;34m(\u001b[0m\u001b[0mx\u001b[0m\u001b[0;34m,\u001b[0m \u001b[0mbase_type\u001b[0m\u001b[0;34m,\u001b[0m \u001b[0mname\u001b[0m\u001b[0;34m=\u001b[0m\u001b[0mname\u001b[0m\u001b[0;34m)\u001b[0m\u001b[0;34m\u001b[0m\u001b[0;34m\u001b[0m\u001b[0m\n\u001b[0m\u001b[1;32m   1019\u001b[0m     \u001b[0;32mreturn\u001b[0m \u001b[0mx\u001b[0m\u001b[0;34m\u001b[0m\u001b[0;34m\u001b[0m\u001b[0m\n\u001b[1;32m   1020\u001b[0m \u001b[0;34m\u001b[0m\u001b[0m\n",
            "\u001b[0;32m/usr/local/lib/python3.10/dist-packages/tensorflow/python/ops/gen_math_ops.py\u001b[0m in \u001b[0;36mcast\u001b[0;34m(x, DstT, Truncate, name)\u001b[0m\n\u001b[1;32m   1994\u001b[0m   \u001b[0;32mif\u001b[0m \u001b[0mtld\u001b[0m\u001b[0;34m.\u001b[0m\u001b[0mis_eager\u001b[0m\u001b[0;34m:\u001b[0m\u001b[0;34m\u001b[0m\u001b[0;34m\u001b[0m\u001b[0m\n\u001b[1;32m   1995\u001b[0m     \u001b[0;32mtry\u001b[0m\u001b[0;34m:\u001b[0m\u001b[0;34m\u001b[0m\u001b[0;34m\u001b[0m\u001b[0m\n\u001b[0;32m-> 1996\u001b[0;31m       _result = pywrap_tfe.TFE_Py_FastPathExecute(\n\u001b[0m\u001b[1;32m   1997\u001b[0m         _ctx, \"Cast\", name, x, \"DstT\", DstT, \"Truncate\", Truncate)\n\u001b[1;32m   1998\u001b[0m       \u001b[0;32mreturn\u001b[0m \u001b[0m_result\u001b[0m\u001b[0;34m\u001b[0m\u001b[0;34m\u001b[0m\u001b[0m\n",
            "\u001b[0;31mKeyboardInterrupt\u001b[0m: "
          ]
        }
      ],
      "source": [
        "print(params)\n",
        "print('#'*40)\n",
        "\n",
        "for epoch in range(ep,100):     #EPOCHS+1):\n",
        "    ep = epoch\n",
        "    start = time.time()\n",
        "\n",
        "    train_loss.reset_states()\n",
        "\n",
        "    for (batch, (inp, tar)) in enumerate(dataset):\n",
        "        train_step(inp, tar)\n",
        "\n",
        "        if batch % 200 == 0:\n",
        "            print ('Epoch {} Batch {} Loss {:.4f}'.format(epoch , batch, train_loss.result()))\n",
        "\n",
        "    print()\n",
        "    print(\"Summary Tokenizer Word Index:\", summary_tokenizer.word_index)\n",
        "\n",
        "    print(summarize(clean_words(longreview_val['long'][i1])))\n",
        "    # print(summarize(clean_words(longreview_val['long'][i2])))\n",
        "    # print(summarize(clean_words(longreview_val['long'][i3])))\n",
        "    # print(summarize(clean_words(longreview_val['long'][i4])))\n",
        "    # print()\n",
        "\n",
        "    val_loss_ = validate().numpy()\n",
        "    history['val'].append((epoch,val_loss_))\n",
        "    print ('\\n* Train Loss {:.4f}'.format(train_loss.result()))\n",
        "    history['train'].append((epoch,train_loss.result().numpy()))\n",
        "\n",
        "\n",
        "    if best_val_loss-val_loss_ > 0.1:\n",
        "        ckpt_save_path4 = ckpt_manager4.save()\n",
        "        print ('\\nSaving checkpoint for epoch {} at {}'.format(epoch, ckpt_save_path4))\n",
        "        best_val_loss = val_loss_\n",
        "\n",
        "    hist(history)\n",
        "    #print('Current Lr: ',optimizer2._decayed_lr('float32').numpy())\n",
        "    print ('\\nTime taken for this epoch: {:.2f} secs\\n'.format(time.time() - start))\n",
        "    print('='*40)"
      ]
    },
    {
      "cell_type": "markdown",
      "metadata": {
        "id": "LPWjHN5W2PUY"
      },
      "source": [
        "output removed to reduce file size for github"
      ]
    },
    {
      "cell_type": "code",
      "execution_count": 49,
      "metadata": {
        "colab": {
          "base_uri": "https://localhost:8080/",
          "height": 591
        },
        "id": "lUbKDpsV2PUY",
        "outputId": "c5b07c57-bdec-4b3e-be02-e23d383d6fc2"
      },
      "outputs": [
        {
          "output_type": "display_data",
          "data": {
            "text/plain": [
              "<Figure size 640x480 with 1 Axes>"
            ],
            "image/png": "[encoded data removed]"
          },
          "metadata": {}
        },
        {
          "output_type": "stream",
          "name": "stdout",
          "text": [
            "smallest val loss: (11, 2.452655)\n"
          ]
        },
        {
          "output_type": "execute_result",
          "data": {
            "text/plain": [
              "{'lmbda_l2': 0.1,\n",
              " 'd_out_rate': 0.1,\n",
              " 'num_layers': 4,\n",
              " 'd_model': 50,\n",
              " 'dff': 512,\n",
              " 'num_heads': 5,\n",
              " 'init_lr': 0.001}"
            ]
          },
          "metadata": {},
          "execution_count": 49
        }
      ],
      "source": [
        "hist(history)\n",
        "params"
      ]
    },
    {
      "cell_type": "markdown",
      "metadata": {
        "id": "RXPoMcFS2PUZ"
      },
      "source": [
        "you can use more data or more regularization to avoid the overfitting"
      ]
    },
    {
      "cell_type": "code",
      "execution_count": 55,
      "metadata": {
        "colab": {
          "base_uri": "https://localhost:8080/"
        },
        "id": "35nCcXkA2PUa",
        "outputId": "6e1dd6fd-9d02-4c0d-caab-40cabd1c164a"
      },
      "outputs": [
        {
          "output_type": "stream",
          "name": "stdout",
          "text": [
            "\n",
            "<UNK> <UNK> <UNK> <UNK> <UNK> <UNK> <UNK> <UNK> <UNK> <UNK> <UNK> <UNK> <UNK> <UNK> <UNK> <UNK> <UNK> <UNK> <UNK> <UNK> <UNK> <UNK> <UNK> <UNK> <UNK> <UNK>\n"
          ]
        }
      ],
      "source": [
        "#print(clean_words(longreview_val['long'][i1]))\n",
        "print()\n",
        "print(summarize((longreview_train['long'][0])))\n",
        "#print(summarize(clean_words(\"the full cost of damage in newton stewart one of the areas worst affected is still being assessed repair work is ongoing in hawick and many roads in peeblesshire remain badly affected by standing water trains on the west coast mainline face disruption due to damage at the lamington viaduct many businesses and householders were affected by flooding in newton stewart after the river cree overflowed into the town first minister nicola sturgeon visited the area to inspect the damage the waters breached a retaining wall flooding many commercial properties on victoria street  the main shopping thoroughfare jeanette tate who owns the cinnamon cafe which was badly affected said she could not fault the multiagency response once the flood hit however she said more preventative work could have been carried out to ensure the retaining wall did not fail it is difficult but i do think there is so much publicity for dumfries and the nith  and i totally appreciate that  but it is almost like we are neglected or forgotten she said\")))"
      ]
    },
    {
      "cell_type": "code",
      "execution_count": null,
      "metadata": {
        "id": "-ZtHAkoT2PUb"
      },
      "outputs": [],
      "source": [
        "print(clean_words(longreview_val['long'][i2]))\n",
        "print()\n",
        "print(summarize(clean_words(longreview_val['long'][i2])))"
      ]
    },
    {
      "cell_type": "code",
      "execution_count": null,
      "metadata": {
        "id": "i-jjbots2PUc"
      },
      "outputs": [],
      "source": [
        "print(summarize((\"A reverse proxy is a server that sits in front of web servers and forwards client (e.g. web browser) requests to those web servers. Reverse proxies are typically implemented to help increase security, performance, and reliability. In order to better understand how a reverse proxy works and the benefits it can provide, let’s first define what a proxy server is.\")))"
      ]
    }
  ],
  "metadata": {
    "kernelspec": {
      "display_name": "Python 3",
      "name": "python3"
    },
    "language_info": {
      "codemirror_mode": {
        "name": "ipython",
        "version": 3
      },
      "file_extension": ".py",
      "mimetype": "text/x-python",
      "name": "python",
      "nbconvert_exporter": "python",
      "pygments_lexer": "ipython3",
      "version": "3.7.3"
    },
    "colab": {
      "provenance": [],
      "toc_visible": true,
      "gpuType": "T4"
    },
    "accelerator": "GPU"
  },
  "nbformat": 4,
  "nbformat_minor": 0
}